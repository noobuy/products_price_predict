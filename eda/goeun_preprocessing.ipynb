{
 "cells": [
  {
   "cell_type": "code",
   "execution_count": 66,
   "id": "362e6be0",
   "metadata": {
    "ExecuteTime": {
     "end_time": "2022-10-16T10:08:37.362688Z",
     "start_time": "2022-10-16T10:08:36.628687Z"
    }
   },
   "outputs": [],
   "source": [
    "import matplotlib.pyplot as plt\n",
    "plt.rcParams['font.family'] = 'AppleGothic'\n",
    "# import tensorflow as tf\n",
    "# import keras\n",
    "from numpy import array\n",
    "import pandas as pd\n",
    "import matplotlib.pyplot as plt\n",
    "import numpy as np\n",
    "import math\n",
    "import matplotlib as mpl\n",
    "from IPython.core.display import display, HTML\n",
    "from datetime import datetime\n",
    "from datetime import timedelta\n",
    "from dateutil.relativedelta import relativedelta\n",
    "from sklearn.preprocessing import MinMaxScaler, RobustScaler\n",
    "# from sklearn.model_selection import train_test_split, RandomizedSearchCV\n",
    "from sklearn.metrics import mean_squared_error, r2_score, mean_absolute_error\n",
    "# from tensorflow.keras import Sequential\n",
    "# from tensorflow.keras import layers\n",
    "# from tensorflow.keras.layers import Dense, LSTM, Dropout\n",
    "# from keras.callbacks import ModelCheckpoint, EarlyStopping\n",
    "# from statsmodels.tsa.seasonal import seasonal_decompose, STL\n",
    "import urllib.request\n",
    "import requests\n",
    "import json\n",
    "import datetime\n",
    "import os\n",
    "from datetime import datetime\n",
    "from sklearn.ensemble import RandomForestRegressor\n",
    "import seaborn as sns\n",
    "from tqdm import tqdm\n",
    "import pandas as pd\n",
    "\n",
    "import warnings\n",
    "warnings.filterwarnings('ignore')"
   ]
  },
  {
   "cell_type": "markdown",
   "id": "de28ab3a",
   "metadata": {},
   "source": [
    "# 0. 데이터셋(dataset)\n",
    "\n",
    "**train** 20160101 ~ 20200928 <br> \n",
    "**test** 20200929 ~ 20201105\n",
    "\n",
    "EDA와 기본 모델을 만들때 사용 <br>\n",
    "train + test 합친 프레임(토마토, 포도) = df"
   ]
  },
  {
   "cell_type": "code",
   "execution_count": 67,
   "id": "576bb4aa",
   "metadata": {
    "ExecuteTime": {
     "end_time": "2022-10-16T10:08:38.229774Z",
     "start_time": "2022-10-16T10:08:38.223915Z"
    }
   },
   "outputs": [],
   "source": [
    "# Macbook\n",
    "raw_path = '/Users/goeun/Documents/YearDream/ProJect/kurly_project/products_price_predict/data/raw/'\n",
    "processed_path = '/Users/goeun/Documents/YearDream/ProJect/kurly_project/products_price_predict/data/processed/'"
   ]
  },
  {
   "cell_type": "code",
   "execution_count": 5,
   "id": "75f52e74",
   "metadata": {
    "ExecuteTime": {
     "end_time": "2022-10-16T10:05:10.620425Z",
     "start_time": "2022-10-16T10:05:10.613717Z"
    }
   },
   "outputs": [],
   "source": [
    "# iMACA\n",
    "# raw_path = '/Users/cge/Documents/yeardream/프로젝트/기업프로젝트/products_price_predict/data/raw/'\n",
    "# processed_path = '/Users/cge/Documents/yeardream/프로젝트/기업프로젝트/products_price_predict/data/processed/'"
   ]
  },
  {
   "cell_type": "code",
   "execution_count": 68,
   "id": "b62422c2",
   "metadata": {},
   "outputs": [
    {
     "ename": "FileNotFoundError",
     "evalue": "[Errno 2] No such file or directory: '/Users/goeun/Documents/YearDream/ProJect/kurly_project/products_price_predict/data/processed/test.csv'",
     "output_type": "error",
     "traceback": [
      "\u001b[0;31m---------------------------------------------------------------------------\u001b[0m",
      "\u001b[0;31mFileNotFoundError\u001b[0m                         Traceback (most recent call last)",
      "\u001b[1;32m/Users/goeun/Documents/YearDream/ProJect/kurly_project/products_price_predict/eda/goeun_preprocessing.ipynb Cell 5'\u001b[0m in \u001b[0;36m<cell line: 3>\u001b[0;34m()\u001b[0m\n\u001b[1;32m      <a href='vscode-notebook-cell:/Users/goeun/Documents/YearDream/ProJect/kurly_project/products_price_predict/eda/goeun_preprocessing.ipynb#ch0000005?line=0'>1</a>\u001b[0m \u001b[39m# train = pd.read_csv(raw_path + 'train.csv')\u001b[39;00m\n\u001b[1;32m      <a href='vscode-notebook-cell:/Users/goeun/Documents/YearDream/ProJect/kurly_project/products_price_predict/eda/goeun_preprocessing.ipynb#ch0000005?line=1'>2</a>\u001b[0m \u001b[39m# test = pd.read_csv(raw_path + 'test.csv')\u001b[39;00m\n\u001b[0;32m----> <a href='vscode-notebook-cell:/Users/goeun/Documents/YearDream/ProJect/kurly_project/products_price_predict/eda/goeun_preprocessing.ipynb#ch0000005?line=2'>3</a>\u001b[0m df \u001b[39m=\u001b[39m pd\u001b[39m.\u001b[39;49mread_csv(processed_path \u001b[39m+\u001b[39;49m \u001b[39m'\u001b[39;49m\u001b[39mtest.csv\u001b[39;49m\u001b[39m'\u001b[39;49m)\n\u001b[1;32m      <a href='vscode-notebook-cell:/Users/goeun/Documents/YearDream/ProJect/kurly_project/products_price_predict/eda/goeun_preprocessing.ipynb#ch0000005?line=4'>5</a>\u001b[0m private \u001b[39m=\u001b[39m pd\u001b[39m.\u001b[39mread_csv(raw_path \u001b[39m+\u001b[39m\u001b[39m'\u001b[39m\u001b[39mpreprocessing.csv\u001b[39m\u001b[39m'\u001b[39m)\n\u001b[1;32m      <a href='vscode-notebook-cell:/Users/goeun/Documents/YearDream/ProJect/kurly_project/products_price_predict/eda/goeun_preprocessing.ipynb#ch0000005?line=5'>6</a>\u001b[0m df_private \u001b[39m=\u001b[39m pd\u001b[39m.\u001b[39mconcat([df, private])\u001b[39m.\u001b[39mreset_index()\n",
      "File \u001b[0;32m/opt/homebrew/Caskroom/miniforge/base/envs/cge/lib/python3.8/site-packages/pandas/util/_decorators.py:311\u001b[0m, in \u001b[0;36mdeprecate_nonkeyword_arguments.<locals>.decorate.<locals>.wrapper\u001b[0;34m(*args, **kwargs)\u001b[0m\n\u001b[1;32m    <a href='file:///opt/homebrew/Caskroom/miniforge/base/envs/cge/lib/python3.8/site-packages/pandas/util/_decorators.py?line=304'>305</a>\u001b[0m \u001b[39mif\u001b[39;00m \u001b[39mlen\u001b[39m(args) \u001b[39m>\u001b[39m num_allow_args:\n\u001b[1;32m    <a href='file:///opt/homebrew/Caskroom/miniforge/base/envs/cge/lib/python3.8/site-packages/pandas/util/_decorators.py?line=305'>306</a>\u001b[0m     warnings\u001b[39m.\u001b[39mwarn(\n\u001b[1;32m    <a href='file:///opt/homebrew/Caskroom/miniforge/base/envs/cge/lib/python3.8/site-packages/pandas/util/_decorators.py?line=306'>307</a>\u001b[0m         msg\u001b[39m.\u001b[39mformat(arguments\u001b[39m=\u001b[39marguments),\n\u001b[1;32m    <a href='file:///opt/homebrew/Caskroom/miniforge/base/envs/cge/lib/python3.8/site-packages/pandas/util/_decorators.py?line=307'>308</a>\u001b[0m         \u001b[39mFutureWarning\u001b[39;00m,\n\u001b[1;32m    <a href='file:///opt/homebrew/Caskroom/miniforge/base/envs/cge/lib/python3.8/site-packages/pandas/util/_decorators.py?line=308'>309</a>\u001b[0m         stacklevel\u001b[39m=\u001b[39mstacklevel,\n\u001b[1;32m    <a href='file:///opt/homebrew/Caskroom/miniforge/base/envs/cge/lib/python3.8/site-packages/pandas/util/_decorators.py?line=309'>310</a>\u001b[0m     )\n\u001b[0;32m--> <a href='file:///opt/homebrew/Caskroom/miniforge/base/envs/cge/lib/python3.8/site-packages/pandas/util/_decorators.py?line=310'>311</a>\u001b[0m \u001b[39mreturn\u001b[39;00m func(\u001b[39m*\u001b[39;49margs, \u001b[39m*\u001b[39;49m\u001b[39m*\u001b[39;49mkwargs)\n",
      "File \u001b[0;32m/opt/homebrew/Caskroom/miniforge/base/envs/cge/lib/python3.8/site-packages/pandas/io/parsers/readers.py:680\u001b[0m, in \u001b[0;36mread_csv\u001b[0;34m(filepath_or_buffer, sep, delimiter, header, names, index_col, usecols, squeeze, prefix, mangle_dupe_cols, dtype, engine, converters, true_values, false_values, skipinitialspace, skiprows, skipfooter, nrows, na_values, keep_default_na, na_filter, verbose, skip_blank_lines, parse_dates, infer_datetime_format, keep_date_col, date_parser, dayfirst, cache_dates, iterator, chunksize, compression, thousands, decimal, lineterminator, quotechar, quoting, doublequote, escapechar, comment, encoding, encoding_errors, dialect, error_bad_lines, warn_bad_lines, on_bad_lines, delim_whitespace, low_memory, memory_map, float_precision, storage_options)\u001b[0m\n\u001b[1;32m    <a href='file:///opt/homebrew/Caskroom/miniforge/base/envs/cge/lib/python3.8/site-packages/pandas/io/parsers/readers.py?line=664'>665</a>\u001b[0m kwds_defaults \u001b[39m=\u001b[39m _refine_defaults_read(\n\u001b[1;32m    <a href='file:///opt/homebrew/Caskroom/miniforge/base/envs/cge/lib/python3.8/site-packages/pandas/io/parsers/readers.py?line=665'>666</a>\u001b[0m     dialect,\n\u001b[1;32m    <a href='file:///opt/homebrew/Caskroom/miniforge/base/envs/cge/lib/python3.8/site-packages/pandas/io/parsers/readers.py?line=666'>667</a>\u001b[0m     delimiter,\n\u001b[0;32m   (...)\u001b[0m\n\u001b[1;32m    <a href='file:///opt/homebrew/Caskroom/miniforge/base/envs/cge/lib/python3.8/site-packages/pandas/io/parsers/readers.py?line=675'>676</a>\u001b[0m     defaults\u001b[39m=\u001b[39m{\u001b[39m\"\u001b[39m\u001b[39mdelimiter\u001b[39m\u001b[39m\"\u001b[39m: \u001b[39m\"\u001b[39m\u001b[39m,\u001b[39m\u001b[39m\"\u001b[39m},\n\u001b[1;32m    <a href='file:///opt/homebrew/Caskroom/miniforge/base/envs/cge/lib/python3.8/site-packages/pandas/io/parsers/readers.py?line=676'>677</a>\u001b[0m )\n\u001b[1;32m    <a href='file:///opt/homebrew/Caskroom/miniforge/base/envs/cge/lib/python3.8/site-packages/pandas/io/parsers/readers.py?line=677'>678</a>\u001b[0m kwds\u001b[39m.\u001b[39mupdate(kwds_defaults)\n\u001b[0;32m--> <a href='file:///opt/homebrew/Caskroom/miniforge/base/envs/cge/lib/python3.8/site-packages/pandas/io/parsers/readers.py?line=679'>680</a>\u001b[0m \u001b[39mreturn\u001b[39;00m _read(filepath_or_buffer, kwds)\n",
      "File \u001b[0;32m/opt/homebrew/Caskroom/miniforge/base/envs/cge/lib/python3.8/site-packages/pandas/io/parsers/readers.py:575\u001b[0m, in \u001b[0;36m_read\u001b[0;34m(filepath_or_buffer, kwds)\u001b[0m\n\u001b[1;32m    <a href='file:///opt/homebrew/Caskroom/miniforge/base/envs/cge/lib/python3.8/site-packages/pandas/io/parsers/readers.py?line=571'>572</a>\u001b[0m _validate_names(kwds\u001b[39m.\u001b[39mget(\u001b[39m\"\u001b[39m\u001b[39mnames\u001b[39m\u001b[39m\"\u001b[39m, \u001b[39mNone\u001b[39;00m))\n\u001b[1;32m    <a href='file:///opt/homebrew/Caskroom/miniforge/base/envs/cge/lib/python3.8/site-packages/pandas/io/parsers/readers.py?line=573'>574</a>\u001b[0m \u001b[39m# Create the parser.\u001b[39;00m\n\u001b[0;32m--> <a href='file:///opt/homebrew/Caskroom/miniforge/base/envs/cge/lib/python3.8/site-packages/pandas/io/parsers/readers.py?line=574'>575</a>\u001b[0m parser \u001b[39m=\u001b[39m TextFileReader(filepath_or_buffer, \u001b[39m*\u001b[39;49m\u001b[39m*\u001b[39;49mkwds)\n\u001b[1;32m    <a href='file:///opt/homebrew/Caskroom/miniforge/base/envs/cge/lib/python3.8/site-packages/pandas/io/parsers/readers.py?line=576'>577</a>\u001b[0m \u001b[39mif\u001b[39;00m chunksize \u001b[39mor\u001b[39;00m iterator:\n\u001b[1;32m    <a href='file:///opt/homebrew/Caskroom/miniforge/base/envs/cge/lib/python3.8/site-packages/pandas/io/parsers/readers.py?line=577'>578</a>\u001b[0m     \u001b[39mreturn\u001b[39;00m parser\n",
      "File \u001b[0;32m/opt/homebrew/Caskroom/miniforge/base/envs/cge/lib/python3.8/site-packages/pandas/io/parsers/readers.py:933\u001b[0m, in \u001b[0;36mTextFileReader.__init__\u001b[0;34m(self, f, engine, **kwds)\u001b[0m\n\u001b[1;32m    <a href='file:///opt/homebrew/Caskroom/miniforge/base/envs/cge/lib/python3.8/site-packages/pandas/io/parsers/readers.py?line=929'>930</a>\u001b[0m     \u001b[39mself\u001b[39m\u001b[39m.\u001b[39moptions[\u001b[39m\"\u001b[39m\u001b[39mhas_index_names\u001b[39m\u001b[39m\"\u001b[39m] \u001b[39m=\u001b[39m kwds[\u001b[39m\"\u001b[39m\u001b[39mhas_index_names\u001b[39m\u001b[39m\"\u001b[39m]\n\u001b[1;32m    <a href='file:///opt/homebrew/Caskroom/miniforge/base/envs/cge/lib/python3.8/site-packages/pandas/io/parsers/readers.py?line=931'>932</a>\u001b[0m \u001b[39mself\u001b[39m\u001b[39m.\u001b[39mhandles: IOHandles \u001b[39m|\u001b[39m \u001b[39mNone\u001b[39;00m \u001b[39m=\u001b[39m \u001b[39mNone\u001b[39;00m\n\u001b[0;32m--> <a href='file:///opt/homebrew/Caskroom/miniforge/base/envs/cge/lib/python3.8/site-packages/pandas/io/parsers/readers.py?line=932'>933</a>\u001b[0m \u001b[39mself\u001b[39m\u001b[39m.\u001b[39m_engine \u001b[39m=\u001b[39m \u001b[39mself\u001b[39;49m\u001b[39m.\u001b[39;49m_make_engine(f, \u001b[39mself\u001b[39;49m\u001b[39m.\u001b[39;49mengine)\n",
      "File \u001b[0;32m/opt/homebrew/Caskroom/miniforge/base/envs/cge/lib/python3.8/site-packages/pandas/io/parsers/readers.py:1217\u001b[0m, in \u001b[0;36mTextFileReader._make_engine\u001b[0;34m(self, f, engine)\u001b[0m\n\u001b[1;32m   <a href='file:///opt/homebrew/Caskroom/miniforge/base/envs/cge/lib/python3.8/site-packages/pandas/io/parsers/readers.py?line=1212'>1213</a>\u001b[0m     mode \u001b[39m=\u001b[39m \u001b[39m\"\u001b[39m\u001b[39mrb\u001b[39m\u001b[39m\"\u001b[39m\n\u001b[1;32m   <a href='file:///opt/homebrew/Caskroom/miniforge/base/envs/cge/lib/python3.8/site-packages/pandas/io/parsers/readers.py?line=1213'>1214</a>\u001b[0m \u001b[39m# error: No overload variant of \"get_handle\" matches argument types\u001b[39;00m\n\u001b[1;32m   <a href='file:///opt/homebrew/Caskroom/miniforge/base/envs/cge/lib/python3.8/site-packages/pandas/io/parsers/readers.py?line=1214'>1215</a>\u001b[0m \u001b[39m# \"Union[str, PathLike[str], ReadCsvBuffer[bytes], ReadCsvBuffer[str]]\"\u001b[39;00m\n\u001b[1;32m   <a href='file:///opt/homebrew/Caskroom/miniforge/base/envs/cge/lib/python3.8/site-packages/pandas/io/parsers/readers.py?line=1215'>1216</a>\u001b[0m \u001b[39m# , \"str\", \"bool\", \"Any\", \"Any\", \"Any\", \"Any\", \"Any\"\u001b[39;00m\n\u001b[0;32m-> <a href='file:///opt/homebrew/Caskroom/miniforge/base/envs/cge/lib/python3.8/site-packages/pandas/io/parsers/readers.py?line=1216'>1217</a>\u001b[0m \u001b[39mself\u001b[39m\u001b[39m.\u001b[39mhandles \u001b[39m=\u001b[39m get_handle(  \u001b[39m# type: ignore[call-overload]\u001b[39;49;00m\n\u001b[1;32m   <a href='file:///opt/homebrew/Caskroom/miniforge/base/envs/cge/lib/python3.8/site-packages/pandas/io/parsers/readers.py?line=1217'>1218</a>\u001b[0m     f,\n\u001b[1;32m   <a href='file:///opt/homebrew/Caskroom/miniforge/base/envs/cge/lib/python3.8/site-packages/pandas/io/parsers/readers.py?line=1218'>1219</a>\u001b[0m     mode,\n\u001b[1;32m   <a href='file:///opt/homebrew/Caskroom/miniforge/base/envs/cge/lib/python3.8/site-packages/pandas/io/parsers/readers.py?line=1219'>1220</a>\u001b[0m     encoding\u001b[39m=\u001b[39;49m\u001b[39mself\u001b[39;49m\u001b[39m.\u001b[39;49moptions\u001b[39m.\u001b[39;49mget(\u001b[39m\"\u001b[39;49m\u001b[39mencoding\u001b[39;49m\u001b[39m\"\u001b[39;49m, \u001b[39mNone\u001b[39;49;00m),\n\u001b[1;32m   <a href='file:///opt/homebrew/Caskroom/miniforge/base/envs/cge/lib/python3.8/site-packages/pandas/io/parsers/readers.py?line=1220'>1221</a>\u001b[0m     compression\u001b[39m=\u001b[39;49m\u001b[39mself\u001b[39;49m\u001b[39m.\u001b[39;49moptions\u001b[39m.\u001b[39;49mget(\u001b[39m\"\u001b[39;49m\u001b[39mcompression\u001b[39;49m\u001b[39m\"\u001b[39;49m, \u001b[39mNone\u001b[39;49;00m),\n\u001b[1;32m   <a href='file:///opt/homebrew/Caskroom/miniforge/base/envs/cge/lib/python3.8/site-packages/pandas/io/parsers/readers.py?line=1221'>1222</a>\u001b[0m     memory_map\u001b[39m=\u001b[39;49m\u001b[39mself\u001b[39;49m\u001b[39m.\u001b[39;49moptions\u001b[39m.\u001b[39;49mget(\u001b[39m\"\u001b[39;49m\u001b[39mmemory_map\u001b[39;49m\u001b[39m\"\u001b[39;49m, \u001b[39mFalse\u001b[39;49;00m),\n\u001b[1;32m   <a href='file:///opt/homebrew/Caskroom/miniforge/base/envs/cge/lib/python3.8/site-packages/pandas/io/parsers/readers.py?line=1222'>1223</a>\u001b[0m     is_text\u001b[39m=\u001b[39;49mis_text,\n\u001b[1;32m   <a href='file:///opt/homebrew/Caskroom/miniforge/base/envs/cge/lib/python3.8/site-packages/pandas/io/parsers/readers.py?line=1223'>1224</a>\u001b[0m     errors\u001b[39m=\u001b[39;49m\u001b[39mself\u001b[39;49m\u001b[39m.\u001b[39;49moptions\u001b[39m.\u001b[39;49mget(\u001b[39m\"\u001b[39;49m\u001b[39mencoding_errors\u001b[39;49m\u001b[39m\"\u001b[39;49m, \u001b[39m\"\u001b[39;49m\u001b[39mstrict\u001b[39;49m\u001b[39m\"\u001b[39;49m),\n\u001b[1;32m   <a href='file:///opt/homebrew/Caskroom/miniforge/base/envs/cge/lib/python3.8/site-packages/pandas/io/parsers/readers.py?line=1224'>1225</a>\u001b[0m     storage_options\u001b[39m=\u001b[39;49m\u001b[39mself\u001b[39;49m\u001b[39m.\u001b[39;49moptions\u001b[39m.\u001b[39;49mget(\u001b[39m\"\u001b[39;49m\u001b[39mstorage_options\u001b[39;49m\u001b[39m\"\u001b[39;49m, \u001b[39mNone\u001b[39;49;00m),\n\u001b[1;32m   <a href='file:///opt/homebrew/Caskroom/miniforge/base/envs/cge/lib/python3.8/site-packages/pandas/io/parsers/readers.py?line=1225'>1226</a>\u001b[0m )\n\u001b[1;32m   <a href='file:///opt/homebrew/Caskroom/miniforge/base/envs/cge/lib/python3.8/site-packages/pandas/io/parsers/readers.py?line=1226'>1227</a>\u001b[0m \u001b[39massert\u001b[39;00m \u001b[39mself\u001b[39m\u001b[39m.\u001b[39mhandles \u001b[39mis\u001b[39;00m \u001b[39mnot\u001b[39;00m \u001b[39mNone\u001b[39;00m\n\u001b[1;32m   <a href='file:///opt/homebrew/Caskroom/miniforge/base/envs/cge/lib/python3.8/site-packages/pandas/io/parsers/readers.py?line=1227'>1228</a>\u001b[0m f \u001b[39m=\u001b[39m \u001b[39mself\u001b[39m\u001b[39m.\u001b[39mhandles\u001b[39m.\u001b[39mhandle\n",
      "File \u001b[0;32m/opt/homebrew/Caskroom/miniforge/base/envs/cge/lib/python3.8/site-packages/pandas/io/common.py:789\u001b[0m, in \u001b[0;36mget_handle\u001b[0;34m(path_or_buf, mode, encoding, compression, memory_map, is_text, errors, storage_options)\u001b[0m\n\u001b[1;32m    <a href='file:///opt/homebrew/Caskroom/miniforge/base/envs/cge/lib/python3.8/site-packages/pandas/io/common.py?line=783'>784</a>\u001b[0m \u001b[39melif\u001b[39;00m \u001b[39misinstance\u001b[39m(handle, \u001b[39mstr\u001b[39m):\n\u001b[1;32m    <a href='file:///opt/homebrew/Caskroom/miniforge/base/envs/cge/lib/python3.8/site-packages/pandas/io/common.py?line=784'>785</a>\u001b[0m     \u001b[39m# Check whether the filename is to be opened in binary mode.\u001b[39;00m\n\u001b[1;32m    <a href='file:///opt/homebrew/Caskroom/miniforge/base/envs/cge/lib/python3.8/site-packages/pandas/io/common.py?line=785'>786</a>\u001b[0m     \u001b[39m# Binary mode does not support 'encoding' and 'newline'.\u001b[39;00m\n\u001b[1;32m    <a href='file:///opt/homebrew/Caskroom/miniforge/base/envs/cge/lib/python3.8/site-packages/pandas/io/common.py?line=786'>787</a>\u001b[0m     \u001b[39mif\u001b[39;00m ioargs\u001b[39m.\u001b[39mencoding \u001b[39mand\u001b[39;00m \u001b[39m\"\u001b[39m\u001b[39mb\u001b[39m\u001b[39m\"\u001b[39m \u001b[39mnot\u001b[39;00m \u001b[39min\u001b[39;00m ioargs\u001b[39m.\u001b[39mmode:\n\u001b[1;32m    <a href='file:///opt/homebrew/Caskroom/miniforge/base/envs/cge/lib/python3.8/site-packages/pandas/io/common.py?line=787'>788</a>\u001b[0m         \u001b[39m# Encoding\u001b[39;00m\n\u001b[0;32m--> <a href='file:///opt/homebrew/Caskroom/miniforge/base/envs/cge/lib/python3.8/site-packages/pandas/io/common.py?line=788'>789</a>\u001b[0m         handle \u001b[39m=\u001b[39m \u001b[39mopen\u001b[39;49m(\n\u001b[1;32m    <a href='file:///opt/homebrew/Caskroom/miniforge/base/envs/cge/lib/python3.8/site-packages/pandas/io/common.py?line=789'>790</a>\u001b[0m             handle,\n\u001b[1;32m    <a href='file:///opt/homebrew/Caskroom/miniforge/base/envs/cge/lib/python3.8/site-packages/pandas/io/common.py?line=790'>791</a>\u001b[0m             ioargs\u001b[39m.\u001b[39;49mmode,\n\u001b[1;32m    <a href='file:///opt/homebrew/Caskroom/miniforge/base/envs/cge/lib/python3.8/site-packages/pandas/io/common.py?line=791'>792</a>\u001b[0m             encoding\u001b[39m=\u001b[39;49mioargs\u001b[39m.\u001b[39;49mencoding,\n\u001b[1;32m    <a href='file:///opt/homebrew/Caskroom/miniforge/base/envs/cge/lib/python3.8/site-packages/pandas/io/common.py?line=792'>793</a>\u001b[0m             errors\u001b[39m=\u001b[39;49merrors,\n\u001b[1;32m    <a href='file:///opt/homebrew/Caskroom/miniforge/base/envs/cge/lib/python3.8/site-packages/pandas/io/common.py?line=793'>794</a>\u001b[0m             newline\u001b[39m=\u001b[39;49m\u001b[39m\"\u001b[39;49m\u001b[39m\"\u001b[39;49m,\n\u001b[1;32m    <a href='file:///opt/homebrew/Caskroom/miniforge/base/envs/cge/lib/python3.8/site-packages/pandas/io/common.py?line=794'>795</a>\u001b[0m         )\n\u001b[1;32m    <a href='file:///opt/homebrew/Caskroom/miniforge/base/envs/cge/lib/python3.8/site-packages/pandas/io/common.py?line=795'>796</a>\u001b[0m     \u001b[39melse\u001b[39;00m:\n\u001b[1;32m    <a href='file:///opt/homebrew/Caskroom/miniforge/base/envs/cge/lib/python3.8/site-packages/pandas/io/common.py?line=796'>797</a>\u001b[0m         \u001b[39m# Binary mode\u001b[39;00m\n\u001b[1;32m    <a href='file:///opt/homebrew/Caskroom/miniforge/base/envs/cge/lib/python3.8/site-packages/pandas/io/common.py?line=797'>798</a>\u001b[0m         handle \u001b[39m=\u001b[39m \u001b[39mopen\u001b[39m(handle, ioargs\u001b[39m.\u001b[39mmode)\n",
      "\u001b[0;31mFileNotFoundError\u001b[0m: [Errno 2] No such file or directory: '/Users/goeun/Documents/YearDream/ProJect/kurly_project/products_price_predict/data/processed/test.csv'"
     ]
    }
   ],
   "source": [
    "# train = pd.read_csv(raw_path + 'train.csv')\n",
    "# test = pd.read_csv(raw_path + 'test.csv')\n",
    "df = pd.read_csv(processed_path + 'test.csv')\n",
    "\n",
    "private = pd.read_csv(raw_path +'preprocessing.csv')"
   ]
  },
  {
   "cell_type": "code",
   "execution_count": 13,
   "id": "1d1c2f3f",
   "metadata": {},
   "outputs": [],
   "source": [
    "df = df_private[['date', '요일','대파_거래량(kg)', '대파_가격(원/kg)','깻잎_거래량(kg)', '깻잎_가격(원/kg)','팽이버섯_거래량(kg)', '팽이버섯_가격(원/kg)',\n",
    "        '토마토_거래량(kg)', '토마토_가격(원/kg)','캠벨얼리_거래량(kg)', '캠벨얼리_가격(원/kg)']]"
   ]
  },
  {
   "cell_type": "code",
   "execution_count": 12,
   "id": "437643cd",
   "metadata": {
    "ExecuteTime": {
     "end_time": "2022-10-18T15:45:42.287970Z",
     "start_time": "2022-10-18T15:45:42.274144Z"
    }
   },
   "outputs": [
    {
     "name": "stdout",
     "output_type": "stream",
     "text": [
      "(1771, 12)\n"
     ]
    },
    {
     "data": {
      "text/html": [
       "<div>\n",
       "<style scoped>\n",
       "    .dataframe tbody tr th:only-of-type {\n",
       "        vertical-align: middle;\n",
       "    }\n",
       "\n",
       "    .dataframe tbody tr th {\n",
       "        vertical-align: top;\n",
       "    }\n",
       "\n",
       "    .dataframe thead th {\n",
       "        text-align: right;\n",
       "    }\n",
       "</style>\n",
       "<table border=\"1\" class=\"dataframe\">\n",
       "  <thead>\n",
       "    <tr style=\"text-align: right;\">\n",
       "      <th></th>\n",
       "      <th>date</th>\n",
       "      <th>요일</th>\n",
       "      <th>대파_거래량(kg)</th>\n",
       "      <th>대파_가격(원/kg)</th>\n",
       "      <th>깻잎_거래량(kg)</th>\n",
       "      <th>깻잎_가격(원/kg)</th>\n",
       "      <th>팽이버섯_거래량(kg)</th>\n",
       "      <th>팽이버섯_가격(원/kg)</th>\n",
       "      <th>토마토_거래량(kg)</th>\n",
       "      <th>토마토_가격(원/kg)</th>\n",
       "      <th>캠벨얼리_거래량(kg)</th>\n",
       "      <th>캠벨얼리_가격(원/kg)</th>\n",
       "    </tr>\n",
       "  </thead>\n",
       "  <tbody>\n",
       "    <tr>\n",
       "      <th>0</th>\n",
       "      <td>2016-01-01</td>\n",
       "      <td>금요일</td>\n",
       "      <td>0.0</td>\n",
       "      <td>0.0</td>\n",
       "      <td>0.0</td>\n",
       "      <td>0.0</td>\n",
       "      <td>0.0</td>\n",
       "      <td>0.0</td>\n",
       "      <td>0.0</td>\n",
       "      <td>0.0</td>\n",
       "      <td>0.0</td>\n",
       "      <td>0.0</td>\n",
       "    </tr>\n",
       "    <tr>\n",
       "      <th>1</th>\n",
       "      <td>2016-01-02</td>\n",
       "      <td>토요일</td>\n",
       "      <td>92334.0</td>\n",
       "      <td>1704.0</td>\n",
       "      <td>4374.9</td>\n",
       "      <td>13242.0</td>\n",
       "      <td>14634.0</td>\n",
       "      <td>1474.0</td>\n",
       "      <td>30950.0</td>\n",
       "      <td>1621.0</td>\n",
       "      <td>880.0</td>\n",
       "      <td>2014.0</td>\n",
       "    </tr>\n",
       "  </tbody>\n",
       "</table>\n",
       "</div>"
      ],
      "text/plain": [
       "         date   요일  대파_거래량(kg)  대파_가격(원/kg)  깻잎_거래량(kg)  깻잎_가격(원/kg)  \\\n",
       "0  2016-01-01  금요일         0.0          0.0         0.0          0.0   \n",
       "1  2016-01-02  토요일     92334.0       1704.0      4374.9      13242.0   \n",
       "\n",
       "   팽이버섯_거래량(kg)  팽이버섯_가격(원/kg)  토마토_거래량(kg)  토마토_가격(원/kg)  캠벨얼리_거래량(kg)  \\\n",
       "0           0.0            0.0          0.0           0.0           0.0   \n",
       "1       14634.0         1474.0      30950.0        1621.0         880.0   \n",
       "\n",
       "   캠벨얼리_가격(원/kg)  \n",
       "0            0.0  \n",
       "1         2014.0  "
      ]
     },
     "execution_count": 12,
     "metadata": {},
     "output_type": "execute_result"
    }
   ],
   "source": [
    "preprocessing = df.copy()\n",
    "print(preprocessing.shape)\n",
    "preprocessing.head(2)"
   ]
  },
  {
   "cell_type": "code",
   "execution_count": 18,
   "id": "bc3926bb",
   "metadata": {
    "ExecuteTime": {
     "end_time": "2022-10-18T15:45:46.544019Z",
     "start_time": "2022-10-18T15:45:46.529033Z"
    }
   },
   "outputs": [
    {
     "data": {
      "text/html": [
       "<div>\n",
       "<style scoped>\n",
       "    .dataframe tbody tr th:only-of-type {\n",
       "        vertical-align: middle;\n",
       "    }\n",
       "\n",
       "    .dataframe tbody tr th {\n",
       "        vertical-align: top;\n",
       "    }\n",
       "\n",
       "    .dataframe thead th {\n",
       "        text-align: right;\n",
       "    }\n",
       "</style>\n",
       "<table border=\"1\" class=\"dataframe\">\n",
       "  <thead>\n",
       "    <tr style=\"text-align: right;\">\n",
       "      <th></th>\n",
       "      <th>대파_거래량(kg)</th>\n",
       "      <th>대파_가격(원/kg)</th>\n",
       "      <th>깻잎_거래량(kg)</th>\n",
       "      <th>깻잎_가격(원/kg)</th>\n",
       "      <th>팽이버섯_거래량(kg)</th>\n",
       "      <th>팽이버섯_가격(원/kg)</th>\n",
       "      <th>토마토_거래량(kg)</th>\n",
       "      <th>토마토_가격(원/kg)</th>\n",
       "      <th>캠벨얼리_거래량(kg)</th>\n",
       "      <th>캠벨얼리_가격(원/kg)</th>\n",
       "      <th>월</th>\n",
       "      <th>년</th>\n",
       "      <th>계절</th>\n",
       "    </tr>\n",
       "  </thead>\n",
       "  <tbody>\n",
       "    <tr>\n",
       "      <th>count</th>\n",
       "      <td>1.771000e+03</td>\n",
       "      <td>1771.000000</td>\n",
       "      <td>1771.000000</td>\n",
       "      <td>1771.000000</td>\n",
       "      <td>1771.000000</td>\n",
       "      <td>1771.000000</td>\n",
       "      <td>1.771000e+03</td>\n",
       "      <td>1771.000000</td>\n",
       "      <td>1.771000e+03</td>\n",
       "      <td>1771.000000</td>\n",
       "      <td>1771.000000</td>\n",
       "      <td>1771.000000</td>\n",
       "      <td>1771.000000</td>\n",
       "    </tr>\n",
       "    <tr>\n",
       "      <th>mean</th>\n",
       "      <td>5.697315e+05</td>\n",
       "      <td>1177.678713</td>\n",
       "      <td>80191.005985</td>\n",
       "      <td>4605.608696</td>\n",
       "      <td>104064.686053</td>\n",
       "      <td>1422.367589</td>\n",
       "      <td>3.159252e+05</td>\n",
       "      <td>1879.954828</td>\n",
       "      <td>1.179757e+05</td>\n",
       "      <td>3179.187566</td>\n",
       "      <td>6.361942</td>\n",
       "      <td>2017.936759</td>\n",
       "      <td>1.507623</td>\n",
       "    </tr>\n",
       "    <tr>\n",
       "      <th>std</th>\n",
       "      <td>2.714085e+05</td>\n",
       "      <td>664.335723</td>\n",
       "      <td>40836.830916</td>\n",
       "      <td>2726.123428</td>\n",
       "      <td>47354.221027</td>\n",
       "      <td>806.591677</td>\n",
       "      <td>2.387288e+05</td>\n",
       "      <td>1137.719470</td>\n",
       "      <td>2.444185e+05</td>\n",
       "      <td>2052.713879</td>\n",
       "      <td>3.383158</td>\n",
       "      <td>1.391442</td>\n",
       "      <td>1.100757</td>\n",
       "    </tr>\n",
       "    <tr>\n",
       "      <th>min</th>\n",
       "      <td>0.000000e+00</td>\n",
       "      <td>0.000000</td>\n",
       "      <td>0.000000</td>\n",
       "      <td>0.000000</td>\n",
       "      <td>0.000000</td>\n",
       "      <td>0.000000</td>\n",
       "      <td>0.000000e+00</td>\n",
       "      <td>0.000000</td>\n",
       "      <td>0.000000e+00</td>\n",
       "      <td>0.000000</td>\n",
       "      <td>1.000000</td>\n",
       "      <td>2016.000000</td>\n",
       "      <td>0.000000</td>\n",
       "    </tr>\n",
       "    <tr>\n",
       "      <th>25%</th>\n",
       "      <td>5.522209e+05</td>\n",
       "      <td>854.000000</td>\n",
       "      <td>71226.400000</td>\n",
       "      <td>3393.000000</td>\n",
       "      <td>109722.000000</td>\n",
       "      <td>1072.500000</td>\n",
       "      <td>1.616290e+05</td>\n",
       "      <td>1175.000000</td>\n",
       "      <td>9.960000e+02</td>\n",
       "      <td>2059.000000</td>\n",
       "      <td>3.000000</td>\n",
       "      <td>2017.000000</td>\n",
       "      <td>1.000000</td>\n",
       "    </tr>\n",
       "    <tr>\n",
       "      <th>50%</th>\n",
       "      <td>6.490364e+05</td>\n",
       "      <td>1197.000000</td>\n",
       "      <td>88521.600000</td>\n",
       "      <td>4505.000000</td>\n",
       "      <td>121314.000000</td>\n",
       "      <td>1454.000000</td>\n",
       "      <td>2.643095e+05</td>\n",
       "      <td>1904.000000</td>\n",
       "      <td>4.697000e+03</td>\n",
       "      <td>3278.000000</td>\n",
       "      <td>6.000000</td>\n",
       "      <td>2018.000000</td>\n",
       "      <td>2.000000</td>\n",
       "    </tr>\n",
       "    <tr>\n",
       "      <th>75%</th>\n",
       "      <td>7.274476e+05</td>\n",
       "      <td>1580.000000</td>\n",
       "      <td>103705.050000</td>\n",
       "      <td>5927.000000</td>\n",
       "      <td>130871.000000</td>\n",
       "      <td>1918.500000</td>\n",
       "      <td>4.581825e+05</td>\n",
       "      <td>2672.500000</td>\n",
       "      <td>7.813610e+04</td>\n",
       "      <td>4273.500000</td>\n",
       "      <td>9.000000</td>\n",
       "      <td>2019.000000</td>\n",
       "      <td>2.000000</td>\n",
       "    </tr>\n",
       "    <tr>\n",
       "      <th>max</th>\n",
       "      <td>1.302729e+06</td>\n",
       "      <td>3784.000000</td>\n",
       "      <td>256450.400000</td>\n",
       "      <td>14326.000000</td>\n",
       "      <td>169256.000000</td>\n",
       "      <td>3951.000000</td>\n",
       "      <td>1.279844e+06</td>\n",
       "      <td>7348.000000</td>\n",
       "      <td>1.490337e+06</td>\n",
       "      <td>12519.000000</td>\n",
       "      <td>12.000000</td>\n",
       "      <td>2020.000000</td>\n",
       "      <td>3.000000</td>\n",
       "    </tr>\n",
       "  </tbody>\n",
       "</table>\n",
       "</div>"
      ],
      "text/plain": [
       "         대파_거래량(kg)  대파_가격(원/kg)     깻잎_거래량(kg)   깻잎_가격(원/kg)   팽이버섯_거래량(kg)  \\\n",
       "count  1.771000e+03  1771.000000    1771.000000   1771.000000    1771.000000   \n",
       "mean   5.697315e+05  1177.678713   80191.005985   4605.608696  104064.686053   \n",
       "std    2.714085e+05   664.335723   40836.830916   2726.123428   47354.221027   \n",
       "min    0.000000e+00     0.000000       0.000000      0.000000       0.000000   \n",
       "25%    5.522209e+05   854.000000   71226.400000   3393.000000  109722.000000   \n",
       "50%    6.490364e+05  1197.000000   88521.600000   4505.000000  121314.000000   \n",
       "75%    7.274476e+05  1580.000000  103705.050000   5927.000000  130871.000000   \n",
       "max    1.302729e+06  3784.000000  256450.400000  14326.000000  169256.000000   \n",
       "\n",
       "       팽이버섯_가격(원/kg)   토마토_거래량(kg)  토마토_가격(원/kg)  캠벨얼리_거래량(kg)  캠벨얼리_가격(원/kg)  \\\n",
       "count    1771.000000  1.771000e+03   1771.000000  1.771000e+03    1771.000000   \n",
       "mean     1422.367589  3.159252e+05   1879.954828  1.179757e+05    3179.187566   \n",
       "std       806.591677  2.387288e+05   1137.719470  2.444185e+05    2052.713879   \n",
       "min         0.000000  0.000000e+00      0.000000  0.000000e+00       0.000000   \n",
       "25%      1072.500000  1.616290e+05   1175.000000  9.960000e+02    2059.000000   \n",
       "50%      1454.000000  2.643095e+05   1904.000000  4.697000e+03    3278.000000   \n",
       "75%      1918.500000  4.581825e+05   2672.500000  7.813610e+04    4273.500000   \n",
       "max      3951.000000  1.279844e+06   7348.000000  1.490337e+06   12519.000000   \n",
       "\n",
       "                 월            년           계절  \n",
       "count  1771.000000  1771.000000  1771.000000  \n",
       "mean      6.361942  2017.936759     1.507623  \n",
       "std       3.383158     1.391442     1.100757  \n",
       "min       1.000000  2016.000000     0.000000  \n",
       "25%       3.000000  2017.000000     1.000000  \n",
       "50%       6.000000  2018.000000     2.000000  \n",
       "75%       9.000000  2019.000000     2.000000  \n",
       "max      12.000000  2020.000000     3.000000  "
      ]
     },
     "execution_count": 18,
     "metadata": {},
     "output_type": "execute_result"
    }
   ],
   "source": [
    "preprocessing.describe()"
   ]
  },
  {
   "cell_type": "code",
   "execution_count": 15,
   "id": "b57a6a45",
   "metadata": {
    "ExecuteTime": {
     "end_time": "2022-10-18T15:45:57.235824Z",
     "start_time": "2022-10-18T15:45:57.211696Z"
    }
   },
   "outputs": [
    {
     "name": "stdout",
     "output_type": "stream",
     "text": [
      "(1771, 15)\n"
     ]
    },
    {
     "data": {
      "text/html": [
       "<div>\n",
       "<style scoped>\n",
       "    .dataframe tbody tr th:only-of-type {\n",
       "        vertical-align: middle;\n",
       "    }\n",
       "\n",
       "    .dataframe tbody tr th {\n",
       "        vertical-align: top;\n",
       "    }\n",
       "\n",
       "    .dataframe thead th {\n",
       "        text-align: right;\n",
       "    }\n",
       "</style>\n",
       "<table border=\"1\" class=\"dataframe\">\n",
       "  <thead>\n",
       "    <tr style=\"text-align: right;\">\n",
       "      <th></th>\n",
       "      <th>date</th>\n",
       "      <th>요일</th>\n",
       "      <th>대파_거래량(kg)</th>\n",
       "      <th>대파_가격(원/kg)</th>\n",
       "      <th>깻잎_거래량(kg)</th>\n",
       "      <th>깻잎_가격(원/kg)</th>\n",
       "      <th>팽이버섯_거래량(kg)</th>\n",
       "      <th>팽이버섯_가격(원/kg)</th>\n",
       "      <th>토마토_거래량(kg)</th>\n",
       "      <th>토마토_가격(원/kg)</th>\n",
       "      <th>캠벨얼리_거래량(kg)</th>\n",
       "      <th>캠벨얼리_가격(원/kg)</th>\n",
       "      <th>월</th>\n",
       "      <th>년</th>\n",
       "      <th>계절</th>\n",
       "    </tr>\n",
       "  </thead>\n",
       "  <tbody>\n",
       "    <tr>\n",
       "      <th>0</th>\n",
       "      <td>2016-01-01</td>\n",
       "      <td>금요일</td>\n",
       "      <td>0.0</td>\n",
       "      <td>0.0</td>\n",
       "      <td>0.0</td>\n",
       "      <td>0.0</td>\n",
       "      <td>0.0</td>\n",
       "      <td>0.0</td>\n",
       "      <td>0.0</td>\n",
       "      <td>0.0</td>\n",
       "      <td>0.0</td>\n",
       "      <td>0.0</td>\n",
       "      <td>1</td>\n",
       "      <td>2016</td>\n",
       "      <td>0</td>\n",
       "    </tr>\n",
       "    <tr>\n",
       "      <th>1</th>\n",
       "      <td>2016-01-02</td>\n",
       "      <td>토요일</td>\n",
       "      <td>92334.0</td>\n",
       "      <td>1704.0</td>\n",
       "      <td>4374.9</td>\n",
       "      <td>13242.0</td>\n",
       "      <td>14634.0</td>\n",
       "      <td>1474.0</td>\n",
       "      <td>30950.0</td>\n",
       "      <td>1621.0</td>\n",
       "      <td>880.0</td>\n",
       "      <td>2014.0</td>\n",
       "      <td>1</td>\n",
       "      <td>2016</td>\n",
       "      <td>0</td>\n",
       "    </tr>\n",
       "  </tbody>\n",
       "</table>\n",
       "</div>"
      ],
      "text/plain": [
       "        date   요일  대파_거래량(kg)  대파_가격(원/kg)  깻잎_거래량(kg)  깻잎_가격(원/kg)  \\\n",
       "0 2016-01-01  금요일         0.0          0.0         0.0          0.0   \n",
       "1 2016-01-02  토요일     92334.0       1704.0      4374.9      13242.0   \n",
       "\n",
       "   팽이버섯_거래량(kg)  팽이버섯_가격(원/kg)  토마토_거래량(kg)  토마토_가격(원/kg)  캠벨얼리_거래량(kg)  \\\n",
       "0           0.0            0.0          0.0           0.0           0.0   \n",
       "1       14634.0         1474.0      30950.0        1621.0         880.0   \n",
       "\n",
       "   캠벨얼리_가격(원/kg)  월     년  계절  \n",
       "0            0.0  1  2016   0  \n",
       "1         2014.0  1  2016   0  "
      ]
     },
     "execution_count": 15,
     "metadata": {},
     "output_type": "execute_result"
    }
   ],
   "source": [
    "preprocessing.date = pd.to_datetime(preprocessing.date)\n",
    "preprocessing['월'] = preprocessing['date'].dt.month \n",
    "preprocessing['년'] = preprocessing['date'].dt.year \n",
    "\n",
    "# 계절 = 0: 겨울(12~2월) // 1 : 봄(3~5월) // 2: 여름(6~8월) // 3: 가을(9~11월)\n",
    "preprocessing['계절'] = (preprocessing['월'] // 3 % 4) \n",
    "# preprocessing.drop(columns=['월','년'], inplace=True)\n",
    "print(preprocessing.shape)\n",
    "preprocessing.head(2)"
   ]
  },
  {
   "cell_type": "code",
   "execution_count": 29,
   "id": "e3a356b3",
   "metadata": {},
   "outputs": [
    {
     "data": {
      "text/plain": [
       "(array([261.,  82., 453., 486., 217., 139.,  71.,  43.,  10.,   9.]),\n",
       " array([    0. ,  1432.6,  2865.2,  4297.8,  5730.4,  7163. ,  8595.6,\n",
       "        10028.2, 11460.8, 12893.4, 14326. ]),\n",
       " <BarContainer object of 10 artists>)"
      ]
     },
     "execution_count": 29,
     "metadata": {},
     "output_type": "execute_result"
    },
    {
     "data": {
      "image/png": "[encoded data removed]",
      "text/plain": [
       "<Figure size 432x288 with 1 Axes>"
      ]
     },
     "metadata": {
      "needs_background": "light"
     },
     "output_type": "display_data"
    }
   ],
   "source": [
    "plt.hist(df['깻잎_가격(원/kg)' ])"
   ]
  },
  {
   "cell_type": "code",
   "execution_count": 40,
   "id": "f721634a",
   "metadata": {},
   "outputs": [
    {
     "data": {
      "text/plain": [
       "<AxesSubplot:>"
      ]
     },
     "execution_count": 40,
     "metadata": {},
     "output_type": "execute_result"
    },
    {
     "data": {
      "image/png": "[encoded data removed]",
      "text/plain": [
       "<Figure size 600x400 with 1 Axes>"
      ]
     },
     "metadata": {
      "needs_background": "light"
     },
     "output_type": "display_data"
    }
   ],
   "source": [
    "feature = df[['대파_가격(원/kg)','깻잎_가격(원/kg)','팽이버섯_가격(원/kg)','토마토_가격(원/kg)','캠벨얼리_가격(원/kg)' ]].columns\n",
    "\n",
    "fig = plt.figure(dpi=100)\n",
    "plt.xticks(rotation = 90)\n",
    "sns.boxplot(data = df[feature])"
   ]
  },
  {
   "cell_type": "markdown",
   "id": "00e41beb",
   "metadata": {},
   "source": [
    "# 캠벨얼리만 전처리하자!"
   ]
  },
  {
   "cell_type": "markdown",
   "id": "74fc7754",
   "metadata": {},
   "source": [
    "## 캠벨얼리 전처리  15000 이상 (max)을 기준으로 \n",
    "FTA와 태풍으로 인한 가격 폭등<br>\n",
    " -> 외부 날씨의 영향등 예측 불가한 사유에 해당하여 대체할 수 있는 컬럼이 없어 해당 월의 평균으로 대체함"
   ]
  },
  {
   "cell_type": "code",
   "execution_count": 17,
   "id": "5bdd9a86",
   "metadata": {},
   "outputs": [
    {
     "name": "stdout",
     "output_type": "stream",
     "text": [
      "4059.98\n",
      "4490.2\n"
     ]
    }
   ],
   "source": [
    "preprocessing[preprocessing['캠벨얼리_가격(원/kg)'] > 15000]\n",
    "print(round(preprocessing.loc[(preprocessing['계절'] == 1)&(preprocessing['년'] == 2016),'캠벨얼리_가격(원/kg)'].mean(), 2))\n",
    "print(round(preprocessing.loc[(preprocessing['계절'] == 0)&(preprocessing['년'] == 2020),'캠벨얼리_가격(원/kg)'].mean(), 2))\n",
    "preprocessing.loc[122, '캠벨얼리_가격(원/kg)'] = 4059.98\n",
    "preprocessing.loc[1501, '캠벨얼리_가격(원/kg)'] = 4490.2"
   ]
  },
  {
   "cell_type": "code",
   "execution_count": 55,
   "id": "cd6b42d5",
   "metadata": {},
   "outputs": [],
   "source": [
    "preprocessing.to_csv(processed_path+'preprocessing.csv', index= 0)"
   ]
  },
  {
   "cell_type": "markdown",
   "id": "af3672f4",
   "metadata": {},
   "source": [
    "### 1, 2주전 거래량 & 가격 파생변수 생성"
   ]
  },
  {
   "cell_type": "code",
   "execution_count": 53,
   "id": "c9199ae8",
   "metadata": {},
   "outputs": [
    {
     "data": {
      "text/html": [
       "<div>\n",
       "<style scoped>\n",
       "    .dataframe tbody tr th:only-of-type {\n",
       "        vertical-align: middle;\n",
       "    }\n",
       "\n",
       "    .dataframe tbody tr th {\n",
       "        vertical-align: top;\n",
       "    }\n",
       "\n",
       "    .dataframe thead th {\n",
       "        text-align: right;\n",
       "    }\n",
       "</style>\n",
       "<table border=\"1\" class=\"dataframe\">\n",
       "  <thead>\n",
       "    <tr style=\"text-align: right;\">\n",
       "      <th></th>\n",
       "      <th>date</th>\n",
       "      <th>요일</th>\n",
       "      <th>대파_거래량(kg)</th>\n",
       "      <th>대파_가격(원/kg)</th>\n",
       "      <th>깻잎_거래량(kg)</th>\n",
       "      <th>깻잎_가격(원/kg)</th>\n",
       "      <th>팽이버섯_거래량(kg)</th>\n",
       "      <th>팽이버섯_가격(원/kg)</th>\n",
       "      <th>토마토_거래량(kg)</th>\n",
       "      <th>토마토_가격(원/kg)</th>\n",
       "      <th>캠벨얼리_거래량(kg)</th>\n",
       "      <th>캠벨얼리_가격(원/kg)</th>\n",
       "      <th>월</th>\n",
       "      <th>년</th>\n",
       "      <th>계절</th>\n",
       "    </tr>\n",
       "  </thead>\n",
       "  <tbody>\n",
       "    <tr>\n",
       "      <th>1770</th>\n",
       "      <td>2020-11-06</td>\n",
       "      <td>금요일</td>\n",
       "      <td>656754.3</td>\n",
       "      <td>2402.0</td>\n",
       "      <td>79001.9</td>\n",
       "      <td>4831.0</td>\n",
       "      <td>134141.5</td>\n",
       "      <td>1408.0</td>\n",
       "      <td>257987.1</td>\n",
       "      <td>2806.0</td>\n",
       "      <td>23697.0</td>\n",
       "      <td>2797.0</td>\n",
       "      <td>11</td>\n",
       "      <td>2020</td>\n",
       "      <td>3</td>\n",
       "    </tr>\n",
       "  </tbody>\n",
       "</table>\n",
       "</div>"
      ],
      "text/plain": [
       "           date   요일  대파_거래량(kg)  대파_가격(원/kg)  깻잎_거래량(kg)  깻잎_가격(원/kg)  \\\n",
       "1770 2020-11-06  금요일    656754.3       2402.0     79001.9       4831.0   \n",
       "\n",
       "      팽이버섯_거래량(kg)  팽이버섯_가격(원/kg)  토마토_거래량(kg)  토마토_가격(원/kg)  캠벨얼리_거래량(kg)  \\\n",
       "1770      134141.5         1408.0     257987.1        2806.0       23697.0   \n",
       "\n",
       "      캠벨얼리_가격(원/kg)   월     년  계절  \n",
       "1770         2797.0  11  2020   3  "
      ]
     },
     "execution_count": 53,
     "metadata": {},
     "output_type": "execute_result"
    }
   ],
   "source": [
    "preprocessing_1106 = preprocessing[1770:]\n",
    "preprocessing_1106"
   ]
  },
  {
   "cell_type": "code",
   "execution_count": 64,
   "id": "d17c2f05",
   "metadata": {
    "ExecuteTime": {
     "end_time": "2022-10-18T15:50:46.625779Z",
     "start_time": "2022-10-18T15:50:46.544577Z"
    }
   },
   "outputs": [],
   "source": [
    "# 1주 전 가격들의 평균내기(월~일, 0으로 된 날 개수 세는 코드와 그에 따른 평균 내는 코드로)\n",
    "# index 기준 10~16, 17~23, ...\n",
    "# index 기준 0~9는 농넷에서 찾아야 할 듯 합니다. so 2015년 12월 28부터 2015년 12월 31일까지 4일간의 데이터 찾아보자.\n",
    "\n",
    "A = [];B = []\n",
    "for x in range(10):\n",
    "    A.append(0)\n",
    "    B.append(0)\n",
    "\n",
    "for y in range(246):\n",
    "    s = 0;t = 0\n",
    "    for z in range(7):\n",
    "        s += preprocessing['팽이버섯_거래량(kg)'].iloc[(y * 7) + z + 3]\n",
    "        t += preprocessing['팽이버섯_가격(원/kg)'].iloc[(y * 7) + z + 3]\n",
    "    v_1 = (preprocessing['팽이버섯_거래량(kg)'].iloc[(y * 7) + 3:(y * 7) + 10] == 0).sum()\n",
    "    v_2 = (preprocessing['팽이버섯_가격(원/kg)'].iloc[(y * 7) + 3:(y * 7) + 10] == 0).sum()\n",
    "    for w in range(7):\n",
    "        A.append(s / (7 - v_1))\n",
    "        B.append(t / (7 - v_2))\n",
    "for z in range(7):\n",
    "    s += preprocessing['팽이버섯_거래량(kg)'].iloc[1725 + z]\n",
    "    t += preprocessing['팽이버섯_가격(원/kg)'].iloc[1725 + z]\n",
    "v_1 = (preprocessing['팽이버섯_거래량(kg)'].iloc[1725:1771] == 0).sum()\n",
    "v_2 = (preprocessing['팽이버섯_가격(원/kg)'].iloc[1725:1771] == 0).sum()\n",
    "A.append(s / (7 - v_1))\n",
    "B.append(t / (7 - v_2))\n",
    "Adf = pd.DataFrame(A, columns = ['팽이버섯_거래량의_1주전_평균'])\n",
    "Bdf = pd.DataFrame(B, columns = ['팽이버섯_가격의_1주전_평균'])\n",
    "preprocessing_1 = pd.concat([preprocessing_1106, Adf, Bdf], axis=1)\n",
    "# preprocessing_1"
   ]
  },
  {
   "cell_type": "code",
   "execution_count": 65,
   "id": "c552e774",
   "metadata": {},
   "outputs": [
    {
     "data": {
      "text/html": [
       "<div>\n",
       "<style scoped>\n",
       "    .dataframe tbody tr th:only-of-type {\n",
       "        vertical-align: middle;\n",
       "    }\n",
       "\n",
       "    .dataframe tbody tr th {\n",
       "        vertical-align: top;\n",
       "    }\n",
       "\n",
       "    .dataframe thead th {\n",
       "        text-align: right;\n",
       "    }\n",
       "</style>\n",
       "<table border=\"1\" class=\"dataframe\">\n",
       "  <thead>\n",
       "    <tr style=\"text-align: right;\">\n",
       "      <th></th>\n",
       "      <th>date</th>\n",
       "      <th>요일</th>\n",
       "      <th>대파_거래량(kg)</th>\n",
       "      <th>대파_가격(원/kg)</th>\n",
       "      <th>깻잎_거래량(kg)</th>\n",
       "      <th>깻잎_가격(원/kg)</th>\n",
       "      <th>팽이버섯_거래량(kg)</th>\n",
       "      <th>팽이버섯_가격(원/kg)</th>\n",
       "      <th>토마토_거래량(kg)</th>\n",
       "      <th>토마토_가격(원/kg)</th>\n",
       "      <th>캠벨얼리_거래량(kg)</th>\n",
       "      <th>캠벨얼리_가격(원/kg)</th>\n",
       "      <th>월</th>\n",
       "      <th>년</th>\n",
       "      <th>계절</th>\n",
       "      <th>팽이버섯_거래량의_1주전_평균</th>\n",
       "      <th>팽이버섯_가격의_1주전_평균</th>\n",
       "    </tr>\n",
       "  </thead>\n",
       "  <tbody>\n",
       "    <tr>\n",
       "      <th>1770</th>\n",
       "      <td>2020-11-06</td>\n",
       "      <td>금요일</td>\n",
       "      <td>656754.3</td>\n",
       "      <td>2402.0</td>\n",
       "      <td>79001.9</td>\n",
       "      <td>4831.0</td>\n",
       "      <td>134141.5</td>\n",
       "      <td>1408.0</td>\n",
       "      <td>257987.1</td>\n",
       "      <td>2806.0</td>\n",
       "      <td>23697.0</td>\n",
       "      <td>2797.0</td>\n",
       "      <td>11.0</td>\n",
       "      <td>2020.0</td>\n",
       "      <td>3.0</td>\n",
       "      <td>NaN</td>\n",
       "      <td>NaN</td>\n",
       "    </tr>\n",
       "    <tr>\n",
       "      <th>0</th>\n",
       "      <td>NaT</td>\n",
       "      <td>NaN</td>\n",
       "      <td>NaN</td>\n",
       "      <td>NaN</td>\n",
       "      <td>NaN</td>\n",
       "      <td>NaN</td>\n",
       "      <td>NaN</td>\n",
       "      <td>NaN</td>\n",
       "      <td>NaN</td>\n",
       "      <td>NaN</td>\n",
       "      <td>NaN</td>\n",
       "      <td>NaN</td>\n",
       "      <td>NaN</td>\n",
       "      <td>NaN</td>\n",
       "      <td>NaN</td>\n",
       "      <td>0.000000e+00</td>\n",
       "      <td>0.000000</td>\n",
       "    </tr>\n",
       "    <tr>\n",
       "      <th>1</th>\n",
       "      <td>NaT</td>\n",
       "      <td>NaN</td>\n",
       "      <td>NaN</td>\n",
       "      <td>NaN</td>\n",
       "      <td>NaN</td>\n",
       "      <td>NaN</td>\n",
       "      <td>NaN</td>\n",
       "      <td>NaN</td>\n",
       "      <td>NaN</td>\n",
       "      <td>NaN</td>\n",
       "      <td>NaN</td>\n",
       "      <td>NaN</td>\n",
       "      <td>NaN</td>\n",
       "      <td>NaN</td>\n",
       "      <td>NaN</td>\n",
       "      <td>0.000000e+00</td>\n",
       "      <td>0.000000</td>\n",
       "    </tr>\n",
       "    <tr>\n",
       "      <th>2</th>\n",
       "      <td>NaT</td>\n",
       "      <td>NaN</td>\n",
       "      <td>NaN</td>\n",
       "      <td>NaN</td>\n",
       "      <td>NaN</td>\n",
       "      <td>NaN</td>\n",
       "      <td>NaN</td>\n",
       "      <td>NaN</td>\n",
       "      <td>NaN</td>\n",
       "      <td>NaN</td>\n",
       "      <td>NaN</td>\n",
       "      <td>NaN</td>\n",
       "      <td>NaN</td>\n",
       "      <td>NaN</td>\n",
       "      <td>NaN</td>\n",
       "      <td>0.000000e+00</td>\n",
       "      <td>0.000000</td>\n",
       "    </tr>\n",
       "    <tr>\n",
       "      <th>3</th>\n",
       "      <td>NaT</td>\n",
       "      <td>NaN</td>\n",
       "      <td>NaN</td>\n",
       "      <td>NaN</td>\n",
       "      <td>NaN</td>\n",
       "      <td>NaN</td>\n",
       "      <td>NaN</td>\n",
       "      <td>NaN</td>\n",
       "      <td>NaN</td>\n",
       "      <td>NaN</td>\n",
       "      <td>NaN</td>\n",
       "      <td>NaN</td>\n",
       "      <td>NaN</td>\n",
       "      <td>NaN</td>\n",
       "      <td>NaN</td>\n",
       "      <td>0.000000e+00</td>\n",
       "      <td>0.000000</td>\n",
       "    </tr>\n",
       "    <tr>\n",
       "      <th>...</th>\n",
       "      <td>...</td>\n",
       "      <td>...</td>\n",
       "      <td>...</td>\n",
       "      <td>...</td>\n",
       "      <td>...</td>\n",
       "      <td>...</td>\n",
       "      <td>...</td>\n",
       "      <td>...</td>\n",
       "      <td>...</td>\n",
       "      <td>...</td>\n",
       "      <td>...</td>\n",
       "      <td>...</td>\n",
       "      <td>...</td>\n",
       "      <td>...</td>\n",
       "      <td>...</td>\n",
       "      <td>...</td>\n",
       "      <td>...</td>\n",
       "    </tr>\n",
       "    <tr>\n",
       "      <th>1728</th>\n",
       "      <td>NaT</td>\n",
       "      <td>NaN</td>\n",
       "      <td>NaN</td>\n",
       "      <td>NaN</td>\n",
       "      <td>NaN</td>\n",
       "      <td>NaN</td>\n",
       "      <td>NaN</td>\n",
       "      <td>NaN</td>\n",
       "      <td>NaN</td>\n",
       "      <td>NaN</td>\n",
       "      <td>NaN</td>\n",
       "      <td>NaN</td>\n",
       "      <td>NaN</td>\n",
       "      <td>NaN</td>\n",
       "      <td>NaN</td>\n",
       "      <td>1.312031e+05</td>\n",
       "      <td>2160.666667</td>\n",
       "    </tr>\n",
       "    <tr>\n",
       "      <th>1729</th>\n",
       "      <td>NaT</td>\n",
       "      <td>NaN</td>\n",
       "      <td>NaN</td>\n",
       "      <td>NaN</td>\n",
       "      <td>NaN</td>\n",
       "      <td>NaN</td>\n",
       "      <td>NaN</td>\n",
       "      <td>NaN</td>\n",
       "      <td>NaN</td>\n",
       "      <td>NaN</td>\n",
       "      <td>NaN</td>\n",
       "      <td>NaN</td>\n",
       "      <td>NaN</td>\n",
       "      <td>NaN</td>\n",
       "      <td>NaN</td>\n",
       "      <td>1.312031e+05</td>\n",
       "      <td>2160.666667</td>\n",
       "    </tr>\n",
       "    <tr>\n",
       "      <th>1730</th>\n",
       "      <td>NaT</td>\n",
       "      <td>NaN</td>\n",
       "      <td>NaN</td>\n",
       "      <td>NaN</td>\n",
       "      <td>NaN</td>\n",
       "      <td>NaN</td>\n",
       "      <td>NaN</td>\n",
       "      <td>NaN</td>\n",
       "      <td>NaN</td>\n",
       "      <td>NaN</td>\n",
       "      <td>NaN</td>\n",
       "      <td>NaN</td>\n",
       "      <td>NaN</td>\n",
       "      <td>NaN</td>\n",
       "      <td>NaN</td>\n",
       "      <td>1.312031e+05</td>\n",
       "      <td>2160.666667</td>\n",
       "    </tr>\n",
       "    <tr>\n",
       "      <th>1731</th>\n",
       "      <td>NaT</td>\n",
       "      <td>NaN</td>\n",
       "      <td>NaN</td>\n",
       "      <td>NaN</td>\n",
       "      <td>NaN</td>\n",
       "      <td>NaN</td>\n",
       "      <td>NaN</td>\n",
       "      <td>NaN</td>\n",
       "      <td>NaN</td>\n",
       "      <td>NaN</td>\n",
       "      <td>NaN</td>\n",
       "      <td>NaN</td>\n",
       "      <td>NaN</td>\n",
       "      <td>NaN</td>\n",
       "      <td>NaN</td>\n",
       "      <td>1.312031e+05</td>\n",
       "      <td>2160.666667</td>\n",
       "    </tr>\n",
       "    <tr>\n",
       "      <th>1732</th>\n",
       "      <td>NaT</td>\n",
       "      <td>NaN</td>\n",
       "      <td>NaN</td>\n",
       "      <td>NaN</td>\n",
       "      <td>NaN</td>\n",
       "      <td>NaN</td>\n",
       "      <td>NaN</td>\n",
       "      <td>NaN</td>\n",
       "      <td>NaN</td>\n",
       "      <td>NaN</td>\n",
       "      <td>NaN</td>\n",
       "      <td>NaN</td>\n",
       "      <td>NaN</td>\n",
       "      <td>NaN</td>\n",
       "      <td>NaN</td>\n",
       "      <td>-1.573266e+06</td>\n",
       "      <td>-30557.000000</td>\n",
       "    </tr>\n",
       "  </tbody>\n",
       "</table>\n",
       "<p>1734 rows × 17 columns</p>\n",
       "</div>"
      ],
      "text/plain": [
       "           date   요일  대파_거래량(kg)  대파_가격(원/kg)  깻잎_거래량(kg)  깻잎_가격(원/kg)  \\\n",
       "1770 2020-11-06  금요일    656754.3       2402.0     79001.9       4831.0   \n",
       "0           NaT  NaN         NaN          NaN         NaN          NaN   \n",
       "1           NaT  NaN         NaN          NaN         NaN          NaN   \n",
       "2           NaT  NaN         NaN          NaN         NaN          NaN   \n",
       "3           NaT  NaN         NaN          NaN         NaN          NaN   \n",
       "...         ...  ...         ...          ...         ...          ...   \n",
       "1728        NaT  NaN         NaN          NaN         NaN          NaN   \n",
       "1729        NaT  NaN         NaN          NaN         NaN          NaN   \n",
       "1730        NaT  NaN         NaN          NaN         NaN          NaN   \n",
       "1731        NaT  NaN         NaN          NaN         NaN          NaN   \n",
       "1732        NaT  NaN         NaN          NaN         NaN          NaN   \n",
       "\n",
       "      팽이버섯_거래량(kg)  팽이버섯_가격(원/kg)  토마토_거래량(kg)  토마토_가격(원/kg)  캠벨얼리_거래량(kg)  \\\n",
       "1770      134141.5         1408.0     257987.1        2806.0       23697.0   \n",
       "0              NaN            NaN          NaN           NaN           NaN   \n",
       "1              NaN            NaN          NaN           NaN           NaN   \n",
       "2              NaN            NaN          NaN           NaN           NaN   \n",
       "3              NaN            NaN          NaN           NaN           NaN   \n",
       "...            ...            ...          ...           ...           ...   \n",
       "1728           NaN            NaN          NaN           NaN           NaN   \n",
       "1729           NaN            NaN          NaN           NaN           NaN   \n",
       "1730           NaN            NaN          NaN           NaN           NaN   \n",
       "1731           NaN            NaN          NaN           NaN           NaN   \n",
       "1732           NaN            NaN          NaN           NaN           NaN   \n",
       "\n",
       "      캠벨얼리_가격(원/kg)     월       년   계절  팽이버섯_거래량의_1주전_평균  팽이버섯_가격의_1주전_평균  \n",
       "1770         2797.0  11.0  2020.0  3.0               NaN              NaN  \n",
       "0               NaN   NaN     NaN  NaN      0.000000e+00         0.000000  \n",
       "1               NaN   NaN     NaN  NaN      0.000000e+00         0.000000  \n",
       "2               NaN   NaN     NaN  NaN      0.000000e+00         0.000000  \n",
       "3               NaN   NaN     NaN  NaN      0.000000e+00         0.000000  \n",
       "...             ...   ...     ...  ...               ...              ...  \n",
       "1728            NaN   NaN     NaN  NaN      1.312031e+05      2160.666667  \n",
       "1729            NaN   NaN     NaN  NaN      1.312031e+05      2160.666667  \n",
       "1730            NaN   NaN     NaN  NaN      1.312031e+05      2160.666667  \n",
       "1731            NaN   NaN     NaN  NaN      1.312031e+05      2160.666667  \n",
       "1732            NaN   NaN     NaN  NaN     -1.573266e+06    -30557.000000  \n",
       "\n",
       "[1734 rows x 17 columns]"
      ]
     },
     "execution_count": 65,
     "metadata": {},
     "output_type": "execute_result"
    }
   ],
   "source": [
    "preprocessing_1"
   ]
  },
  {
   "cell_type": "code",
   "execution_count": null,
   "id": "42bd6c63",
   "metadata": {
    "ExecuteTime": {
     "end_time": "2022-10-18T15:51:27.911960Z",
     "start_time": "2022-10-18T15:51:27.816611Z"
    }
   },
   "outputs": [],
   "source": [
    "# 2주 전 가격들의 평균내기(월~일, 0으로 된 날 개수 세는 코드와 그에 따른 평균 내는 코드로)\n",
    "# index 기준 10~23, 24~37, ...\n",
    "# index 기준 0~16는 농넷에서 찾아야 할 듯 합니다. so 2015년 12월 21부터 2015년 12월 31일까지 11일간의 데이터 찾아보자.\n",
    "\n",
    "C = [];D = []\n",
    "for x in range(17):\n",
    "    C.append(0)\n",
    "    D.append(0)\n",
    "\n",
    "for y in range(245):\n",
    "    s = 0;t = 0\n",
    "    for z in range(14):\n",
    "        s += preprocessing['팽이버섯_거래량(kg)'].iloc[(y * 7) + z + 3]\n",
    "        t += preprocessing['팽이버섯_가격(원/kg)'].iloc[(y * 7) + z + 3]\n",
    "    v_1 = (preprocessing['팽이버섯_거래량(kg)'].iloc[(y * 7) + 3:(y * 7) + 17] == 0).sum()\n",
    "    v_2 = (preprocessing['팽이버섯_가격(원/kg)'].iloc[(y * 7) + 3:(y * 7) + 17] == 0).sum()\n",
    "    for w in range(7):\n",
    "        C.append(s / (14 - v_1))\n",
    "        D.append(t / (14 - v_2))\n",
    "for z in range(14):\n",
    "    s += preprocessing['팽이버섯_거래량(kg)'].iloc[1718 + z]\n",
    "    t += preprocessing['팽이버섯_가격(원/kg)'].iloc[1718 + z]\n",
    "v_1 = (preprocessing['팽이버섯_거래량(kg)'].iloc[1718:1732] == 0).sum()\n",
    "v_2 = (preprocessing['팽이버섯_가격(원/kg)'].iloc[1718:1732] == 0).sum()\n",
    "C.append(s / (14 - v_1))\n",
    "D.append(t / (14 - v_2))\n",
    "Cdf = pd.DataFrame(C, columns = ['팽이버섯_거래량의_2주전_평균'])\n",
    "Ddf = pd.DataFrame(D, columns = ['팽이버섯_가격의_2주전_평균'])\n",
    "preprocessing_2 = pd.concat([preprocessing_1, Cdf, Ddf], axis=1)\n",
    "# preprocessing_2"
   ]
  },
  {
   "cell_type": "code",
   "execution_count": null,
   "id": "24145bd5",
   "metadata": {
    "ExecuteTime": {
     "end_time": "2022-10-18T15:51:32.657026Z",
     "start_time": "2022-10-18T15:51:32.646389Z"
    }
   },
   "outputs": [
    {
     "data": {
      "text/plain": [
       "1    460\n",
       "2    460\n",
       "3    429\n",
       "0    421\n",
       "Name: 계절, dtype: int64"
      ]
     },
     "metadata": {},
     "output_type": "display_data"
    }
   ],
   "source": [
    "# 계절 = 0: 겨울(12~2월) // 1 : 봄(3~5월) // 2: 여름(6~8월) // 3: 가을(9~11월)\n",
    "preprocessing_2.계절.value_counts()"
   ]
  },
  {
   "cell_type": "code",
   "execution_count": null,
   "id": "8da24563",
   "metadata": {
    "ExecuteTime": {
     "end_time": "2022-10-18T15:51:47.353021Z",
     "start_time": "2022-10-18T15:51:47.336833Z"
    }
   },
   "outputs": [
    {
     "data": {
      "text/plain": [
       "date                0\n",
       "요일                  0\n",
       "팽이버섯_거래량(kg)        0\n",
       "팽이버섯_가격(원/kg)       0\n",
       "월                   0\n",
       "년                   0\n",
       "계절                  0\n",
       "팽이버섯_거래량의_1주전_평균    0\n",
       "팽이버섯_가격의_1주전_평균     0\n",
       "팽이버섯_거래량의_2주전_평균    0\n",
       "팽이버섯_가격의_2주전_평균     0\n",
       "dtype: int64"
      ]
     },
     "metadata": {},
     "output_type": "display_data"
    }
   ],
   "source": [
    "preprocessing_2.isna().sum()"
   ]
  },
  {
   "cell_type": "code",
   "execution_count": null,
   "id": "af0f97c1",
   "metadata": {},
   "outputs": [],
   "source": [
    "# 샤인머스켓 결측치 0으로 대체\n",
    "preprocessing_2 = preprocessing_2.fillna(0)"
   ]
  },
  {
   "cell_type": "code",
   "execution_count": null,
   "id": "f9447820",
   "metadata": {
    "ExecuteTime": {
     "end_time": "2022-10-18T15:52:41.307173Z",
     "start_time": "2022-10-18T15:52:41.288519Z"
    }
   },
   "outputs": [
    {
     "name": "stdout",
     "output_type": "stream",
     "text": [
      "1557.7790973871734\n",
      "1238.0326086956522\n",
      "1149.4782608695652\n",
      "1779.7785547785547\n",
      "\n",
      "102945.13420427547\n",
      "110413.1539130435\n",
      "103169.8615217391\n",
      "99245.52191142189\n"
     ]
    }
   ],
   "source": [
    "# 계절별 평균가격\n",
    "print(preprocessing_2.loc[preprocessing_2.계절 == 0, '팽이버섯_가격(원/kg)'].mean())\n",
    "print(preprocessing_2.loc[preprocessing_2.계절 == 1, '팽이버섯_가격(원/kg)'].mean())\n",
    "print(preprocessing_2.loc[preprocessing_2.계절 == 2, '팽이버섯_가격(원/kg)'].mean())\n",
    "print(preprocessing_2.loc[preprocessing_2.계절 == 3, '팽이버섯_가격(원/kg)'].mean())\n",
    "\n",
    "# 계절별 평균거래량\n",
    "print()\n",
    "print(preprocessing_2.loc[preprocessing_2.계절 == 0, '팽이버섯_거래량(kg)'].mean())\n",
    "print(preprocessing_2.loc[preprocessing_2.계절 == 1, '팽이버섯_거래량(kg)'].mean())\n",
    "print(preprocessing_2.loc[preprocessing_2.계절 == 2, '팽이버섯_거래량(kg)'].mean())\n",
    "print(preprocessing_2.loc[preprocessing_2.계절 == 3, '팽이버섯_거래량(kg)'].mean())"
   ]
  },
  {
   "cell_type": "code",
   "execution_count": null,
   "id": "897bf5c4",
   "metadata": {
    "ExecuteTime": {
     "end_time": "2022-10-18T15:52:46.967249Z",
     "start_time": "2022-10-18T15:52:46.962251Z"
    }
   },
   "outputs": [
    {
     "data": {
      "text/plain": [
       "Index(['date', '요일', '팽이버섯_거래량(kg)', '팽이버섯_가격(원/kg)', '월', '년', '계절',\n",
       "       '팽이버섯_거래량의_1주전_평균', '팽이버섯_가격의_1주전_평균', '팽이버섯_거래량의_2주전_평균',\n",
       "       '팽이버섯_가격의_2주전_평균'],\n",
       "      dtype='object')"
      ]
     },
     "metadata": {},
     "output_type": "display_data"
    }
   ],
   "source": [
    "preprocessing_2.columns"
   ]
  },
  {
   "cell_type": "markdown",
   "id": "d7259ef3",
   "metadata": {},
   "source": [
    "## 캠벨얼리, 샤인머스켓 파일저장"
   ]
  },
  {
   "cell_type": "code",
   "execution_count": null,
   "id": "e2dea3fb",
   "metadata": {
    "ExecuteTime": {
     "end_time": "2022-10-18T15:55:44.249807Z",
     "start_time": "2022-10-18T15:55:44.235817Z"
    }
   },
   "outputs": [
    {
     "data": {
      "text/plain": [
       "(1770, 9)"
      ]
     },
     "metadata": {},
     "output_type": "display_data"
    }
   ],
   "source": [
    "mushroom_preprocessed = preprocessing_2[['date', '요일', '팽이버섯_거래량(kg)', '팽이버섯_가격(원/kg)', \n",
    "                           '팽이버섯_거래량의_1주전_평균', '팽이버섯_가격의_1주전_평균', '팽이버섯_거래량의_2주전_평균',\n",
    "                           '팽이버섯_가격의_2주전_평균','계절']]\n",
    "mushroom_preprocessed.shape"
   ]
  },
  {
   "cell_type": "code",
   "execution_count": null,
   "id": "051fe529",
   "metadata": {
    "ExecuteTime": {
     "end_time": "2022-10-18T15:55:46.557063Z",
     "start_time": "2022-10-18T15:55:46.522419Z"
    }
   },
   "outputs": [],
   "source": [
    "mushroom_preprocessed.to_csv(processed_path+'팽이버섯_전처리후.csv', index = False)"
   ]
  }
 ],
 "metadata": {
  "kernelspec": {
   "display_name": "Python 3 (ipykernel)",
   "language": "python",
   "name": "python3"
  },
  "language_info": {
   "codemirror_mode": {
    "name": "ipython",
    "version": 3
   },
   "file_extension": ".py",
   "mimetype": "text/x-python",
   "name": "python",
   "nbconvert_exporter": "python",
   "pygments_lexer": "ipython3",
   "version": "3.8.13"
  },
  "toc": {
   "base_numbering": 1,
   "nav_menu": {},
   "number_sections": true,
   "sideBar": true,
   "skip_h1_title": false,
   "title_cell": "Table of Contents",
   "title_sidebar": "Contents",
   "toc_cell": false,
   "toc_position": {},
   "toc_section_display": true,
   "toc_window_display": false
  }
 },
 "nbformat": 4,
 "nbformat_minor": 5
}
