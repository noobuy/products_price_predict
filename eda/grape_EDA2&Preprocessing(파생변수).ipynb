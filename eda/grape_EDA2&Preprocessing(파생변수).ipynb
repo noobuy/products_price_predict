{
 "cells": [
  {
   "cell_type": "markdown",
   "id": "e3ce7c7c",
   "metadata": {},
   "source": [
    "\n",
    "| EDA dataframe      | Description |due|\n",
    "| ----------- | ----------- |----------- |\n",
    "| grape_train  | 캠벨얼리 가격/거래량 + 소비자 물가 지수 + 자동차용경유 + 날씨(4개-평균기온, 평균온량, 일강수량, 일교차) + 수출입(4개) + 재배면적 + 샤인머스켓 거래량 + 실업률_경제활동인구(2개-경제활동인구, 실업률) + 최저시급    |20190101 ~ 20201104|\n",
    "| shinemuscat_train   |샤인마스캇  가격/거래량 + 소비자 물가 지수 + 자동차용경유 + 날씨(4개-평균기온, 평균온량, 일강수량, 일교차) + 수출입(4개) + 재배면적 + 블루베리 거래량 + 실업률_경제활동인구(2개-경제활동인구, 실업률) + 최저시급        |20190101 ~ 20201104|\n",
    "| df      | grape_train + shinemuscat_train       | 20190101 ~ 2020928|"
   ]
  },
  {
   "cell_type": "markdown",
   "id": "e9f4a5b8",
   "metadata": {},
   "source": [
    "## Overview\n",
    "\n",
    "## 주제:  농산물 품목별 가격 변동 예측 모델 구현\n",
    "\n",
    "### 과제 선정 배경\n",
    "코로나 사태가 지속되면서 온라인 시장이 급증하였다. 이에, 가격 변동 예측을 통해 필요한 상품을 필요한 주기에 적정가에 구매하여 구매 비용 및 폐기율 낮춰 생산량 조절\n",
    "\n",
    "\n",
    "### 과제 주요 내용\n",
    "- 농산물 가격은 추측이 어려운 경향이 있음. 기격에 영향을 미치는 요인으로 거래량, 기상, 가격,사회적인 이슈, 물가 상승률, 거래량, 유가, 생산량, 해외 수입량, 재배 면적 등 다양하지만, 그중 기상, 유가, 가격, 거래량 데이터를 이용. 해당 데이터들을 수집하여 전처리, 이상치 탐지, 정규화 등의 과정을 거친 뒤, 회귀 기법의 머신러닝 모델 및 딥러닝(LSTM)을 이용하여 모델을 학습하고 예측한다.\n",
    "- 주기는 1,2,4주로 예측\n",
    "- 이번 프로젝트에서는 토마토, 포도(캠벨얼리, 샤인마스캇) 총 3개의 작물에 대하여 가격 예측을 진행한다.\n",
    "- 수요예측 -> 계획 생산 -> 좋은 품질을 연간 균일, 합리적인 가격\n",
    "\n",
    "**preprocessing : 날씨데이터의 경우 품목별로 재배지역 80%내 재배지역 비율로 전처리**\n",
    "\n",
    "**EDA : 농산물 품목별 계절 패턴이 뚜렷하고, 품목별로 다른 분포를 보임 -> 시계열 반영 모델 및 폼목별 모델 생성**<br>\n",
    "\n",
    "**EDA & preprocessing : 주말(공휴일)의 경우 거래가 발생하지 않음 -> 모델 성능 저하 -> 전처리 필요(거래 전, 후의 가격 평균 대체)**\n",
    "\n",
    "### 과제 목표\n",
    "- 마켓컬리 '폐기율 0.1%' 도전, 고객의 성향이나 맥락, 상품 특성을 고려해 적절한 시기에 상품을 추천함으로써 고객이 원하는 상품을 빠르고 쉽게 찾아서 주문할 수 있도록 지원하기위해 가격 예측이 필요함\n",
    "- 입력받은 일자의 1주 뒤의 가격을 예측하는 것을 목표로 한다. 예를 들어, 2021년 12월 31일의 데이터를 입력으로 한다면, 1월 7일, 1월 14일, 1월 28일의 가격을 수치형으로 예측한다. 모델의 성능 평가 지표는 농산물마다 가격 범위 차이가 큰 점을 반영하여 **``RMSE(Root-mean-square deviation)``** 를 사용하며, 해당 값이 0.2가 넘지 않게 하는 것을 목표로 한다.\n",
    "\n",
    "### 데이터 수집\n",
    "**train(학습용 데이터셋)**: ``20160101`` ~ ``20200928`` => EDA<br> \n",
    "**test(테스트 테이터셋)**: ``20200929 + 1week``~ ``20201104 +4week``\n",
    "\n",
    "\n",
    "[V] 데이터 수집 기한 정하기 <br>\n",
    "[ ] RMSE(평가지표) 예측 주기 정하기\n",
    "\n",
    "### 캠벨얼리 외부데이터\n",
    "소비자 물가 지수, 자동차용경유, 날씨(4개-평균기온, 평균온량, 일강수량, 일교차), 수출입(4개), 재배면적, 샤인머스켓(빅카인즈) 거래량(워드클라우드)   , 실업률_경제활동인구(2개-경제활동인구, 실업률), 최저시급\n",
    "\n",
    "\n",
    "### 샤인마스캇 외부데이터\n",
    "소비자 물가 지수, 자동차용경유, 날씨(4개-평균기온, 평균온량, 일강수량, 일교차), 수출입(4개), 재배면적, 블루베리 거래량(워드클라우드), 실업률_경제활동인구(2개-경제활동인구, 실업률), 최저시급\n",
    "\n",
    "\n",
    "# 파생변수"
   ]
  },
  {
   "cell_type": "code",
   "execution_count": 1,
   "id": "362e6be0",
   "metadata": {
    "ExecuteTime": {
     "end_time": "2022-10-18T15:30:26.948162Z",
     "start_time": "2022-10-18T15:30:26.219797Z"
    }
   },
   "outputs": [
    {
     "name": "stderr",
     "output_type": "stream",
     "text": [
      "/var/folders/08/yfq1rzmx605_pllcn65f77540000gn/T/ipykernel_2098/238796418.py:11: DeprecationWarning: Importing display from IPython.core.display is deprecated since IPython 7.14, please import from IPython display\n",
      "  from IPython.core.display import display, HTML\n"
     ]
    }
   ],
   "source": [
    "import matplotlib.pyplot as plt\n",
    "plt.rcParams['font.family'] = 'AppleGothic'\n",
    "# import tensorflow as tf\n",
    "# import keras\n",
    "from numpy import array\n",
    "import pandas as pd\n",
    "import matplotlib.pyplot as plt\n",
    "import numpy as np\n",
    "import math\n",
    "import matplotlib as mpl\n",
    "from IPython.core.display import display, HTML\n",
    "from datetime import datetime\n",
    "from datetime import timedelta\n",
    "from dateutil.relativedelta import relativedelta\n",
    "from sklearn.preprocessing import MinMaxScaler, RobustScaler\n",
    "# from sklearn.model_selection import train_test_split, RandomizedSearchCV\n",
    "from sklearn.metrics import mean_squared_error, r2_score, mean_absolute_error\n",
    "# from tensorflow.keras import Sequential\n",
    "# from tensorflow.keras import layers\n",
    "# from tensorflow.keras.layers import Dense, LSTM, Dropout\n",
    "# from keras.callbacks import ModelCheckpoint, EarlyStopping\n",
    "# from statsmodels.tsa.seasonal import seasonal_decompose, STL\n",
    "import urllib.request\n",
    "import requests\n",
    "import json\n",
    "import datetime\n",
    "import os\n",
    "from datetime import datetime\n",
    "from sklearn.ensemble import RandomForestRegressor\n",
    "import seaborn as sns\n",
    "from tqdm import tqdm\n",
    "\n",
    "import warnings\n",
    "warnings.filterwarnings('ignore')"
   ]
  },
  {
   "cell_type": "markdown",
   "id": "de28ab3a",
   "metadata": {},
   "source": [
    "# 0. 데이터셋(dataset)\n",
    "\n",
    "**train** 20160101 ~ 20200928 <br> \n",
    "**test** 20200929 ~ 20201105\n",
    "\n",
    "EDA와 기본 모델을 만들때 사용 <br>\n",
    "train + test 합친 프레임(토마토, 포도) = df"
   ]
  },
  {
   "cell_type": "code",
   "execution_count": 2,
   "id": "576bb4aa",
   "metadata": {
    "ExecuteTime": {
     "end_time": "2022-10-18T15:30:30.124176Z",
     "start_time": "2022-10-18T15:30:30.115075Z"
    }
   },
   "outputs": [],
   "source": [
    "# Macbook\n",
    "raw_path = '/Users/goeun/Documents/YearDream/ProJect/kurly_project/products_price_predict/data/raw/'\n",
    "processed_path = '/Users/goeun/Documents/YearDream/ProJect/kurly_project/products_price_predict/data/processed/'"
   ]
  },
  {
   "cell_type": "code",
   "execution_count": 3,
   "id": "75f52e74",
   "metadata": {
    "ExecuteTime": {
     "end_time": "2022-10-18T15:30:32.616782Z",
     "start_time": "2022-10-18T15:30:32.610462Z"
    }
   },
   "outputs": [],
   "source": [
    "# iMACA\n",
    "# raw_path = '/Users/cge/Documents/yeardream/project/kurly/products_price_predict/data/raw/'\n",
    "# processed_path = '/Users/cge/Documents/yeardream/project/kurly/products_price_predict/data/processed/'"
   ]
  },
  {
   "cell_type": "code",
   "execution_count": 3,
   "id": "6afde925",
   "metadata": {
    "ExecuteTime": {
     "end_time": "2022-10-17T08:14:37.525211Z",
     "start_time": "2022-10-17T08:14:37.455568Z"
    },
    "scrolled": false
   },
   "outputs": [
    {
     "name": "stdout",
     "output_type": "stream",
     "text": [
      "['test_2020-10-12.csv', 'test_2020-10-06.csv', 'test_2020-10-07.csv', 'test_2020-10-13.csv', 'test_2020-09-30.csv', 'test_2020-10-05.csv', 'test_2020-10-11.csv', 'test_2020-10-10.csv', 'test_2020-10-04.csv', 'test_2020-10-14.csv', 'test_2020-10-28.csv', 'test_2020-10-29.csv', 'test_2020-10-15.csv', 'test_2020-10-01.csv', 'test_2020-10-17.csv', 'test_2020-10-03.csv', 'test_2020-10-02.csv', 'test_2020-10-16.csv', 'test_2020-10-27.csv', 'test_2020-10-26.csv', 'test_2020-10-18.csv', 'test_2020-10-24.csv', 'test_2020-10-30.csv', 'test_2020-10-31.csv', 'test_2020-10-25.csv', 'test_2020-10-19.csv', 'test_2020-10-21.csv', 'test_2020-10-09.csv', 'test_2020-10-08.csv', 'test_2020-10-20.csv', 'test_2020-09-29.csv', 'test_2020-10-22.csv', 'test_2020-10-23.csv', '.ipynb_checkpoints', 'test_2020-11-04.csv', 'test_2020-11-05.csv', 'test_2020-11-02.csv', 'test_2020-11-03.csv', 'test_2020-11-01.csv']\n",
      "\n"
     ]
    },
    {
     "name": "stderr",
     "output_type": "stream",
     "text": [
      "100%|██████████| 38/38 [00:00<00:00, 522.48it/s]\n"
     ]
    }
   ],
   "source": [
    "# test 데이터 합치기\n",
    "arr = os.listdir('/Users/cge/Documents/yeardream/project/kurly/data/public_data/test_files')\n",
    "print(arr)\n",
    "print()\n",
    "\n",
    "filename_list = arr\n",
    "filename_list_2020 = []    \n",
    "for filename in filename_list :\n",
    "    if '2020' in filename :\n",
    "        filename_list_2020.append(filename)\n",
    "        \n",
    "path = '/Users//cge/Documents/yeardream/project/kurly/data/public_data/test_files/'\n",
    "df_list = []\n",
    "for filename in tqdm(filename_list_2020) :\n",
    "    df = pd.read_csv(path + filename)\n",
    "    df_list.append(df)\n",
    "test = pd.concat(df_list, sort=False).reset_index(drop=True)"
   ]
  },
  {
   "cell_type": "code",
   "execution_count": 4,
   "id": "4a14f91f",
   "metadata": {
    "ExecuteTime": {
     "end_time": "2022-10-18T15:30:37.451212Z",
     "start_time": "2022-10-18T15:30:37.439799Z"
    }
   },
   "outputs": [
    {
     "data": {
      "text/plain": [
       "['shinemuscat_weather.csv',\n",
       " '.DS_Store',\n",
       " '캠벨얼리_전처리후.csv',\n",
       " '샤인머스켓_전처리후.csv',\n",
       " 'shinemuscat.csv',\n",
       " 'README.md',\n",
       " 'grape.csv',\n",
       " 'grape_실업률추가.csv',\n",
       " 'grape_weather.csv',\n",
       " 'shinemuscat_실업률추가.csv']"
      ]
     },
     "execution_count": 4,
     "metadata": {},
     "output_type": "execute_result"
    }
   ],
   "source": [
    "arr2 = os.listdir(processed_path)\n",
    "arr2"
   ]
  },
  {
   "cell_type": "code",
   "execution_count": 26,
   "id": "bfb075e7",
   "metadata": {
    "ExecuteTime": {
     "end_time": "2022-10-18T15:35:30.256235Z",
     "start_time": "2022-10-18T15:35:30.231999Z"
    }
   },
   "outputs": [
    {
     "name": "stdout",
     "output_type": "stream",
     "text": [
      "(1733, 4)\n"
     ]
    }
   ],
   "source": [
    "train = pd.read_csv(raw_path+'train.csv')\n",
    "test = pd.read_csv(raw_path+'test.csv')\n",
    "df = pd.concat([train, test])\n",
    "grape = df[['date', '요일','캠벨얼리_거래량(kg)', '캠벨얼리_가격(원/kg)']]\n",
    "# train -> 2020년 9월 28일까지만 EDA 진행\n",
    "grape_train = grape[:1733]\n",
    "\n",
    "print(grape_train.shape)"
   ]
  },
  {
   "cell_type": "code",
   "execution_count": 27,
   "id": "4d3e7f3c",
   "metadata": {
    "ExecuteTime": {
     "end_time": "2022-10-18T15:35:31.216578Z",
     "start_time": "2022-10-18T15:35:31.205537Z"
    }
   },
   "outputs": [
    {
     "data": {
      "text/plain": [
       "Index(['date', '요일', '캠벨얼리_거래량(kg)', '캠벨얼리_가격(원/kg)'], dtype='object')"
      ]
     },
     "execution_count": 27,
     "metadata": {},
     "output_type": "execute_result"
    }
   ],
   "source": [
    "grape.columns"
   ]
  },
  {
   "cell_type": "code",
   "execution_count": 28,
   "id": "cca5ff0b",
   "metadata": {
    "ExecuteTime": {
     "end_time": "2022-10-18T15:35:32.735027Z",
     "start_time": "2022-10-18T15:35:32.718129Z"
    }
   },
   "outputs": [
    {
     "name": "stdout",
     "output_type": "stream",
     "text": [
      "캠벨얼리\n",
      "<class 'pandas.core.frame.DataFrame'>\n",
      "Int64Index: 1733 entries, 0 to 1732\n",
      "Data columns (total 4 columns):\n",
      " #   Column         Non-Null Count  Dtype  \n",
      "---  ------         --------------  -----  \n",
      " 0   date           1733 non-null   object \n",
      " 1   요일             1733 non-null   object \n",
      " 2   캠벨얼리_거래량(kg)   1733 non-null   float64\n",
      " 3   캠벨얼리_가격(원/kg)  1733 non-null   float64\n",
      "dtypes: float64(2), object(2)\n",
      "memory usage: 67.7+ KB\n",
      "None\n"
     ]
    }
   ],
   "source": [
    "print(f'캠벨얼리')\n",
    "print(grape_train.info())"
   ]
  },
  {
   "cell_type": "markdown",
   "id": "e29bfac8",
   "metadata": {},
   "source": [
    "# EDA (df = grape + shinemuscat)\n",
    "## 농산물 품목 별 가격 추세\n",
    "계절 패턴이 뚜렷하고 품목별로 확연히 다른 분포를 보임 -> 품목별 모델 생성, 시계열 반영 모델 생성"
   ]
  },
  {
   "cell_type": "code",
   "execution_count": 9,
   "id": "52793b5a",
   "metadata": {
    "ExecuteTime": {
     "end_time": "2022-10-18T15:31:32.449117Z",
     "start_time": "2022-10-18T15:31:32.438945Z"
    }
   },
   "outputs": [],
   "source": [
    "df['date'] = pd.to_datetime(df['date'])\n",
    "df.set_index('date',drop=True,inplace=True)"
   ]
  },
  {
   "cell_type": "code",
   "execution_count": 10,
   "id": "69cd8213",
   "metadata": {
    "ExecuteTime": {
     "end_time": "2022-10-18T15:31:33.007095Z",
     "start_time": "2022-10-18T15:31:32.876968Z"
    }
   },
   "outputs": [
    {
     "data": {
      "text/plain": [
       "<AxesSubplot:title={'center':'캠벨얼리_가격(원/kg)'}, xlabel='date'>"
      ]
     },
     "execution_count": 10,
     "metadata": {},
     "output_type": "execute_result"
    },
    {
     "data": {
      "image/png": "[encoded data removed]",
      "text/plain": [
       "<Figure size 1440x720 with 1 Axes>"
      ]
     },
     "metadata": {
      "needs_background": "light"
     },
     "output_type": "display_data"
    }
   ],
   "source": [
    "plt.title('캠벨얼리_가격(원/kg)', fontsize=25)\n",
    "plt.xlabel('기간', fontsize = 20)\n",
    "plt.xticks(fontsize= 15)\n",
    "plt.yticks(fontsize= 20)\n",
    "df['캠벨얼리_가격(원/kg)'].plot(figsize=(20,10))"
   ]
  },
  {
   "cell_type": "markdown",
   "id": "61b686fb",
   "metadata": {},
   "source": [
    "## 농산물 가격 분포\n",
    "특이값이 많이 포함되어 있음 (이상치가 아니라 우리가 예측해야 하는 값)"
   ]
  },
  {
   "cell_type": "code",
   "execution_count": 11,
   "id": "dbe534bf",
   "metadata": {
    "ExecuteTime": {
     "end_time": "2022-10-18T15:31:46.519073Z",
     "start_time": "2022-10-18T15:31:46.456272Z"
    }
   },
   "outputs": [
    {
     "data": {
      "text/plain": [
       "<AxesSubplot:>"
      ]
     },
     "execution_count": 11,
     "metadata": {},
     "output_type": "execute_result"
    },
    {
     "data": {
      "image/png": "[encoded data removed]",
      "text/plain": [
       "<Figure size 420x280 with 1 Axes>"
      ]
     },
     "metadata": {
      "needs_background": "light"
     },
     "output_type": "display_data"
    }
   ],
   "source": [
    "feature = df[['캠벨얼리_가격(원/kg)']].columns\n",
    "\n",
    "fig = plt.figure(dpi=70)\n",
    "plt.xticks(rotation = 0)\n",
    "sns.boxplot(data = df[feature])"
   ]
  },
  {
   "cell_type": "markdown",
   "id": "275a32f8",
   "metadata": {},
   "source": [
    "## 특이값 발생 원인"
   ]
  },
  {
   "cell_type": "markdown",
   "id": "31a48169",
   "metadata": {},
   "source": [
    "\n",
    "캠벨얼리 가격 0이 아닐경우만 시각화 \n",
    "> FTA로 국내 포도 농가 급감 (FTA로 수입 포도 물량이 급증하면서 포도 가격이 하락한 게 주원인, 캠벨얼리가 지난 2011년 4천716원에서 지난해 3천590원) -> 거래량 줄어들면서 가격 상승\n",
    "\n",
    "[재배방법 및 시기](https://www.ganghwa.go.kr/open_content/agriculture/info/technic/grape.jsp)<br>\n",
    "**수확시기 8월 하(캠벨얼리) 9월 중(거봉)**"
   ]
  },
  {
   "cell_type": "code",
   "execution_count": 12,
   "id": "90cc875e",
   "metadata": {
    "ExecuteTime": {
     "end_time": "2022-10-18T15:31:50.873414Z",
     "start_time": "2022-10-18T15:31:50.763602Z"
    }
   },
   "outputs": [
    {
     "data": {
      "text/plain": [
       "<AxesSubplot:xlabel='date'>"
      ]
     },
     "execution_count": 12,
     "metadata": {},
     "output_type": "execute_result"
    },
    {
     "data": {
      "image/png": "[encoded data removed]",
      "text/plain": [
       "<Figure size 1440x720 with 1 Axes>"
      ]
     },
     "metadata": {
      "needs_background": "light"
     },
     "output_type": "display_data"
    }
   ],
   "source": [
    "df[df['캠벨얼리_가격(원/kg)'] > 1]['캠벨얼리_가격(원/kg)'].plot(figsize=(20,10))"
   ]
  },
  {
   "cell_type": "markdown",
   "id": "148fcafc",
   "metadata": {},
   "source": [
    "## [가격 추세 결론]\n",
    "> 1. 농산물 품목별 계절 패턴이 뚜렷 <br>\n",
    "2. 품목별로 다른 분포를 보임 <br>\n",
    "**=>  시계열 반영 모델 및 폼목별 모델 생성**\n",
    "\n",
    "## [가격 분포 결론]\n",
    "> 1. 특이값 분포<br>\n",
    "2. 외부 요인에 의한 이상치 <br>\n",
    "**=> 농산물 품목별 영향을 미치는 외부 요인 추가**\n",
    "\n",
    "## [특이값 발생 결론]\n",
    ">**=> 날씨의 영향 받음**\n",
    "\n",
    "> **캠벨얼리** 가격 0이 아닐경우만 시각화 <br>\n",
    "FTA로 국내 포도 농가 급감 (FTA로 수입 포도 물량이 급증하면서 포도 가격이 하락한 게 주원인, 캠벨얼리가 지난 2011년 4천716원에서 지난해 3천590원) -> 거래량 줄어들면서 가격 상승 <br>\n",
    "[재배방법 및 시기](https://www.ganghwa.go.kr/open_content/agriculture/info/technic/grape.jsp)<br>\n",
    "**수확시기 8월 하(캠벨얼리) 9월 중(거봉)**\n",
    "\n",
    "\n"
   ]
  },
  {
   "cell_type": "markdown",
   "id": "65a7c44d",
   "metadata": {},
   "source": [
    "## Summary Statistics 확인(비시각화)"
   ]
  },
  {
   "cell_type": "code",
   "execution_count": 14,
   "id": "44c6abfb",
   "metadata": {
    "ExecuteTime": {
     "end_time": "2022-10-17T08:14:38.114141Z",
     "start_time": "2022-10-17T08:14:38.055075Z"
    }
   },
   "outputs": [
    {
     "data": {
      "text/html": [
       "<div>\n",
       "<style scoped>\n",
       "    .dataframe tbody tr th:only-of-type {\n",
       "        vertical-align: middle;\n",
       "    }\n",
       "\n",
       "    .dataframe tbody tr th {\n",
       "        vertical-align: top;\n",
       "    }\n",
       "\n",
       "    .dataframe thead th {\n",
       "        text-align: right;\n",
       "    }\n",
       "</style>\n",
       "<table border=\"1\" class=\"dataframe\">\n",
       "  <thead>\n",
       "    <tr style=\"text-align: right;\">\n",
       "      <th></th>\n",
       "      <th>캠벨얼리_거래량(kg)</th>\n",
       "      <th>캠벨얼리_가격(원/kg)</th>\n",
       "      <th>소비자물가지수</th>\n",
       "      <th>자동차용경유</th>\n",
       "      <th>재배지역_평균기온</th>\n",
       "      <th>재배지역_평균운량</th>\n",
       "      <th>재배지역_일강수량</th>\n",
       "      <th>재배지역_일교차</th>\n",
       "      <th>샤인마스캇_거래량(kg)</th>\n",
       "      <th>수출(중량)</th>\n",
       "      <th>수출(금액)</th>\n",
       "      <th>수입(중량)</th>\n",
       "      <th>수입(금액)</th>\n",
       "      <th>재배면적(ha)</th>\n",
       "      <th>최저시급</th>\n",
       "      <th>경제활동인구</th>\n",
       "      <th>실업률 (%)</th>\n",
       "    </tr>\n",
       "  </thead>\n",
       "  <tbody>\n",
       "    <tr>\n",
       "      <th>count</th>\n",
       "      <td>1.733000e+03</td>\n",
       "      <td>1733.000000</td>\n",
       "      <td>1733.000000</td>\n",
       "      <td>1733.000000</td>\n",
       "      <td>1733.000000</td>\n",
       "      <td>1733.000000</td>\n",
       "      <td>1733.000000</td>\n",
       "      <td>1733.000000</td>\n",
       "      <td>1733.000000</td>\n",
       "      <td>1733.000000</td>\n",
       "      <td>1733.000000</td>\n",
       "      <td>1733.000000</td>\n",
       "      <td>1.733000e+03</td>\n",
       "      <td>1733.000000</td>\n",
       "      <td>1733.000000</td>\n",
       "      <td>1733.000000</td>\n",
       "      <td>1733.000000</td>\n",
       "    </tr>\n",
       "    <tr>\n",
       "      <th>mean</th>\n",
       "      <td>1.183558e+05</td>\n",
       "      <td>3214.508944</td>\n",
       "      <td>98.296488</td>\n",
       "      <td>1284.769913</td>\n",
       "      <td>13.549862</td>\n",
       "      <td>2.959937</td>\n",
       "      <td>3.640364</td>\n",
       "      <td>11.089937</td>\n",
       "      <td>6690.233756</td>\n",
       "      <td>4032.771102</td>\n",
       "      <td>37939.022043</td>\n",
       "      <td>202373.205574</td>\n",
       "      <td>5.620692e+05</td>\n",
       "      <td>13350.826313</td>\n",
       "      <td>7331.136757</td>\n",
       "      <td>960188.675130</td>\n",
       "      <td>0.130006</td>\n",
       "    </tr>\n",
       "    <tr>\n",
       "      <th>std</th>\n",
       "      <td>2.465254e+05</td>\n",
       "      <td>2150.772383</td>\n",
       "      <td>1.556293</td>\n",
       "      <td>100.238503</td>\n",
       "      <td>9.939853</td>\n",
       "      <td>2.880286</td>\n",
       "      <td>10.663743</td>\n",
       "      <td>3.757588</td>\n",
       "      <td>24296.175358</td>\n",
       "      <td>4844.407819</td>\n",
       "      <td>48541.196622</td>\n",
       "      <td>178504.801358</td>\n",
       "      <td>5.115530e+05</td>\n",
       "      <td>846.013076</td>\n",
       "      <td>995.417172</td>\n",
       "      <td>14159.459741</td>\n",
       "      <td>0.017508</td>\n",
       "    </tr>\n",
       "    <tr>\n",
       "      <th>min</th>\n",
       "      <td>0.000000e+00</td>\n",
       "      <td>0.000000</td>\n",
       "      <td>95.232000</td>\n",
       "      <td>1058.750000</td>\n",
       "      <td>-11.310000</td>\n",
       "      <td>0.000000</td>\n",
       "      <td>0.000000</td>\n",
       "      <td>2.390000</td>\n",
       "      <td>0.000000</td>\n",
       "      <td>39.220690</td>\n",
       "      <td>134.965517</td>\n",
       "      <td>44707.270000</td>\n",
       "      <td>9.710637e+04</td>\n",
       "      <td>12676.000000</td>\n",
       "      <td>6030.000000</td>\n",
       "      <td>918310.000000</td>\n",
       "      <td>0.100000</td>\n",
       "    </tr>\n",
       "    <tr>\n",
       "      <th>25%</th>\n",
       "      <td>9.742000e+02</td>\n",
       "      <td>2053.000000</td>\n",
       "      <td>97.366000</td>\n",
       "      <td>1220.280000</td>\n",
       "      <td>4.780000</td>\n",
       "      <td>0.800000</td>\n",
       "      <td>0.000000</td>\n",
       "      <td>8.520000</td>\n",
       "      <td>0.000000</td>\n",
       "      <td>507.174194</td>\n",
       "      <td>1663.741935</td>\n",
       "      <td>80399.758065</td>\n",
       "      <td>2.012466e+05</td>\n",
       "      <td>12795.000000</td>\n",
       "      <td>6470.000000</td>\n",
       "      <td>952310.000000</td>\n",
       "      <td>0.120000</td>\n",
       "    </tr>\n",
       "    <tr>\n",
       "      <th>50%</th>\n",
       "      <td>4.541600e+03</td>\n",
       "      <td>3318.000000</td>\n",
       "      <td>98.855000</td>\n",
       "      <td>1293.630000</td>\n",
       "      <td>14.630000</td>\n",
       "      <td>1.640000</td>\n",
       "      <td>0.000000</td>\n",
       "      <td>10.910000</td>\n",
       "      <td>126.000000</td>\n",
       "      <td>1637.540000</td>\n",
       "      <td>13226.966667</td>\n",
       "      <td>128144.626667</td>\n",
       "      <td>3.676184e+05</td>\n",
       "      <td>13107.000000</td>\n",
       "      <td>7540.000000</td>\n",
       "      <td>963551.000000</td>\n",
       "      <td>0.130000</td>\n",
       "    </tr>\n",
       "    <tr>\n",
       "      <th>75%</th>\n",
       "      <td>7.459400e+04</td>\n",
       "      <td>4302.000000</td>\n",
       "      <td>99.491000</td>\n",
       "      <td>1361.780000</td>\n",
       "      <td>22.160000</td>\n",
       "      <td>5.050000</td>\n",
       "      <td>1.360000</td>\n",
       "      <td>13.530000</td>\n",
       "      <td>2782.000000</td>\n",
       "      <td>5873.200000</td>\n",
       "      <td>52675.419355</td>\n",
       "      <td>238366.954839</td>\n",
       "      <td>6.320523e+05</td>\n",
       "      <td>13183.000000</td>\n",
       "      <td>8350.000000</td>\n",
       "      <td>968793.000000</td>\n",
       "      <td>0.140000</td>\n",
       "    </tr>\n",
       "    <tr>\n",
       "      <th>max</th>\n",
       "      <td>1.490337e+06</td>\n",
       "      <td>25000.000000</td>\n",
       "      <td>100.740000</td>\n",
       "      <td>1495.760000</td>\n",
       "      <td>30.990000</td>\n",
       "      <td>10.000000</td>\n",
       "      <td>131.640000</td>\n",
       "      <td>22.060000</td>\n",
       "      <td>382263.400000</td>\n",
       "      <td>19598.766667</td>\n",
       "      <td>181332.266667</td>\n",
       "      <td>843743.880000</td>\n",
       "      <td>2.323876e+06</td>\n",
       "      <td>14946.000000</td>\n",
       "      <td>8590.000000</td>\n",
       "      <td>984310.000000</td>\n",
       "      <td>0.170000</td>\n",
       "    </tr>\n",
       "  </tbody>\n",
       "</table>\n",
       "</div>"
      ],
      "text/plain": [
       "       캠벨얼리_거래량(kg)  캠벨얼리_가격(원/kg)      소비자물가지수       자동차용경유    재배지역_평균기온  \\\n",
       "count  1.733000e+03    1733.000000  1733.000000  1733.000000  1733.000000   \n",
       "mean   1.183558e+05    3214.508944    98.296488  1284.769913    13.549862   \n",
       "std    2.465254e+05    2150.772383     1.556293   100.238503     9.939853   \n",
       "min    0.000000e+00       0.000000    95.232000  1058.750000   -11.310000   \n",
       "25%    9.742000e+02    2053.000000    97.366000  1220.280000     4.780000   \n",
       "50%    4.541600e+03    3318.000000    98.855000  1293.630000    14.630000   \n",
       "75%    7.459400e+04    4302.000000    99.491000  1361.780000    22.160000   \n",
       "max    1.490337e+06   25000.000000   100.740000  1495.760000    30.990000   \n",
       "\n",
       "         재배지역_평균운량    재배지역_일강수량     재배지역_일교차  샤인마스캇_거래량(kg)        수출(중량)  \\\n",
       "count  1733.000000  1733.000000  1733.000000    1733.000000   1733.000000   \n",
       "mean      2.959937     3.640364    11.089937    6690.233756   4032.771102   \n",
       "std       2.880286    10.663743     3.757588   24296.175358   4844.407819   \n",
       "min       0.000000     0.000000     2.390000       0.000000     39.220690   \n",
       "25%       0.800000     0.000000     8.520000       0.000000    507.174194   \n",
       "50%       1.640000     0.000000    10.910000     126.000000   1637.540000   \n",
       "75%       5.050000     1.360000    13.530000    2782.000000   5873.200000   \n",
       "max      10.000000   131.640000    22.060000  382263.400000  19598.766667   \n",
       "\n",
       "              수출(금액)         수입(중량)        수입(금액)      재배면적(ha)         최저시급  \\\n",
       "count    1733.000000    1733.000000  1.733000e+03   1733.000000  1733.000000   \n",
       "mean    37939.022043  202373.205574  5.620692e+05  13350.826313  7331.136757   \n",
       "std     48541.196622  178504.801358  5.115530e+05    846.013076   995.417172   \n",
       "min       134.965517   44707.270000  9.710637e+04  12676.000000  6030.000000   \n",
       "25%      1663.741935   80399.758065  2.012466e+05  12795.000000  6470.000000   \n",
       "50%     13226.966667  128144.626667  3.676184e+05  13107.000000  7540.000000   \n",
       "75%     52675.419355  238366.954839  6.320523e+05  13183.000000  8350.000000   \n",
       "max    181332.266667  843743.880000  2.323876e+06  14946.000000  8590.000000   \n",
       "\n",
       "              경제활동인구      실업률 (%)  \n",
       "count    1733.000000  1733.000000  \n",
       "mean   960188.675130     0.130006  \n",
       "std     14159.459741     0.017508  \n",
       "min    918310.000000     0.100000  \n",
       "25%    952310.000000     0.120000  \n",
       "50%    963551.000000     0.130000  \n",
       "75%    968793.000000     0.140000  \n",
       "max    984310.000000     0.170000  "
      ]
     },
     "execution_count": 14,
     "metadata": {},
     "output_type": "execute_result"
    }
   ],
   "source": [
    "# 캠벨얼리 비시각화\n",
    "grape_train.describe()"
   ]
  },
  {
   "cell_type": "markdown",
   "id": "af90c92d",
   "metadata": {},
   "source": [
    "## [Summary Statistics 결론]\n",
    "> 1. 샤인마스캇의 가격의 편차가 캠벨얼리보다 큼 <br>\n",
    "2. 수출보다 수입의 금액이 더큼 <br>\n",
    "**=> 데이터의 편차가 크고 단위가 다름 -> 정규화 -> RobustScaler**"
   ]
  },
  {
   "cell_type": "markdown",
   "id": "e388ff76",
   "metadata": {},
   "source": [
    "----"
   ]
  },
  {
   "cell_type": "markdown",
   "id": "e7066061",
   "metadata": {},
   "source": [
    "\n",
    "##  요일, 년, 월 컬럼 추가"
   ]
  },
  {
   "cell_type": "code",
   "execution_count": 13,
   "id": "527cef0f",
   "metadata": {
    "ExecuteTime": {
     "end_time": "2022-10-18T15:32:15.445768Z",
     "start_time": "2022-10-18T15:32:15.309849Z"
    }
   },
   "outputs": [],
   "source": [
    "grape_train.date = pd.to_datetime(grape_train.date)\n",
    "grape_train_date = pd.concat([grape_train, pd.get_dummies(grape_train['요일'])], axis = 1)\n",
    "grape_train_date['년'] = grape_train['date'].dt.year \n",
    "grape_train_date['월'] = grape_train['date'].dt.month "
   ]
  },
  {
   "cell_type": "code",
   "execution_count": 14,
   "id": "a3986bfb",
   "metadata": {
    "ExecuteTime": {
     "end_time": "2022-10-18T15:32:18.424218Z",
     "start_time": "2022-10-18T15:32:18.393235Z"
    }
   },
   "outputs": [
    {
     "data": {
      "text/html": [
       "<div>\n",
       "<style scoped>\n",
       "    .dataframe tbody tr th:only-of-type {\n",
       "        vertical-align: middle;\n",
       "    }\n",
       "\n",
       "    .dataframe tbody tr th {\n",
       "        vertical-align: top;\n",
       "    }\n",
       "\n",
       "    .dataframe thead th {\n",
       "        text-align: right;\n",
       "    }\n",
       "</style>\n",
       "<table border=\"1\" class=\"dataframe\">\n",
       "  <thead>\n",
       "    <tr style=\"text-align: right;\">\n",
       "      <th></th>\n",
       "      <th>date</th>\n",
       "      <th>요일</th>\n",
       "      <th>캠벨얼리_거래량(kg)</th>\n",
       "      <th>캠벨얼리_가격(원/kg)</th>\n",
       "      <th>소비자물가지수</th>\n",
       "      <th>자동차용경유</th>\n",
       "      <th>재배지역_평균기온</th>\n",
       "      <th>재배지역_평균운량</th>\n",
       "      <th>재배지역_일강수량</th>\n",
       "      <th>재배지역_일교차</th>\n",
       "      <th>...</th>\n",
       "      <th>실업률 (%)</th>\n",
       "      <th>금요일</th>\n",
       "      <th>목요일</th>\n",
       "      <th>수요일</th>\n",
       "      <th>월요일</th>\n",
       "      <th>일요일</th>\n",
       "      <th>토요일</th>\n",
       "      <th>화요일</th>\n",
       "      <th>년</th>\n",
       "      <th>월</th>\n",
       "    </tr>\n",
       "  </thead>\n",
       "  <tbody>\n",
       "    <tr>\n",
       "      <th>0</th>\n",
       "      <td>2016-01-01</td>\n",
       "      <td>금요일</td>\n",
       "      <td>0.0</td>\n",
       "      <td>0.0</td>\n",
       "      <td>95.232</td>\n",
       "      <td>1188.71</td>\n",
       "      <td>0.30</td>\n",
       "      <td>1.11</td>\n",
       "      <td>0.0</td>\n",
       "      <td>12.05</td>\n",
       "      <td>...</td>\n",
       "      <td>0.13</td>\n",
       "      <td>1</td>\n",
       "      <td>0</td>\n",
       "      <td>0</td>\n",
       "      <td>0</td>\n",
       "      <td>0</td>\n",
       "      <td>0</td>\n",
       "      <td>0</td>\n",
       "      <td>2016</td>\n",
       "      <td>1</td>\n",
       "    </tr>\n",
       "    <tr>\n",
       "      <th>1</th>\n",
       "      <td>2016-01-02</td>\n",
       "      <td>토요일</td>\n",
       "      <td>880.0</td>\n",
       "      <td>2014.0</td>\n",
       "      <td>95.232</td>\n",
       "      <td>1187.91</td>\n",
       "      <td>3.61</td>\n",
       "      <td>1.31</td>\n",
       "      <td>0.0</td>\n",
       "      <td>13.11</td>\n",
       "      <td>...</td>\n",
       "      <td>0.13</td>\n",
       "      <td>0</td>\n",
       "      <td>0</td>\n",
       "      <td>0</td>\n",
       "      <td>0</td>\n",
       "      <td>0</td>\n",
       "      <td>1</td>\n",
       "      <td>0</td>\n",
       "      <td>2016</td>\n",
       "      <td>1</td>\n",
       "    </tr>\n",
       "  </tbody>\n",
       "</table>\n",
       "<p>2 rows × 28 columns</p>\n",
       "</div>"
      ],
      "text/plain": [
       "        date   요일  캠벨얼리_거래량(kg)  캠벨얼리_가격(원/kg)  소비자물가지수   자동차용경유  재배지역_평균기온  \\\n",
       "0 2016-01-01  금요일           0.0            0.0   95.232  1188.71       0.30   \n",
       "1 2016-01-02  토요일         880.0         2014.0   95.232  1187.91       3.61   \n",
       "\n",
       "   재배지역_평균운량  재배지역_일강수량  재배지역_일교차  ...  실업률 (%)  금요일  목요일  수요일  월요일  일요일  토요일  \\\n",
       "0       1.11        0.0     12.05  ...     0.13    1    0    0    0    0    0   \n",
       "1       1.31        0.0     13.11  ...     0.13    0    0    0    0    0    1   \n",
       "\n",
       "   화요일     년  월  \n",
       "0    0  2016  1  \n",
       "1    0  2016  1  \n",
       "\n",
       "[2 rows x 28 columns]"
      ]
     },
     "metadata": {},
     "output_type": "display_data"
    },
    {
     "data": {
      "text/html": [
       "<div>\n",
       "<style scoped>\n",
       "    .dataframe tbody tr th:only-of-type {\n",
       "        vertical-align: middle;\n",
       "    }\n",
       "\n",
       "    .dataframe tbody tr th {\n",
       "        vertical-align: top;\n",
       "    }\n",
       "\n",
       "    .dataframe thead th {\n",
       "        text-align: right;\n",
       "    }\n",
       "</style>\n",
       "<table border=\"1\" class=\"dataframe\">\n",
       "  <thead>\n",
       "    <tr style=\"text-align: right;\">\n",
       "      <th></th>\n",
       "      <th>date</th>\n",
       "      <th>요일</th>\n",
       "      <th>캠벨얼리_거래량(kg)</th>\n",
       "      <th>캠벨얼리_가격(원/kg)</th>\n",
       "      <th>소비자물가지수</th>\n",
       "      <th>자동차용경유</th>\n",
       "      <th>재배지역_평균기온</th>\n",
       "      <th>재배지역_평균운량</th>\n",
       "      <th>재배지역_일강수량</th>\n",
       "      <th>재배지역_일교차</th>\n",
       "      <th>...</th>\n",
       "      <th>실업률 (%)</th>\n",
       "      <th>금요일</th>\n",
       "      <th>목요일</th>\n",
       "      <th>수요일</th>\n",
       "      <th>월요일</th>\n",
       "      <th>일요일</th>\n",
       "      <th>토요일</th>\n",
       "      <th>화요일</th>\n",
       "      <th>년</th>\n",
       "      <th>월</th>\n",
       "    </tr>\n",
       "  </thead>\n",
       "  <tbody>\n",
       "    <tr>\n",
       "      <th>1731</th>\n",
       "      <td>2020-09-27</td>\n",
       "      <td>일요일</td>\n",
       "      <td>21717.0</td>\n",
       "      <td>3567.0</td>\n",
       "      <td>100.74</td>\n",
       "      <td>1145.23</td>\n",
       "      <td>18.76</td>\n",
       "      <td>1.71</td>\n",
       "      <td>0.0</td>\n",
       "      <td>11.36</td>\n",
       "      <td>...</td>\n",
       "      <td>0.12</td>\n",
       "      <td>0</td>\n",
       "      <td>0</td>\n",
       "      <td>0</td>\n",
       "      <td>0</td>\n",
       "      <td>1</td>\n",
       "      <td>0</td>\n",
       "      <td>0</td>\n",
       "      <td>2020</td>\n",
       "      <td>9</td>\n",
       "    </tr>\n",
       "    <tr>\n",
       "      <th>1732</th>\n",
       "      <td>2020-09-28</td>\n",
       "      <td>월요일</td>\n",
       "      <td>601841.0</td>\n",
       "      <td>3761.0</td>\n",
       "      <td>100.74</td>\n",
       "      <td>1144.85</td>\n",
       "      <td>17.45</td>\n",
       "      <td>2.11</td>\n",
       "      <td>0.0</td>\n",
       "      <td>13.38</td>\n",
       "      <td>...</td>\n",
       "      <td>0.12</td>\n",
       "      <td>0</td>\n",
       "      <td>0</td>\n",
       "      <td>0</td>\n",
       "      <td>1</td>\n",
       "      <td>0</td>\n",
       "      <td>0</td>\n",
       "      <td>0</td>\n",
       "      <td>2020</td>\n",
       "      <td>9</td>\n",
       "    </tr>\n",
       "  </tbody>\n",
       "</table>\n",
       "<p>2 rows × 28 columns</p>\n",
       "</div>"
      ],
      "text/plain": [
       "           date   요일  캠벨얼리_거래량(kg)  캠벨얼리_가격(원/kg)  소비자물가지수   자동차용경유  \\\n",
       "1731 2020-09-27  일요일       21717.0         3567.0   100.74  1145.23   \n",
       "1732 2020-09-28  월요일      601841.0         3761.0   100.74  1144.85   \n",
       "\n",
       "      재배지역_평균기온  재배지역_평균운량  재배지역_일강수량  재배지역_일교차  ...  실업률 (%)  금요일  목요일  수요일  \\\n",
       "1731      18.76       1.71        0.0     11.36  ...     0.12    0    0    0   \n",
       "1732      17.45       2.11        0.0     13.38  ...     0.12    0    0    0   \n",
       "\n",
       "      월요일  일요일  토요일  화요일     년  월  \n",
       "1731    0    1    0    0  2020  9  \n",
       "1732    1    0    0    0  2020  9  \n",
       "\n",
       "[2 rows x 28 columns]"
      ]
     },
     "metadata": {},
     "output_type": "display_data"
    },
    {
     "name": "stdout",
     "output_type": "stream",
     "text": [
      "(1733, 28)\n"
     ]
    }
   ],
   "source": [
    "display(grape_train_date.head(2))\n",
    "display(grape_train_date.tail(2))\n",
    "print(grape_train_date.shape)"
   ]
  },
  {
   "cell_type": "markdown",
   "id": "effc7087",
   "metadata": {},
   "source": [
    "## 1. 캠벨얼리 EDA (grape_train)\n",
    "### 1-1. 캠벨얼리 거래량이 가격에 영향을 끼치는가?\n",
    "> **[결론]생산량과 가격은 상관관계 거의 없음**"
   ]
  },
  {
   "cell_type": "code",
   "execution_count": 18,
   "id": "e1045c20",
   "metadata": {
    "ExecuteTime": {
     "end_time": "2022-10-17T08:14:38.339904Z",
     "start_time": "2022-10-17T08:14:38.278479Z"
    }
   },
   "outputs": [
    {
     "data": {
      "image/png": "[encoded data removed]",
      "text/plain": [
       "<Figure size 432x288 with 1 Axes>"
      ]
     },
     "metadata": {
      "needs_background": "light"
     },
     "output_type": "display_data"
    }
   ],
   "source": [
    "x = grape_train['캠벨얼리_거래량(kg)']\n",
    "y = grape_train['캠벨얼리_가격(원/kg)']\n",
    "\n",
    "plt.plot(x, y, 'o')\n",
    "plt.show()"
   ]
  },
  {
   "cell_type": "markdown",
   "id": "03d43bbe",
   "metadata": {},
   "source": [
    "### 1-2. 캠벨얼리의 2019년도 거래량은 2020년도 수확시기(8월)에 가격의 영향을 끼치는가?\n",
    "> [결론] 가격과 수확시기는 상관관계 조금 유의하다 볼 수 있음"
   ]
  },
  {
   "cell_type": "code",
   "execution_count": 19,
   "id": "ce697cd9",
   "metadata": {
    "ExecuteTime": {
     "end_time": "2022-10-17T08:14:38.348312Z",
     "start_time": "2022-10-17T08:14:38.340967Z"
    }
   },
   "outputs": [
    {
     "name": "stdout",
     "output_type": "stream",
     "text": [
      "캠벨얼리_거래량(kg)    151953.232514\n",
      "dtype: float64\n",
      "캠벨얼리_거래량(kg)    128875.319178\n",
      "dtype: float64\n",
      "캠벨얼리_거래량(kg)    100920.615616\n",
      "dtype: float64\n",
      "캠벨얼리_거래량(kg)    111851.179726\n",
      "dtype: float64\n",
      "캠벨얼리_거래량(kg)    91156.276471\n",
      "dtype: float64\n"
     ]
    }
   ],
   "source": [
    "print(grape_train_date.loc[grape_train_date['년'] == 2016, ['캠벨얼리_거래량(kg)']].mean())\n",
    "print(grape_train_date.loc[grape_train_date['년'] == 2017, ['캠벨얼리_거래량(kg)']].mean())\n",
    "print(grape_train_date.loc[grape_train_date['년'] == 2018, ['캠벨얼리_거래량(kg)']].mean())\n",
    "print(grape_train_date.loc[grape_train_date['년'] == 2019, ['캠벨얼리_거래량(kg)']].mean())\n",
    "print(grape_train_date.loc[grape_train_date['년'] == 2020, ['캠벨얼리_거래량(kg)']].mean())"
   ]
  },
  {
   "cell_type": "code",
   "execution_count": 20,
   "id": "f16efccf",
   "metadata": {
    "ExecuteTime": {
     "end_time": "2022-10-17T08:14:38.353053Z",
     "start_time": "2022-10-17T08:14:38.349198Z"
    }
   },
   "outputs": [
    {
     "data": {
      "text/plain": [
       "0    151953.232514\n",
       "1    128875.319178\n",
       "2    100920.615616\n",
       "3    111851.179726\n",
       "Name: 연간 거래량평균, dtype: float64"
      ]
     },
     "execution_count": 20,
     "metadata": {},
     "output_type": "execute_result"
    }
   ],
   "source": [
    "ouput = pd.DataFrame({'년':[2016, 2017, 2018, 2019, 2020],\n",
    "                     '연간 거래량평균': [151953.232514, 128875.319178, 100920.615616, 111851.179726, 91156.276471]})\n",
    "output = ouput[ouput['년'] < 2020] # 2020년을 제외하고 연도별 공급량 추출\n",
    "output = output.iloc[:,1].reset_index(drop=True)\n",
    "output"
   ]
  },
  {
   "cell_type": "code",
   "execution_count": 21,
   "id": "c628532d",
   "metadata": {
    "ExecuteTime": {
     "end_time": "2022-10-17T08:14:38.362415Z",
     "start_time": "2022-10-17T08:14:38.353941Z"
    }
   },
   "outputs": [
    {
     "name": "stdout",
     "output_type": "stream",
     "text": [
      "캠벨얼리_가격(원/kg)    1820.645161\n",
      "dtype: float64\n",
      "캠벨얼리_가격(원/kg)    2534.548387\n",
      "dtype: float64\n",
      "캠벨얼리_가격(원/kg)    2920.548387\n",
      "dtype: float64\n",
      "캠벨얼리_가격(원/kg)    2625.064516\n",
      "dtype: float64\n",
      "캠벨얼리_가격(원/kg)    3315.16129\n",
      "dtype: float64\n"
     ]
    }
   ],
   "source": [
    "print(grape_train_date.loc[(grape_train_date['년'] == 2016) &(grape_train_date['월'] == 8), ['캠벨얼리_가격(원/kg)']].mean())\n",
    "print(grape_train_date.loc[(grape_train_date['년'] == 2017) &(grape_train_date['월'] == 8), ['캠벨얼리_가격(원/kg)']].mean())\n",
    "print(grape_train_date.loc[(grape_train_date['년'] == 2018) &(grape_train_date['월'] == 8), ['캠벨얼리_가격(원/kg)']].mean())\n",
    "print(grape_train_date.loc[(grape_train_date['년'] == 2019) &(grape_train_date['월'] == 8), ['캠벨얼리_가격(원/kg)']].mean())\n",
    "print(grape_train_date.loc[(grape_train_date['년'] == 2020) &(grape_train_date['월'] == 8), ['캠벨얼리_가격(원/kg)']].mean())"
   ]
  },
  {
   "cell_type": "code",
   "execution_count": 22,
   "id": "1f5007e3",
   "metadata": {
    "ExecuteTime": {
     "end_time": "2022-10-17T08:14:38.367574Z",
     "start_time": "2022-10-17T08:14:38.363588Z"
    }
   },
   "outputs": [
    {
     "data": {
      "text/plain": [
       "0    2534.548387\n",
       "1    2920.548387\n",
       "2    2625.064516\n",
       "3    3315.161290\n",
       "Name: 연간 가격평균, dtype: float64"
      ]
     },
     "execution_count": 22,
     "metadata": {},
     "output_type": "execute_result"
    }
   ],
   "source": [
    "price_yang = pd.DataFrame({'년':[2016, 2017, 2018, 2019, 2020],\n",
    "                     '연간 가격평균': [1820.645161, 2534.548387, 2920.548387, 2625.064516, 3315.16129]})\n",
    "price_yang = price_yang[ouput['년'] != 2016] # 2016년을 제외하고 연도별 공급량 추출\n",
    "price_yang = price_yang.iloc[:,1].reset_index(drop=True)\n",
    "price_yang"
   ]
  },
  {
   "cell_type": "code",
   "execution_count": 23,
   "id": "41c64d3f",
   "metadata": {
    "ExecuteTime": {
     "end_time": "2022-10-17T08:14:38.371251Z",
     "start_time": "2022-10-17T08:14:38.368842Z"
    }
   },
   "outputs": [],
   "source": [
    "output = pd.DataFrame(output)\n",
    "price_yang = pd.DataFrame(price_yang)\n",
    "\n",
    "data = pd.concat([output, price_yang], axis = 1)"
   ]
  },
  {
   "cell_type": "code",
   "execution_count": 24,
   "id": "a0515d42",
   "metadata": {
    "ExecuteTime": {
     "end_time": "2022-10-17T08:14:38.376195Z",
     "start_time": "2022-10-17T08:14:38.372321Z"
    }
   },
   "outputs": [
    {
     "data": {
      "text/html": [
       "<div>\n",
       "<style scoped>\n",
       "    .dataframe tbody tr th:only-of-type {\n",
       "        vertical-align: middle;\n",
       "    }\n",
       "\n",
       "    .dataframe tbody tr th {\n",
       "        vertical-align: top;\n",
       "    }\n",
       "\n",
       "    .dataframe thead th {\n",
       "        text-align: right;\n",
       "    }\n",
       "</style>\n",
       "<table border=\"1\" class=\"dataframe\">\n",
       "  <thead>\n",
       "    <tr style=\"text-align: right;\">\n",
       "      <th></th>\n",
       "      <th>연간 거래량평균</th>\n",
       "      <th>연간 가격평균</th>\n",
       "    </tr>\n",
       "  </thead>\n",
       "  <tbody>\n",
       "    <tr>\n",
       "      <th>연간 거래량평균</th>\n",
       "      <td>1.000000</td>\n",
       "      <td>-0.380633</td>\n",
       "    </tr>\n",
       "    <tr>\n",
       "      <th>연간 가격평균</th>\n",
       "      <td>-0.380633</td>\n",
       "      <td>1.000000</td>\n",
       "    </tr>\n",
       "  </tbody>\n",
       "</table>\n",
       "</div>"
      ],
      "text/plain": [
       "          연간 거래량평균   연간 가격평균\n",
       "연간 거래량평균  1.000000 -0.380633\n",
       "연간 가격평균  -0.380633  1.000000"
      ]
     },
     "execution_count": 24,
     "metadata": {},
     "output_type": "execute_result"
    }
   ],
   "source": [
    "data.corr()"
   ]
  },
  {
   "cell_type": "code",
   "execution_count": 25,
   "id": "c0f7001d",
   "metadata": {
    "ExecuteTime": {
     "end_time": "2022-10-17T08:14:38.520941Z",
     "start_time": "2022-10-17T08:14:38.377232Z"
    }
   },
   "outputs": [
    {
     "data": {
      "image/png": "[encoded data removed]",
      "text/plain": [
       "<Figure size 864x432 with 1 Axes>"
      ]
     },
     "metadata": {
      "needs_background": "light"
     },
     "output_type": "display_data"
    }
   ],
   "source": [
    "from statsmodels.formula.api import ols\n",
    "\n",
    "data_x = data['연간 거래량평균']\n",
    "data_y = data['연간 가격평균']\n",
    "\n",
    "#pyplot과 seaborn으로 회귀그래프 \n",
    "plt.rcParams[\"figure.figsize\"] = (12, 6)\n",
    "sns.regplot(x=data_x, y=data_y, data=data)\n",
    "plt.grid()\n",
    "plt.show()"
   ]
  },
  {
   "cell_type": "markdown",
   "id": "29be6614",
   "metadata": {},
   "source": [
    "### 1-3. 캠벨얼리의 가격은 날씨데이터(계절)에 영향을 끼치는가?\n",
    "> 가격과 날씨데이터간의 상관관계 유의하지 않음"
   ]
  },
  {
   "cell_type": "code",
   "execution_count": 26,
   "id": "2f10d1fe",
   "metadata": {
    "ExecuteTime": {
     "end_time": "2022-10-17T08:14:38.526489Z",
     "start_time": "2022-10-17T08:14:38.522189Z"
    }
   },
   "outputs": [
    {
     "data": {
      "text/html": [
       "<div>\n",
       "<style scoped>\n",
       "    .dataframe tbody tr th:only-of-type {\n",
       "        vertical-align: middle;\n",
       "    }\n",
       "\n",
       "    .dataframe tbody tr th {\n",
       "        vertical-align: top;\n",
       "    }\n",
       "\n",
       "    .dataframe thead th {\n",
       "        text-align: right;\n",
       "    }\n",
       "</style>\n",
       "<table border=\"1\" class=\"dataframe\">\n",
       "  <thead>\n",
       "    <tr style=\"text-align: right;\">\n",
       "      <th></th>\n",
       "      <th>년</th>\n",
       "      <th>월</th>\n",
       "      <th>캠벨얼리_가격(원/kg)</th>\n",
       "    </tr>\n",
       "  </thead>\n",
       "  <tbody>\n",
       "    <tr>\n",
       "      <th>년</th>\n",
       "      <td>1.000000</td>\n",
       "      <td>-0.109649</td>\n",
       "      <td>0.186223</td>\n",
       "    </tr>\n",
       "    <tr>\n",
       "      <th>월</th>\n",
       "      <td>-0.109649</td>\n",
       "      <td>1.000000</td>\n",
       "      <td>-0.167286</td>\n",
       "    </tr>\n",
       "    <tr>\n",
       "      <th>캠벨얼리_가격(원/kg)</th>\n",
       "      <td>0.186223</td>\n",
       "      <td>-0.167286</td>\n",
       "      <td>1.000000</td>\n",
       "    </tr>\n",
       "  </tbody>\n",
       "</table>\n",
       "</div>"
      ],
      "text/plain": [
       "                      년         월  캠벨얼리_가격(원/kg)\n",
       "년              1.000000 -0.109649       0.186223\n",
       "월             -0.109649  1.000000      -0.167286\n",
       "캠벨얼리_가격(원/kg)  0.186223 -0.167286       1.000000"
      ]
     },
     "execution_count": 26,
     "metadata": {},
     "output_type": "execute_result"
    }
   ],
   "source": [
    "grape_weather = grape_train_date[['년','월','캠벨얼리_가격(원/kg)']]\n",
    "grape_weather.corr()"
   ]
  },
  {
   "cell_type": "code",
   "execution_count": 27,
   "id": "e54af78f",
   "metadata": {
    "ExecuteTime": {
     "end_time": "2022-10-17T08:14:38.533145Z",
     "start_time": "2022-10-17T08:14:38.527541Z"
    }
   },
   "outputs": [
    {
     "data": {
      "text/html": [
       "<div>\n",
       "<style scoped>\n",
       "    .dataframe tbody tr th:only-of-type {\n",
       "        vertical-align: middle;\n",
       "    }\n",
       "\n",
       "    .dataframe tbody tr th {\n",
       "        vertical-align: top;\n",
       "    }\n",
       "\n",
       "    .dataframe thead th {\n",
       "        text-align: right;\n",
       "    }\n",
       "</style>\n",
       "<table border=\"1\" class=\"dataframe\">\n",
       "  <thead>\n",
       "    <tr style=\"text-align: right;\">\n",
       "      <th></th>\n",
       "      <th>년</th>\n",
       "      <th>월</th>\n",
       "      <th>캠벨얼리_가격(원/kg)</th>\n",
       "      <th>계절</th>\n",
       "    </tr>\n",
       "  </thead>\n",
       "  <tbody>\n",
       "    <tr>\n",
       "      <th>200</th>\n",
       "      <td>2016</td>\n",
       "      <td>7</td>\n",
       "      <td>3676.0</td>\n",
       "      <td>2</td>\n",
       "    </tr>\n",
       "    <tr>\n",
       "      <th>201</th>\n",
       "      <td>2016</td>\n",
       "      <td>7</td>\n",
       "      <td>3432.0</td>\n",
       "      <td>2</td>\n",
       "    </tr>\n",
       "    <tr>\n",
       "      <th>202</th>\n",
       "      <td>2016</td>\n",
       "      <td>7</td>\n",
       "      <td>3323.0</td>\n",
       "      <td>2</td>\n",
       "    </tr>\n",
       "    <tr>\n",
       "      <th>203</th>\n",
       "      <td>2016</td>\n",
       "      <td>7</td>\n",
       "      <td>3309.0</td>\n",
       "      <td>2</td>\n",
       "    </tr>\n",
       "    <tr>\n",
       "      <th>204</th>\n",
       "      <td>2016</td>\n",
       "      <td>7</td>\n",
       "      <td>3318.0</td>\n",
       "      <td>2</td>\n",
       "    </tr>\n",
       "    <tr>\n",
       "      <th>...</th>\n",
       "      <td>...</td>\n",
       "      <td>...</td>\n",
       "      <td>...</td>\n",
       "      <td>...</td>\n",
       "    </tr>\n",
       "    <tr>\n",
       "      <th>1728</th>\n",
       "      <td>2020</td>\n",
       "      <td>9</td>\n",
       "      <td>3620.0</td>\n",
       "      <td>3</td>\n",
       "    </tr>\n",
       "    <tr>\n",
       "      <th>1729</th>\n",
       "      <td>2020</td>\n",
       "      <td>9</td>\n",
       "      <td>3618.0</td>\n",
       "      <td>3</td>\n",
       "    </tr>\n",
       "    <tr>\n",
       "      <th>1730</th>\n",
       "      <td>2020</td>\n",
       "      <td>9</td>\n",
       "      <td>3691.0</td>\n",
       "      <td>3</td>\n",
       "    </tr>\n",
       "    <tr>\n",
       "      <th>1731</th>\n",
       "      <td>2020</td>\n",
       "      <td>9</td>\n",
       "      <td>3567.0</td>\n",
       "      <td>3</td>\n",
       "    </tr>\n",
       "    <tr>\n",
       "      <th>1732</th>\n",
       "      <td>2020</td>\n",
       "      <td>9</td>\n",
       "      <td>3761.0</td>\n",
       "      <td>3</td>\n",
       "    </tr>\n",
       "  </tbody>\n",
       "</table>\n",
       "<p>1533 rows × 4 columns</p>\n",
       "</div>"
      ],
      "text/plain": [
       "         년  월  캠벨얼리_가격(원/kg)  계절\n",
       "200   2016  7         3676.0   2\n",
       "201   2016  7         3432.0   2\n",
       "202   2016  7         3323.0   2\n",
       "203   2016  7         3309.0   2\n",
       "204   2016  7         3318.0   2\n",
       "...    ... ..            ...  ..\n",
       "1728  2020  9         3620.0   3\n",
       "1729  2020  9         3618.0   3\n",
       "1730  2020  9         3691.0   3\n",
       "1731  2020  9         3567.0   3\n",
       "1732  2020  9         3761.0   3\n",
       "\n",
       "[1533 rows x 4 columns]"
      ]
     },
     "execution_count": 27,
     "metadata": {},
     "output_type": "execute_result"
    }
   ],
   "source": [
    "grape_season = grape_weather.copy()\n",
    "\n",
    "# 계절 = 0: 겨울(12~2월) // 1 : 봄(3~5월) // 2: 여름(6~8월) // 3: 가을(9~11월)\n",
    "grape_season['계절'] = (grape_season['월'] // 3 % 4) \n",
    "grape_season[200:]"
   ]
  },
  {
   "cell_type": "code",
   "execution_count": 28,
   "id": "1e0bd85c",
   "metadata": {
    "ExecuteTime": {
     "end_time": "2022-10-17T08:14:38.540328Z",
     "start_time": "2022-10-17T08:14:38.537454Z"
    }
   },
   "outputs": [],
   "source": [
    "season_list = []\n",
    "for season in grape_season['계절']:\n",
    "    if season == 0:\n",
    "        season_list.append('겨울')\n",
    "    elif season == 1:\n",
    "        season_list.append('봄')\n",
    "    elif season == 2:\n",
    "        season_list.append('여름')\n",
    "    else:\n",
    "        season_list.append('가을')\n",
    "\n",
    "grape_season['계절_한글'] = season_list"
   ]
  },
  {
   "cell_type": "code",
   "execution_count": 29,
   "id": "79ecc7d3",
   "metadata": {
    "ExecuteTime": {
     "end_time": "2022-10-17T08:14:38.606940Z",
     "start_time": "2022-10-17T08:14:38.541284Z"
    }
   },
   "outputs": [
    {
     "data": {
      "image/png": "[encoded data removed]",
      "text/plain": [
       "<Figure size 1152x432 with 1 Axes>"
      ]
     },
     "metadata": {
      "needs_background": "light"
     },
     "output_type": "display_data"
    }
   ],
   "source": [
    "grape_season.boxplot(column='캠벨얼리_가격(원/kg)', by = '계절_한글', figsize=(16,6) , fontsize=20)\n",
    "grape_season.drop(columns=['계절_한글'], inplace=True)"
   ]
  },
  {
   "cell_type": "markdown",
   "id": "a4418415",
   "metadata": {},
   "source": [
    "### [계절 결론]\n",
    "> 겨울의 편차가 크고, 가을의 편차가 적음 -> 수확시기의 영향을 받음"
   ]
  },
  {
   "cell_type": "code",
   "execution_count": 30,
   "id": "3d4430af",
   "metadata": {
    "ExecuteTime": {
     "end_time": "2022-10-17T08:14:38.612403Z",
     "start_time": "2022-10-17T08:14:38.608252Z"
    }
   },
   "outputs": [
    {
     "data": {
      "text/html": [
       "<div>\n",
       "<style scoped>\n",
       "    .dataframe tbody tr th:only-of-type {\n",
       "        vertical-align: middle;\n",
       "    }\n",
       "\n",
       "    .dataframe tbody tr th {\n",
       "        vertical-align: top;\n",
       "    }\n",
       "\n",
       "    .dataframe thead th {\n",
       "        text-align: right;\n",
       "    }\n",
       "</style>\n",
       "<table border=\"1\" class=\"dataframe\">\n",
       "  <thead>\n",
       "    <tr style=\"text-align: right;\">\n",
       "      <th></th>\n",
       "      <th>캠벨얼리_가격(원/kg)</th>\n",
       "      <th>계절</th>\n",
       "    </tr>\n",
       "  </thead>\n",
       "  <tbody>\n",
       "    <tr>\n",
       "      <th>캠벨얼리_가격(원/kg)</th>\n",
       "      <td>1.000000</td>\n",
       "      <td>-0.056574</td>\n",
       "    </tr>\n",
       "    <tr>\n",
       "      <th>계절</th>\n",
       "      <td>-0.056574</td>\n",
       "      <td>1.000000</td>\n",
       "    </tr>\n",
       "  </tbody>\n",
       "</table>\n",
       "</div>"
      ],
      "text/plain": [
       "               캠벨얼리_가격(원/kg)        계절\n",
       "캠벨얼리_가격(원/kg)       1.000000 -0.056574\n",
       "계절                 -0.056574  1.000000"
      ]
     },
     "execution_count": 30,
     "metadata": {},
     "output_type": "execute_result"
    }
   ],
   "source": [
    "grape_season.iloc[:,2:].corr()"
   ]
  },
  {
   "cell_type": "code",
   "execution_count": 31,
   "id": "4d81ef57",
   "metadata": {
    "ExecuteTime": {
     "end_time": "2022-10-17T08:14:38.709173Z",
     "start_time": "2022-10-17T08:14:38.613466Z"
    }
   },
   "outputs": [
    {
     "data": {
      "text/plain": [
       "<AxesSubplot:title={'center':'캠벨얼리_가격(원/kg)'}, xlabel='월'>"
      ]
     },
     "execution_count": 31,
     "metadata": {},
     "output_type": "execute_result"
    },
    {
     "data": {
      "image/png": "[encoded data removed]",
      "text/plain": [
       "<Figure size 1152x432 with 1 Axes>"
      ]
     },
     "metadata": {
      "needs_background": "light"
     },
     "output_type": "display_data"
    }
   ],
   "source": [
    "grape_season.boxplot(column='캠벨얼리_가격(원/kg)', by = '월', figsize=(16,6), fontsize=20)"
   ]
  },
  {
   "cell_type": "code",
   "execution_count": 32,
   "id": "dd6e7351",
   "metadata": {
    "ExecuteTime": {
     "end_time": "2022-10-17T08:14:38.779320Z",
     "start_time": "2022-10-17T08:14:38.710306Z"
    }
   },
   "outputs": [
    {
     "data": {
      "text/plain": [
       "<AxesSubplot:title={'center':'캠벨얼리_가격(원/kg)'}, xlabel='년'>"
      ]
     },
     "execution_count": 32,
     "metadata": {},
     "output_type": "execute_result"
    },
    {
     "data": {
      "image/png": "[encoded data removed]",
      "text/plain": [
       "<Figure size 1152x432 with 1 Axes>"
      ]
     },
     "metadata": {
      "needs_background": "light"
     },
     "output_type": "display_data"
    }
   ],
   "source": [
    "grape_season.boxplot(column='캠벨얼리_가격(원/kg)', by = '년', figsize=(16,6), fontsize=20)"
   ]
  },
  {
   "cell_type": "code",
   "execution_count": 33,
   "id": "550616ce",
   "metadata": {
    "ExecuteTime": {
     "end_time": "2022-10-17T08:14:38.784658Z",
     "start_time": "2022-10-17T08:14:38.780498Z"
    },
    "scrolled": false
   },
   "outputs": [
    {
     "data": {
      "text/html": [
       "<div>\n",
       "<style scoped>\n",
       "    .dataframe tbody tr th:only-of-type {\n",
       "        vertical-align: middle;\n",
       "    }\n",
       "\n",
       "    .dataframe tbody tr th {\n",
       "        vertical-align: top;\n",
       "    }\n",
       "\n",
       "    .dataframe thead th {\n",
       "        text-align: right;\n",
       "    }\n",
       "</style>\n",
       "<table border=\"1\" class=\"dataframe\">\n",
       "  <thead>\n",
       "    <tr style=\"text-align: right;\">\n",
       "      <th></th>\n",
       "      <th>캠벨얼리_가격(원/kg)</th>\n",
       "      <th>계절</th>\n",
       "    </tr>\n",
       "  </thead>\n",
       "  <tbody>\n",
       "    <tr>\n",
       "      <th>캠벨얼리_가격(원/kg)</th>\n",
       "      <td>1.000000</td>\n",
       "      <td>-0.056574</td>\n",
       "    </tr>\n",
       "    <tr>\n",
       "      <th>계절</th>\n",
       "      <td>-0.056574</td>\n",
       "      <td>1.000000</td>\n",
       "    </tr>\n",
       "  </tbody>\n",
       "</table>\n",
       "</div>"
      ],
      "text/plain": [
       "               캠벨얼리_가격(원/kg)        계절\n",
       "캠벨얼리_가격(원/kg)       1.000000 -0.056574\n",
       "계절                 -0.056574  1.000000"
      ]
     },
     "execution_count": 33,
     "metadata": {},
     "output_type": "execute_result"
    }
   ],
   "source": [
    "grape_season.iloc[:,2:].corr()"
   ]
  },
  {
   "cell_type": "markdown",
   "id": "6856748c",
   "metadata": {},
   "source": [
    "----"
   ]
  },
  {
   "cell_type": "markdown",
   "id": "5ae72d2a",
   "metadata": {},
   "source": [
    "# Data Preproceesing (df = train, test & grape+shinemuscat)\n",
    "\n",
    "\n",
    "- 파생변수 생성 (17일까지, git 업로드)\n",
    "    - 1주전 , 2주전 가격 + 전년도 평균, 계절 평균 가격\n",
    "    - 1주전 , 2주전 거래량 + 전년도 평균, 계절 평균 거래량\n",
    "    - 날짜의 데이터 - [계절 파생변수 생성](https://stackoverflow.com/questions/16139306/determine-season-given-timestamp-in-python-using-datetime) (현재 날짜 기준: 입춘, 입동 …)\n",
    "       "
   ]
  },
  {
   "cell_type": "code",
   "execution_count": 49,
   "id": "437643cd",
   "metadata": {
    "ExecuteTime": {
     "end_time": "2022-10-18T16:05:18.838972Z",
     "start_time": "2022-10-18T16:05:18.822262Z"
    }
   },
   "outputs": [
    {
     "name": "stdout",
     "output_type": "stream",
     "text": [
      "(1770, 4)\n"
     ]
    },
    {
     "data": {
      "text/html": [
       "<div>\n",
       "<style scoped>\n",
       "    .dataframe tbody tr th:only-of-type {\n",
       "        vertical-align: middle;\n",
       "    }\n",
       "\n",
       "    .dataframe tbody tr th {\n",
       "        vertical-align: top;\n",
       "    }\n",
       "\n",
       "    .dataframe thead th {\n",
       "        text-align: right;\n",
       "    }\n",
       "</style>\n",
       "<table border=\"1\" class=\"dataframe\">\n",
       "  <thead>\n",
       "    <tr style=\"text-align: right;\">\n",
       "      <th></th>\n",
       "      <th>date</th>\n",
       "      <th>요일</th>\n",
       "      <th>캠벨얼리_거래량(kg)</th>\n",
       "      <th>캠벨얼리_가격(원/kg)</th>\n",
       "    </tr>\n",
       "  </thead>\n",
       "  <tbody>\n",
       "    <tr>\n",
       "      <th>0</th>\n",
       "      <td>2016-01-01</td>\n",
       "      <td>금요일</td>\n",
       "      <td>0.0</td>\n",
       "      <td>0.0</td>\n",
       "    </tr>\n",
       "    <tr>\n",
       "      <th>1</th>\n",
       "      <td>2016-01-02</td>\n",
       "      <td>토요일</td>\n",
       "      <td>880.0</td>\n",
       "      <td>2014.0</td>\n",
       "    </tr>\n",
       "  </tbody>\n",
       "</table>\n",
       "</div>"
      ],
      "text/plain": [
       "         date   요일  캠벨얼리_거래량(kg)  캠벨얼리_가격(원/kg)\n",
       "0  2016-01-01  금요일           0.0            0.0\n",
       "1  2016-01-02  토요일         880.0         2014.0"
      ]
     },
     "execution_count": 49,
     "metadata": {},
     "output_type": "execute_result"
    }
   ],
   "source": [
    "preprocessing = df[['date','요일', '캠벨얼리_거래량(kg)', '캠벨얼리_가격(원/kg)']]\n",
    "print(preprocessing.shape)\n",
    "preprocessing.head(2)"
   ]
  },
  {
   "cell_type": "code",
   "execution_count": 50,
   "id": "bc3926bb",
   "metadata": {
    "ExecuteTime": {
     "end_time": "2022-10-18T16:05:19.236197Z",
     "start_time": "2022-10-18T16:05:19.218663Z"
    }
   },
   "outputs": [
    {
     "data": {
      "text/html": [
       "<div>\n",
       "<style scoped>\n",
       "    .dataframe tbody tr th:only-of-type {\n",
       "        vertical-align: middle;\n",
       "    }\n",
       "\n",
       "    .dataframe tbody tr th {\n",
       "        vertical-align: top;\n",
       "    }\n",
       "\n",
       "    .dataframe thead th {\n",
       "        text-align: right;\n",
       "    }\n",
       "</style>\n",
       "<table border=\"1\" class=\"dataframe\">\n",
       "  <thead>\n",
       "    <tr style=\"text-align: right;\">\n",
       "      <th></th>\n",
       "      <th>캠벨얼리_거래량(kg)</th>\n",
       "      <th>캠벨얼리_가격(원/kg)</th>\n",
       "    </tr>\n",
       "  </thead>\n",
       "  <tbody>\n",
       "    <tr>\n",
       "      <th>count</th>\n",
       "      <td>1.770000e+03</td>\n",
       "      <td>1770.000000</td>\n",
       "    </tr>\n",
       "    <tr>\n",
       "      <th>mean</th>\n",
       "      <td>1.180290e+05</td>\n",
       "      <td>3197.801695</td>\n",
       "    </tr>\n",
       "    <tr>\n",
       "      <th>std</th>\n",
       "      <td>2.444773e+05</td>\n",
       "      <td>2139.610264</td>\n",
       "    </tr>\n",
       "    <tr>\n",
       "      <th>min</th>\n",
       "      <td>0.000000e+00</td>\n",
       "      <td>0.000000</td>\n",
       "    </tr>\n",
       "    <tr>\n",
       "      <th>25%</th>\n",
       "      <td>9.900000e+02</td>\n",
       "      <td>2059.000000</td>\n",
       "    </tr>\n",
       "    <tr>\n",
       "      <th>50%</th>\n",
       "      <td>4.696100e+03</td>\n",
       "      <td>3285.500000</td>\n",
       "    </tr>\n",
       "    <tr>\n",
       "      <th>75%</th>\n",
       "      <td>7.825415e+04</td>\n",
       "      <td>4275.750000</td>\n",
       "    </tr>\n",
       "    <tr>\n",
       "      <th>max</th>\n",
       "      <td>1.490337e+06</td>\n",
       "      <td>25000.000000</td>\n",
       "    </tr>\n",
       "  </tbody>\n",
       "</table>\n",
       "</div>"
      ],
      "text/plain": [
       "       캠벨얼리_거래량(kg)  캠벨얼리_가격(원/kg)\n",
       "count  1.770000e+03    1770.000000\n",
       "mean   1.180290e+05    3197.801695\n",
       "std    2.444773e+05    2139.610264\n",
       "min    0.000000e+00       0.000000\n",
       "25%    9.900000e+02    2059.000000\n",
       "50%    4.696100e+03    3285.500000\n",
       "75%    7.825415e+04    4275.750000\n",
       "max    1.490337e+06   25000.000000"
      ]
     },
     "execution_count": 50,
     "metadata": {},
     "output_type": "execute_result"
    }
   ],
   "source": [
    "preprocessing.describe()"
   ]
  },
  {
   "cell_type": "markdown",
   "id": "b0c8cd8d",
   "metadata": {},
   "source": [
    "### 포도 값 15000원 이상 가격 -> 계절 평균으로 대체\n",
    "> FTA로 인한 가격상승 -> 예측 어려움"
   ]
  },
  {
   "cell_type": "code",
   "execution_count": 51,
   "id": "b57a6a45",
   "metadata": {
    "ExecuteTime": {
     "end_time": "2022-10-18T16:05:23.043714Z",
     "start_time": "2022-10-18T16:05:23.005637Z"
    }
   },
   "outputs": [
    {
     "name": "stdout",
     "output_type": "stream",
     "text": [
      "(1770, 7)\n"
     ]
    },
    {
     "data": {
      "text/html": [
       "<div>\n",
       "<style scoped>\n",
       "    .dataframe tbody tr th:only-of-type {\n",
       "        vertical-align: middle;\n",
       "    }\n",
       "\n",
       "    .dataframe tbody tr th {\n",
       "        vertical-align: top;\n",
       "    }\n",
       "\n",
       "    .dataframe thead th {\n",
       "        text-align: right;\n",
       "    }\n",
       "</style>\n",
       "<table border=\"1\" class=\"dataframe\">\n",
       "  <thead>\n",
       "    <tr style=\"text-align: right;\">\n",
       "      <th></th>\n",
       "      <th>date</th>\n",
       "      <th>요일</th>\n",
       "      <th>캠벨얼리_거래량(kg)</th>\n",
       "      <th>캠벨얼리_가격(원/kg)</th>\n",
       "      <th>월</th>\n",
       "      <th>년</th>\n",
       "      <th>계절</th>\n",
       "    </tr>\n",
       "  </thead>\n",
       "  <tbody>\n",
       "    <tr>\n",
       "      <th>0</th>\n",
       "      <td>2016-01-01</td>\n",
       "      <td>금요일</td>\n",
       "      <td>0.0</td>\n",
       "      <td>0.0</td>\n",
       "      <td>1</td>\n",
       "      <td>2016</td>\n",
       "      <td>0</td>\n",
       "    </tr>\n",
       "    <tr>\n",
       "      <th>1</th>\n",
       "      <td>2016-01-02</td>\n",
       "      <td>토요일</td>\n",
       "      <td>880.0</td>\n",
       "      <td>2014.0</td>\n",
       "      <td>1</td>\n",
       "      <td>2016</td>\n",
       "      <td>0</td>\n",
       "    </tr>\n",
       "  </tbody>\n",
       "</table>\n",
       "</div>"
      ],
      "text/plain": [
       "        date   요일  캠벨얼리_거래량(kg)  캠벨얼리_가격(원/kg)  월     년  계절\n",
       "0 2016-01-01  금요일           0.0            0.0  1  2016   0\n",
       "1 2016-01-02  토요일         880.0         2014.0  1  2016   0"
      ]
     },
     "execution_count": 51,
     "metadata": {},
     "output_type": "execute_result"
    }
   ],
   "source": [
    "preprocessing.date = pd.to_datetime(preprocessing.date)\n",
    "preprocessing['월'] = preprocessing['date'].dt.month \n",
    "preprocessing['년'] = preprocessing['date'].dt.year \n",
    "\n",
    "# 계절 = 0: 겨울(12~2월) // 1 : 봄(3~5월) // 2: 여름(6~8월) // 3: 가을(9~11월)\n",
    "preprocessing['계절'] = (preprocessing['월'] // 3 % 4) \n",
    "# preprocessing.drop(columns=['월','년'], inplace=True)\n",
    "print(preprocessing.shape)\n",
    "preprocessing.head(2)"
   ]
  },
  {
   "cell_type": "code",
   "execution_count": 52,
   "id": "6fdc5a85",
   "metadata": {
    "ExecuteTime": {
     "end_time": "2022-10-18T16:05:23.444788Z",
     "start_time": "2022-10-18T16:05:23.427800Z"
    }
   },
   "outputs": [
    {
     "data": {
      "text/html": [
       "<div>\n",
       "<style scoped>\n",
       "    .dataframe tbody tr th:only-of-type {\n",
       "        vertical-align: middle;\n",
       "    }\n",
       "\n",
       "    .dataframe tbody tr th {\n",
       "        vertical-align: top;\n",
       "    }\n",
       "\n",
       "    .dataframe thead th {\n",
       "        text-align: right;\n",
       "    }\n",
       "</style>\n",
       "<table border=\"1\" class=\"dataframe\">\n",
       "  <thead>\n",
       "    <tr style=\"text-align: right;\">\n",
       "      <th></th>\n",
       "      <th>date</th>\n",
       "      <th>요일</th>\n",
       "      <th>캠벨얼리_거래량(kg)</th>\n",
       "      <th>캠벨얼리_가격(원/kg)</th>\n",
       "      <th>월</th>\n",
       "      <th>년</th>\n",
       "      <th>계절</th>\n",
       "    </tr>\n",
       "  </thead>\n",
       "  <tbody>\n",
       "    <tr>\n",
       "      <th>122</th>\n",
       "      <td>2016-05-02</td>\n",
       "      <td>월요일</td>\n",
       "      <td>25.0</td>\n",
       "      <td>25000.0</td>\n",
       "      <td>5</td>\n",
       "      <td>2016</td>\n",
       "      <td>1</td>\n",
       "    </tr>\n",
       "    <tr>\n",
       "      <th>1501</th>\n",
       "      <td>2020-02-10</td>\n",
       "      <td>월요일</td>\n",
       "      <td>234.0</td>\n",
       "      <td>16115.0</td>\n",
       "      <td>2</td>\n",
       "      <td>2020</td>\n",
       "      <td>0</td>\n",
       "    </tr>\n",
       "  </tbody>\n",
       "</table>\n",
       "</div>"
      ],
      "text/plain": [
       "           date   요일  캠벨얼리_거래량(kg)  캠벨얼리_가격(원/kg)  월     년  계절\n",
       "122  2016-05-02  월요일          25.0        25000.0  5  2016   1\n",
       "1501 2020-02-10  월요일         234.0        16115.0  2  2020   0"
      ]
     },
     "execution_count": 52,
     "metadata": {},
     "output_type": "execute_result"
    }
   ],
   "source": [
    "preprocessing[preprocessing['캠벨얼리_가격(원/kg)'] > 15000]"
   ]
  },
  {
   "cell_type": "code",
   "execution_count": 53,
   "id": "6bcd057a",
   "metadata": {
    "ExecuteTime": {
     "end_time": "2022-10-18T16:05:24.915508Z",
     "start_time": "2022-10-18T16:05:24.902805Z"
    }
   },
   "outputs": [
    {
     "name": "stdout",
     "output_type": "stream",
     "text": [
      "4059.98\n",
      "4490.2\n"
     ]
    }
   ],
   "source": [
    "print(round(preprocessing.loc[(preprocessing['계절'] == 1)&(preprocessing['년'] == 2016),'캠벨얼리_가격(원/kg)'].mean(), 2))\n",
    "print(round(preprocessing.loc[(preprocessing['계절'] == 0)&(preprocessing['년'] == 2020),'캠벨얼리_가격(원/kg)'].mean(), 2))"
   ]
  },
  {
   "cell_type": "code",
   "execution_count": 54,
   "id": "c078ce41",
   "metadata": {
    "ExecuteTime": {
     "end_time": "2022-10-18T16:05:25.213404Z",
     "start_time": "2022-10-18T16:05:25.207352Z"
    }
   },
   "outputs": [],
   "source": [
    "preprocessing.loc[122, '캠벨얼리_가격(원/kg)'] = 4059.98\n",
    "preprocessing.loc[1501, '캠벨얼리_가격(원/kg)'] = 4490.2"
   ]
  },
  {
   "cell_type": "markdown",
   "id": "af3672f4",
   "metadata": {},
   "source": [
    "### 1, 2주전 거래량 & 가격 파생변수 생성"
   ]
  },
  {
   "cell_type": "code",
   "execution_count": 55,
   "id": "d17c2f05",
   "metadata": {
    "ExecuteTime": {
     "end_time": "2022-10-18T16:05:28.192522Z",
     "start_time": "2022-10-18T16:05:28.115724Z"
    }
   },
   "outputs": [],
   "source": [
    "# 1주 전 가격들의 평균내기(월~일, 0으로 된 날 개수 세는 코드와 그에 따른 평균 내는 코드로)\n",
    "# index 기준 10~16, 17~23, ...\n",
    "# index 기준 0~9는 농넷에서 찾아야 할 듯 합니다. so 2015년 12월 28부터 2015년 12월 31일까지 4일간의 데이터 찾아보자.\n",
    "\n",
    "A = [];B = []\n",
    "for x in range(10):\n",
    "    A.append(0)\n",
    "    B.append(0)\n",
    "\n",
    "for y in range(246):\n",
    "    s = 0;t = 0\n",
    "    for z in range(7):\n",
    "        s += preprocessing['캠벨얼리_거래량(kg)'].iloc[(y * 7) + z + 3]\n",
    "        t += preprocessing['캠벨얼리_가격(원/kg)'].iloc[(y * 7) + z + 3]\n",
    "    v_1 = (preprocessing['캠벨얼리_거래량(kg)'].iloc[(y * 7) + 3:(y * 7) + 10] == 0).sum()\n",
    "    v_2 = (preprocessing['캠벨얼리_가격(원/kg)'].iloc[(y * 7) + 3:(y * 7) + 10] == 0).sum()\n",
    "    for w in range(7):\n",
    "        A.append(s / (7 - v_1))\n",
    "        B.append(t / (7 - v_2))\n",
    "for z in range(7):\n",
    "    s += preprocessing['캠벨얼리_거래량(kg)'].iloc[1725 + z]\n",
    "    t += preprocessing['캠벨얼리_가격(원/kg)'].iloc[1725 + z]\n",
    "v_1 = (preprocessing['캠벨얼리_거래량(kg)'].iloc[1725:1732] == 0).sum()\n",
    "v_2 = (preprocessing['캠벨얼리_가격(원/kg)'].iloc[1725:1732] == 0).sum()\n",
    "A.append(s / (7 - v_1))\n",
    "B.append(t / (7 - v_2))\n",
    "Adf = pd.DataFrame(A, columns = ['캠벨얼리_거래량의_1주전_평균'])\n",
    "Bdf = pd.DataFrame(B, columns = ['캠벨얼리_가격의_1주전_평균'])\n",
    "preprocessing_1 = pd.concat([preprocessing, Adf, Bdf], axis=1)\n",
    "# preprocessing_1"
   ]
  },
  {
   "cell_type": "code",
   "execution_count": 56,
   "id": "42bd6c63",
   "metadata": {
    "ExecuteTime": {
     "end_time": "2022-10-18T16:05:28.676140Z",
     "start_time": "2022-10-18T16:05:28.583944Z"
    }
   },
   "outputs": [],
   "source": [
    "# 2주 전 가격들의 평균내기(월~일, 0으로 된 날 개수 세는 코드와 그에 따른 평균 내는 코드로)\n",
    "# index 기준 10~23, 24~37, ...\n",
    "# index 기준 0~16는 농넷에서 찾아야 할 듯 합니다. so 2015년 12월 21부터 2015년 12월 31일까지 11일간의 데이터 찾아보자.\n",
    "\n",
    "C = [];D = []\n",
    "for x in range(17):\n",
    "    C.append(0)\n",
    "    D.append(0)\n",
    "\n",
    "for y in range(245):\n",
    "    s = 0;t = 0\n",
    "    for z in range(14):\n",
    "        s += preprocessing['캠벨얼리_거래량(kg)'].iloc[(y * 7) + z + 3]\n",
    "        t += preprocessing['캠벨얼리_가격(원/kg)'].iloc[(y * 7) + z + 3]\n",
    "    v_1 = (preprocessing['캠벨얼리_거래량(kg)'].iloc[(y * 7) + 3:(y * 7) + 17] == 0).sum()\n",
    "    v_2 = (preprocessing['캠벨얼리_가격(원/kg)'].iloc[(y * 7) + 3:(y * 7) + 17] == 0).sum()\n",
    "    for w in range(7):\n",
    "        C.append(s / (14 - v_1))\n",
    "        D.append(t / (14 - v_2))\n",
    "for z in range(14):\n",
    "    s += preprocessing['캠벨얼리_거래량(kg)'].iloc[1718 + z]\n",
    "    t += preprocessing['캠벨얼리_가격(원/kg)'].iloc[1718 + z]\n",
    "v_1 = (preprocessing['캠벨얼리_거래량(kg)'].iloc[1718:1732] == 0).sum()\n",
    "v_2 = (preprocessing['캠벨얼리_가격(원/kg)'].iloc[1718:1732] == 0).sum()\n",
    "C.append(s / (14 - v_1))\n",
    "D.append(t / (14 - v_2))\n",
    "Cdf = pd.DataFrame(C, columns = ['캠벨얼리_거래량의_2주전_평균'])\n",
    "Ddf = pd.DataFrame(D, columns = ['캠벨얼리_가격의_2주전_평균'])\n",
    "preprocessing_2 = pd.concat([preprocessing_1, Cdf, Ddf], axis=1)\n",
    "# preprocessing_2"
   ]
  },
  {
   "cell_type": "code",
   "execution_count": 57,
   "id": "e3759034",
   "metadata": {
    "ExecuteTime": {
     "end_time": "2022-10-18T16:05:29.650417Z",
     "start_time": "2022-10-18T16:05:29.635556Z"
    }
   },
   "outputs": [],
   "source": [
    "# 샤인머스켓 결측치 0으로 대체\n",
    "preprocessing_2 = preprocessing_2.fillna(0)"
   ]
  },
  {
   "cell_type": "code",
   "execution_count": 58,
   "id": "24145bd5",
   "metadata": {
    "ExecuteTime": {
     "end_time": "2022-10-18T16:05:30.074635Z",
     "start_time": "2022-10-18T16:05:30.067285Z"
    }
   },
   "outputs": [
    {
     "data": {
      "text/plain": [
       "1    460\n",
       "2    460\n",
       "3    429\n",
       "0    421\n",
       "Name: 계절, dtype: int64"
      ]
     },
     "execution_count": 58,
     "metadata": {},
     "output_type": "execute_result"
    }
   ],
   "source": [
    "# 계절 = 0: 겨울(12~2월) // 1 : 봄(3~5월) // 2: 여름(6~8월) // 3: 가을(9~11월)\n",
    "preprocessing_2.계절.value_counts()"
   ]
  },
  {
   "cell_type": "code",
   "execution_count": 59,
   "id": "f9447820",
   "metadata": {
    "ExecuteTime": {
     "end_time": "2022-10-18T16:05:31.214479Z",
     "start_time": "2022-10-18T16:05:31.195466Z"
    }
   },
   "outputs": [
    {
     "name": "stdout",
     "output_type": "stream",
     "text": [
      "2842.2570071258906\n",
      "3579.573869565217\n",
      "3839.013043478261\n",
      "2373.902097902098\n",
      "\n",
      "2405.3494061757733\n",
      "2851.8923913043495\n",
      "208771.40739130432\n",
      "257696.7601398601\n"
     ]
    }
   ],
   "source": [
    "# 계절별 평균가격\n",
    "print(preprocessing_2.loc[preprocessing_2.계절 == 0, '캠벨얼리_가격(원/kg)'].mean())\n",
    "print(preprocessing_2.loc[preprocessing_2.계절 == 1, '캠벨얼리_가격(원/kg)'].mean())\n",
    "print(preprocessing_2.loc[preprocessing_2.계절 == 2, '캠벨얼리_가격(원/kg)'].mean())\n",
    "print(preprocessing_2.loc[preprocessing_2.계절 == 3, '캠벨얼리_가격(원/kg)'].mean())\n",
    "print()\n",
    "\n",
    "# 계절별 평균거래량.\n",
    "print(preprocessing_2.loc[preprocessing_2.계절 == 0, '캠벨얼리_거래량(kg)'].mean())\n",
    "print(preprocessing_2.loc[preprocessing_2.계절 == 1, '캠벨얼리_거래량(kg)'].mean())\n",
    "print(preprocessing_2.loc[preprocessing_2.계절 == 2, '캠벨얼리_거래량(kg)'].mean())\n",
    "print(preprocessing_2.loc[preprocessing_2.계절 == 3, '캠벨얼리_거래량(kg)'].mean())"
   ]
  },
  {
   "cell_type": "code",
   "execution_count": 60,
   "id": "897bf5c4",
   "metadata": {
    "ExecuteTime": {
     "end_time": "2022-10-18T16:05:35.347464Z",
     "start_time": "2022-10-18T16:05:35.335831Z"
    }
   },
   "outputs": [
    {
     "data": {
      "text/plain": [
       "Index(['date', '요일', '캠벨얼리_거래량(kg)', '캠벨얼리_가격(원/kg)', '월', '년', '계절',\n",
       "       '캠벨얼리_거래량의_1주전_평균', '캠벨얼리_가격의_1주전_평균', '캠벨얼리_거래량의_2주전_평균',\n",
       "       '캠벨얼리_가격의_2주전_평균'],\n",
       "      dtype='object')"
      ]
     },
     "execution_count": 60,
     "metadata": {},
     "output_type": "execute_result"
    }
   ],
   "source": [
    "preprocessing_2.columns"
   ]
  },
  {
   "cell_type": "markdown",
   "id": "d7259ef3",
   "metadata": {},
   "source": [
    "## 캠벨얼리 파일저장"
   ]
  },
  {
   "cell_type": "code",
   "execution_count": 46,
   "id": "e2dea3fb",
   "metadata": {
    "ExecuteTime": {
     "end_time": "2022-10-18T15:38:22.331209Z",
     "start_time": "2022-10-18T15:38:22.317547Z"
    }
   },
   "outputs": [
    {
     "data": {
      "text/plain": [
       "(1770, 9)"
      ]
     },
     "execution_count": 46,
     "metadata": {},
     "output_type": "execute_result"
    }
   ],
   "source": [
    "grape_df = preprocessing_2_shine[['date', '요일', '캠벨얼리_거래량(kg)', '캠벨얼리_가격(원/kg)',\n",
    "                                  '캠벨얼리_거래량의_1주전_평균', '캠벨얼리_가격의_1주전_평균', '캠벨얼리_거래량의_2주전_평균',\n",
    "                                   '캠벨얼리_가격의_2주전_평균','계절']]\n",
    "grape_df.shape"
   ]
  },
  {
   "cell_type": "code",
   "execution_count": 195,
   "id": "051fe529",
   "metadata": {
    "ExecuteTime": {
     "end_time": "2022-10-17T09:44:56.735213Z",
     "start_time": "2022-10-17T09:44:56.692320Z"
    }
   },
   "outputs": [],
   "source": [
    "grape_df.to_csv(processed_path+'캠벨얼리_전처리후.csv', index = False)"
   ]
  },
  {
   "cell_type": "markdown",
   "id": "82b9eb41",
   "metadata": {
    "ExecuteTime": {
     "end_time": "2022-10-04T01:05:20.247124Z",
     "start_time": "2022-10-04T01:05:20.244449Z"
    }
   },
   "source": [
    "## 상관분석"
   ]
  },
  {
   "cell_type": "markdown",
   "id": "b3a386dc",
   "metadata": {},
   "source": [
    "### 전처리 후 상관분석"
   ]
  },
  {
   "cell_type": "code",
   "execution_count": 47,
   "id": "0531aa76",
   "metadata": {
    "ExecuteTime": {
     "end_time": "2022-10-18T15:38:32.176037Z",
     "start_time": "2022-10-18T15:38:32.167037Z"
    }
   },
   "outputs": [],
   "source": [
    "preprocessing_grape = preprocessing_2_shine[['date', '요일', '캠벨얼리_거래량(kg)', '캠벨얼리_가격(원/kg)', '캠벨얼리_거래량의_1주전_평균', '캠벨얼리_가격의_1주전_평균',\n",
    "        '캠벨얼리_거래량의_2주전_평균','캠벨얼리_가격의_2주전_평균', '계절']]\n"
   ]
  },
  {
   "cell_type": "markdown",
   "id": "25786364",
   "metadata": {},
   "source": [
    "### 켐벨얼리 상관계수, p-value 검정"
   ]
  },
  {
   "cell_type": "code",
   "execution_count": 197,
   "id": "2fe4d96d",
   "metadata": {
    "ExecuteTime": {
     "end_time": "2022-10-17T09:44:58.817102Z",
     "start_time": "2022-10-17T09:44:58.638386Z"
    }
   },
   "outputs": [
    {
     "data": {
      "image/png": "[encoded data removed]",
      "text/plain": [
       "<Figure size 936x576 with 2 Axes>"
      ]
     },
     "metadata": {
      "needs_background": "light"
     },
     "output_type": "display_data"
    }
   ],
   "source": [
    "preprocessing_grape_corr = preprocessing_grape.copy()\n",
    "preprocessing_grape_corr = preprocessing_grape_corr.corr().round(2)\n",
    "ax = sns.heatmap(preprocessing_grape_corr, annot=True)\n",
    "plt.title('Preprocessing Grape Heatmap', fontsize=20)\n",
    "plt.show()"
   ]
  },
  {
   "cell_type": "code",
   "execution_count": 198,
   "id": "c22f424d",
   "metadata": {
    "ExecuteTime": {
     "end_time": "2022-10-17T09:44:58.823622Z",
     "start_time": "2022-10-17T09:44:58.818705Z"
    }
   },
   "outputs": [
    {
     "name": "stdout",
     "output_type": "stream",
     "text": [
      "캠벨얼리_거래량(kg)\n",
      "Covariance:-35724345.50\n",
      "Correlation:-0.07\n",
      "P-value:0.0027\n",
      "\n",
      "\n",
      "캠벨얼리_거래량의_1주전_평균\n",
      "Covariance:-105648421.12\n",
      "Correlation:-0.21\n",
      "P-value:0.0000\n",
      "\n",
      "\n",
      "캠벨얼리_가격의_1주전_평균\n",
      "Covariance:1434960.26\n",
      "Correlation:0.47\n",
      "P-value:0.0000\n",
      "\n",
      "\n",
      "캠벨얼리_거래량의_2주전_평균\n",
      "Covariance:-108358182.25\n",
      "Correlation:-0.21\n",
      "P-value:0.0000\n",
      "\n",
      "\n",
      "캠벨얼리_가격의_2주전_평균\n",
      "Covariance:1362179.10\n",
      "Correlation:0.45\n",
      "P-value:0.0000\n",
      "\n",
      "\n",
      "계절\n",
      "Covariance:-138.93\n",
      "Correlation:-0.06\n",
      "P-value:0.0097\n",
      "\n",
      "\n"
     ]
    }
   ],
   "source": [
    "import scipy.stats as stats\n",
    "\n",
    "Y =  preprocessing_grape['캠벨얼리_가격(원/kg)'].values\n",
    "\n",
    "for item in ['캠벨얼리_거래량(kg)', '캠벨얼리_거래량의_1주전_평균', '캠벨얼리_가격의_1주전_평균',\n",
    "        '캠벨얼리_거래량의_2주전_평균','캠벨얼리_가격의_2주전_평균', '계절']:\n",
    "    print(item)\n",
    "    X = preprocessing_grape[item].values\n",
    "    print('Covariance:{:.2f}'.format(np.cov(X,Y)[0,1]))\n",
    "    print('Correlation:{:.2f}'.format(stats.pearsonr(X,Y)[0]))\n",
    "    print('P-value:{:.4f}'.format(stats.pearsonr(X,Y)[1]))\n",
    "    print('\\n')"
   ]
  }
 ],
 "metadata": {
  "kernelspec": {
   "display_name": "Python 3 (ipykernel)",
   "language": "python",
   "name": "python3"
  },
  "language_info": {
   "codemirror_mode": {
    "name": "ipython",
    "version": 3
   },
   "file_extension": ".py",
   "mimetype": "text/x-python",
   "name": "python",
   "nbconvert_exporter": "python",
   "pygments_lexer": "ipython3",
   "version": "3.8.13"
  },
  "toc": {
   "base_numbering": 1,
   "nav_menu": {},
   "number_sections": true,
   "sideBar": true,
   "skip_h1_title": false,
   "title_cell": "Table of Contents",
   "title_sidebar": "Contents",
   "toc_cell": false,
   "toc_position": {
    "height": "calc(100% - 180px)",
    "left": "10px",
    "top": "150px",
    "width": "302.391px"
   },
   "toc_section_display": true,
   "toc_window_display": true
  },
  "vscode": {
   "interpreter": {
    "hash": "d79fe73791ab29c6ec0de2cca89b61fcb1b25e59ef9ef690fb8b059e744e544e"
   }
  }
 },
 "nbformat": 4,
 "nbformat_minor": 5
}
