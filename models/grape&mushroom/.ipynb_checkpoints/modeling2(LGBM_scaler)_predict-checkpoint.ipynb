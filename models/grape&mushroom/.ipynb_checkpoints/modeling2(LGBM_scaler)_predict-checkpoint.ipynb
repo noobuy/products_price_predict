{
 "cells": [
  {
   "cell_type": "markdown",
   "id": "dc826e45",
   "metadata": {},
   "source": [
    "\n",
    "\n",
    "| EDA dataframe      | Description |due|\n",
    "| ----------- | ----------- |----------- |\n",
    "| grape_df  | 캠벨얼리 가격/거래량 + 소비자 물가 지수 + 자동차용경유 + 날씨(4개-평균기온, 평균온량, 일강수량, 일교차) + 수출입(4개) + 재배면적 + 샤인머스켓 거래량 + 실업률_경제활동인구(2개-경제활동인구, 실업률) + 최저시급    |20190101 ~ 20201104|\n",
    "| shinemuscat_df   |샤인마스캇  가격/거래량 + 소비자 물가 지수 + 자동차용경유 + 날씨(4개-평균기온, 평균온량, 일강수량, 일교차) + 수출입(4개) + 재배면적 + 블루베리 거래량 + 실업률_경제활동인구(2개-경제활동인구, 실업률) + 최저시급        |20190101 ~ 20201104|\n",
    "| df      | grape_train + shinemuscat_train       | 20190101 ~ 2020928|\n",
    "\n",
    "\n",
    "**train accuracy / test accuracy 의 차이 비교 overfitting = 20% 이상 (10~20%)**"
   ]
  },
  {
   "cell_type": "markdown",
   "id": "5613f031",
   "metadata": {
    "ExecuteTime": {
     "end_time": "2022-10-18T11:35:29.633950Z",
     "start_time": "2022-10-18T11:35:29.630097Z"
    }
   },
   "source": [
    "https://dacon.io/competitions/official/235801/codeshare/4063?page=1&dtype=recent\n",
    "\n",
    "[lgbm 튜닝](https://dacon.io/competitions/official/235698/talkboard/404322)"
   ]
  },
  {
   "cell_type": "code",
   "execution_count": 1,
   "id": "90f1b68c",
   "metadata": {
    "ExecuteTime": {
     "end_time": "2022-10-18T11:29:58.732700Z",
     "start_time": "2022-10-18T11:29:58.012721Z"
    }
   },
   "outputs": [
    {
     "name": "stderr",
     "output_type": "stream",
     "text": [
      "/var/folders/lm/z4n_2b8s6rj3_vv57sg789kc0000gn/T/ipykernel_12602/2031877544.py:10: DeprecationWarning: Importing display from IPython.core.display is deprecated since IPython 7.14, please import from IPython display\n",
      "  from IPython.core.display import display, HTML\n"
     ]
    }
   ],
   "source": [
    "import matplotlib.pyplot as plt\n",
    "plt.rcParams['font.family'] = 'AppleGothic'\n",
    "\n",
    "from numpy import array\n",
    "import pandas as pd\n",
    "import matplotlib.pyplot as plt\n",
    "import numpy as np\n",
    "import math\n",
    "import matplotlib as mpl\n",
    "from IPython.core.display import display, HTML\n",
    "from datetime import datetime\n",
    "from datetime import timedelta\n",
    "from dateutil.relativedelta import relativedelta\n",
    "from sklearn.preprocessing import MinMaxScaler, RobustScaler\n",
    "from sklearn.model_selection import train_test_split, RandomizedSearchCV\n",
    "from sklearn.metrics import mean_squared_error, r2_score, mean_absolute_error\n",
    "from statsmodels.tsa.seasonal import seasonal_decompose, STL\n",
    "import urllib.request\n",
    "import requests\n",
    "import json\n",
    "import datetime\n",
    "import os\n",
    "from datetime import datetime\n",
    "import seaborn as sns\n",
    "\n",
    "\n",
    "import warnings\n",
    "warnings.filterwarnings('ignore')"
   ]
  },
  {
   "cell_type": "code",
   "execution_count": 2,
   "id": "816a5f41",
   "metadata": {
    "ExecuteTime": {
     "end_time": "2022-10-18T11:30:00.603841Z",
     "start_time": "2022-10-18T11:30:00.596935Z"
    }
   },
   "outputs": [],
   "source": [
    "# iMAC\n",
    "\n",
    "raw_path = '/Users/cge/Documents/yeardream/project/kurly/products_price_predict/data/raw/'\n",
    "processed_path = '/Users/cge/Documents/yeardream/project/kurly/products_price_predict/data/processed/'"
   ]
  },
  {
   "cell_type": "code",
   "execution_count": 1,
   "id": "68248762",
   "metadata": {
    "ExecuteTime": {
     "end_time": "2022-10-18T11:28:58.841316Z",
     "start_time": "2022-10-18T11:28:58.838887Z"
    }
   },
   "outputs": [],
   "source": [
    "# Macbook\n",
    "    \n",
    "# raw_path = '/Users/goeun/Documents/YearDream/ProJect/kurly_project/products_price_predict/data/raw/'\n",
    "# processed_path = '/Users/goeun/Documents/YearDream/ProJect/kurly_project/products_price_predict/data/processed/'"
   ]
  },
  {
   "cell_type": "code",
   "execution_count": 4,
   "id": "30a0f587",
   "metadata": {
    "ExecuteTime": {
     "end_time": "2022-10-18T11:30:11.421635Z",
     "start_time": "2022-10-18T11:30:11.380627Z"
    }
   },
   "outputs": [
    {
     "name": "stdout",
     "output_type": "stream",
     "text": [
      "(1770, 9)\n",
      "(1770, 9)\n",
      "(291, 44)\n",
      "(228, 22)\n"
     ]
    }
   ],
   "source": [
    "# tomato = pd.read_csv(processed_path+'tomato.csv')\n",
    "grape = pd.read_csv(processed_path+'캠벨얼리_전처리후.csv')\n",
    "shinemuscat = pd.read_csv(processed_path+'샤인머스켓_전처리후.csv')\n",
    "\n",
    "train = pd.read_csv(raw_path+'train.csv')\n",
    "test = pd.read_csv(raw_path+'test.csv')\n",
    "private = pd.read_csv(raw_path+'private_data.csv')\n",
    "submission = pd.read_csv(raw_path+'sample_submission.csv')\n",
    "\n",
    "print(grape.shape)\n",
    "print(shinemuscat.shape)\n",
    "print(private.shape)\n",
    "print(submission.shape)"
   ]
  },
  {
   "cell_type": "code",
   "execution_count": 6,
   "id": "fb419025",
   "metadata": {
    "ExecuteTime": {
     "end_time": "2022-10-18T11:29:05.019722Z",
     "start_time": "2022-10-18T11:29:04.988100Z"
    }
   },
   "outputs": [
    {
     "data": {
      "text/plain": [
       "(Index(['date', '요일', '캠벨얼리_거래량(kg)', '캠벨얼리_가격(원/kg)', '소비자물가지수', '자동차용경유',\n",
       "        '재배지역_평균기온', '재배지역_평균운량', '재배지역_일강수량', '재배지역_일교차', '샤인마스캇_거래량(kg)',\n",
       "        '수출(중량)', '수출(금액)', '수입(중량)', '수입(금액)', '재배면적(ha)', '최저시급', '경제활동인구',\n",
       "        '실업률 (%)'],\n",
       "       dtype='object'),\n",
       " Index(['date', '요일', '샤인마스캇_거래량(kg)', '샤인마스캇_가격(원/kg)', '소비자물가지수', '자동차용경유',\n",
       "        '재배지역_평균기온', '재배지역_평균운량', '재배지역_일강수량', '재배지역_일교차', '수출(중량)', '수출(금액)',\n",
       "        '수입(중량)', '수입(금액)', '재배면적(ha)', '블루베리_거래물량(kg)', '최저시급', '경제활동인구',\n",
       "        '실업률 (%)'],\n",
       "       dtype='object'))"
      ]
     },
     "execution_count": 6,
     "metadata": {},
     "output_type": "execute_result"
    }
   ],
   "source": [
    "grape_external = pd.read_csv(processed_path+'grape_실업률추가.csv')\n",
    "shinemuscat_external = pd.read_csv(processed_path+'shinemuscat_실업률추가.csv')\n",
    "grape_external.columns, shinemuscat_external.columns"
   ]
  },
  {
   "cell_type": "code",
   "execution_count": 9,
   "id": "7116dda8",
   "metadata": {
    "ExecuteTime": {
     "end_time": "2022-10-18T07:45:33.987468Z",
     "start_time": "2022-10-18T07:45:33.980662Z"
    }
   },
   "outputs": [],
   "source": [
    "grape_scaler2['date'] = pd.to_datetime(grape_scaler2['date'])\n",
    "grape_scaler2.set_index('date',drop=True,inplace=True)\n",
    "\n",
    "shinemuscat_scaler2['date'] = pd.to_datetime(shinemuscat_scaler2['date'])\n",
    "shinemuscat_scaler2.set_index('date',drop=True,inplace=True)"
   ]
  },
  {
   "cell_type": "markdown",
   "id": "f0c893df",
   "metadata": {},
   "source": [
    "# LGBM(LightGBM)"
   ]
  },
  {
   "cell_type": "markdown",
   "id": "3deeb979",
   "metadata": {},
   "source": [
    "## 캠벨얼리\n",
    "성능을 알아보기 위한 모델 <br> 캠벨얼리 가격을 예측\n",
    "[lightgbm](https://tpwkcorqhd.tistory.com/32)"
   ]
  },
  {
   "cell_type": "code",
   "execution_count": 7,
   "id": "fb6ccf79",
   "metadata": {
    "ExecuteTime": {
     "end_time": "2022-10-18T11:30:55.311476Z",
     "start_time": "2022-10-18T11:30:55.302302Z"
    }
   },
   "outputs": [],
   "source": [
    "private2 = private.copy()\n",
    "private2.drop(columns=['요일','배추_거래량(kg)', '배추_가격(원/kg)', '무_거래량(kg)', '무_가격(원/kg)',\n",
    "       '양파_거래량(kg)', '양파_가격(원/kg)', '건고추_거래량(kg)', '건고추_가격(원/kg)',\n",
    "       '마늘_거래량(kg)', '마늘_가격(원/kg)', '대파_거래량(kg)', '대파_가격(원/kg)',\n",
    "       '얼갈이배추_거래량(kg)', '얼갈이배추_가격(원/kg)', '양배추_거래량(kg)', '양배추_가격(원/kg)',\n",
    "       '깻잎_거래량(kg)', '깻잎_가격(원/kg)', '시금치_거래량(kg)', '시금치_가격(원/kg)',\n",
    "       '미나리_거래량(kg)', '미나리_가격(원/kg)', '당근_거래량(kg)', '당근_가격(원/kg)',\n",
    "       '파프리카_거래량(kg)', '파프리카_가격(원/kg)', '새송이_거래량(kg)', '새송이_가격(원/kg)',\n",
    "       '팽이버섯_거래량(kg)', '팽이버섯_가격(원/kg)', '토마토_거래량(kg)', '토마토_가격(원/kg)',\n",
    "       '청상추_거래량(kg)', '청상추_가격(원/kg)', '백다다기_거래량(kg)', '백다다기_가격(원/kg)',\n",
    "       '애호박_거래량(kg)', '애호박_가격(원/kg)','샤인마스캇_거래량(kg)', '샤인마스캇_가격(원/kg)'], inplace=True)"
   ]
  },
  {
   "cell_type": "code",
   "execution_count": 8,
   "id": "9a19fcea",
   "metadata": {
    "ExecuteTime": {
     "end_time": "2022-10-18T11:30:58.743219Z",
     "start_time": "2022-10-18T11:30:58.726506Z"
    },
    "scrolled": true
   },
   "outputs": [],
   "source": [
    "private2['date'] = private2.date.astype(str).str.replace('-','')\n",
    "private2['date'] = pd.to_datetime(private2.date, format='%Y%m%d')\n",
    "\n",
    "\n",
    "t = ['월요일', '화요일', '수요일', '목요일', '금요일', '토요일', '일요일']\n",
    "private2['요일'] = 0\n",
    "temp = []\n",
    "for i in range(len(private2)):\n",
    "      temp.append(t[int(private2['date'][i].weekday())])\n",
    "private2['요일'] = temp\n",
    "\n",
    "private2 = private2[['date', '요일', '캠벨얼리_거래량(kg)', '캠벨얼리_가격(원/kg)',]]"
   ]
  },
  {
   "cell_type": "code",
   "execution_count": 52,
   "id": "67ae4c6b",
   "metadata": {
    "ExecuteTime": {
     "end_time": "2022-10-18T11:47:03.576288Z",
     "start_time": "2022-10-18T11:47:03.571810Z"
    }
   },
   "outputs": [
    {
     "data": {
      "text/plain": [
       "Index(['date', '요일', '캠벨얼리_거래량(kg)', '캠벨얼리_가격(원/kg)', '캠벨얼리_거래량의_1주전_평균',\n",
       "       '캠벨얼리_가격의_1주전_평균', '캠벨얼리_거래량의_2주전_평균', '캠벨얼리_가격의_2주전_평균', '계절'],\n",
       "      dtype='object')"
      ]
     },
     "execution_count": 52,
     "metadata": {},
     "output_type": "execute_result"
    }
   ],
   "source": [
    "grape.columns"
   ]
  },
  {
   "cell_type": "code",
   "execution_count": 109,
   "id": "dad635e0",
   "metadata": {
    "ExecuteTime": {
     "end_time": "2022-10-18T12:07:41.835293Z",
     "start_time": "2022-10-18T12:07:41.811444Z"
    }
   },
   "outputs": [],
   "source": [
    "class Nong1:\n",
    "    \n",
    "\n",
    "  def __init__(self, df, test):\n",
    "    self.df = df\n",
    "    self.test = test\n",
    "    self.df = pd.concat([self.df, self.test], axis=0)\n",
    "    self.df = self.df[1:].replace(0, np.NaN)\n",
    "#     self.df = self.df.interpolate().fillna(0)\n",
    "    self.df.date = pd.to_datetime(self.df.date)\n",
    "    self.df = pd.concat([self.df, pd.get_dummies(self.df['요일'])], axis=1)\n",
    "    self.feature = self.df.columns[2:]\n",
    "    self.df = self.df.reset_index(drop=True)\n",
    "\n",
    "  def set_feature(self,name):\n",
    "    self.name = name\n",
    "    self.name1 = name+ \"_가격(원/kg)\"\n",
    "    self.name2 = name+ \"_거래량(kg)\"\n",
    "    self.name3 = name+ \"_거래량의_1주전_평균\"\n",
    "    self.name4 = name+ '_가격의_1주전_평균'\n",
    "    self.name5 = name+ '_거래량의_2주전_평균'\n",
    "    self.name6 = name+ '_가격의_2주전_평균'\n",
    "    self.name7 = '계절'\n",
    "    self.feature = [self.name1, self.name2, self.name3, self.name4, self.name5, self.name6, self.name7,'금요일',   '목요일',   '수요일',   '월요일',   '일요일',   '토요일',   '화요일', 'resid']\n",
    "\n",
    "  def set_target(self,week):\n",
    "    if week == 1:\n",
    "      self.df['target'] = self.df[self.name1].shift(-8)\n",
    "    elif week == 2:\n",
    "      self.df['target'] = self.df[self.name1].shift(-15)\n",
    "    \n",
    "    self.df['resid'] = 0\n",
    "    stl = STL(self.df[['date', self.name1]].set_index('date'), period=12)\n",
    "    res = stl.fit()\n",
    "    self.df['resid'] = res.resid.values\n",
    "\n",
    "  def set_model_lgb(self):\n",
    "    import lightgbm as LGBMRegressor\n",
    "    self.scaler = RobustScaler()\n",
    "    self.df[self.feature] = self.scaler.fit_transform(self.df[self.feature])\n",
    "    self.df_learn = self.df[self.df['target'].notnull()]\n",
    "    self.X = self.df_learn[self.feature]\n",
    "    self.y = self.df_learn['target']\n",
    "    \n",
    "    self.valid_split = 1770\n",
    "    \n",
    "    self.X_train = self.df_learn[self.feature][:self.valid_split].values\n",
    "    self.y_train = self.df_learn['target'][:self.valid_split].values\n",
    "    self.X_test = self.df_learn[self.feature][self.valid_split:].values\n",
    "    self.y_test = self.df_learn['target'][self.valid_split:].values\n",
    "    # self.X_train, self.X_test, self.y_train, self.y_test = train_test_split(self.X, self.y, test_size=0.2, shuffle=False)\n",
    "\n",
    "    self.params= {\n",
    "                'metric':'mae',\n",
    "                'seed':42     \n",
    "                }  \n",
    "#     self.num_round = 10\n",
    "    \n",
    "#     self.train_ds = lgb.Dataset(self.X_train,  label = self.y_train)\n",
    "#     self.test_ds = lgb.Dataset(self.X_test,  label = self.y_test)\n",
    "\n",
    "    self.model = LGBMRegressor(n_estimators=30, learning_rate=0.12)\n",
    "    self.model.fit(X_train, y_train)\n",
    "      \n",
    "  def get_plot(self):  \n",
    "\n",
    "    self.y_pred = self.model.predict(self.X)\n",
    "    self.RMSE = mean_squared_error(self.y, self.y_pred) ** 0.5\n",
    "\n",
    "    plt.figure(figsize=(20, 10), dpi=300)\n",
    "    plt.title(self.name + ' 가격 예측 결과'+   '   RMSE : ' + str(self.RMSE)[:7])\n",
    "    plt.ylabel(self.name + ' 가격')\n",
    "    plt.plot(np.array(self.y.reshape(-1,1)), alpha = 0.9, label = 'Real')\n",
    "    plt.plot(self.model.predict(self.X).reshape(-1,1), alpha = 0.6, linestyle = \"--\", label = 'Predict')\n",
    "    plt.legend()\n",
    "    plt.show()\n",
    "\n",
    "  def get_price(self):\n",
    "    self.price = self.model.predict(self.df[self.feature].iloc[len(self.df)-1].values)\n",
    "    return self.price[0][0]"
   ]
  },
  {
   "cell_type": "code",
   "execution_count": 110,
   "id": "82b3dae2",
   "metadata": {
    "ExecuteTime": {
     "end_time": "2022-10-18T12:07:43.214709Z",
     "start_time": "2022-10-18T12:07:43.182857Z"
    },
    "scrolled": false
   },
   "outputs": [],
   "source": [
    "my_nong1 = Nong1(grape, private2)\n",
    "\n",
    "my_nong1.set_feature('캠벨얼리')\n",
    "\n",
    "my_nong1.set_target(1)"
   ]
  },
  {
   "cell_type": "code",
   "execution_count": 111,
   "id": "6db82fc0",
   "metadata": {
    "ExecuteTime": {
     "end_time": "2022-10-18T12:07:44.260657Z",
     "start_time": "2022-10-18T12:07:44.218613Z"
    }
   },
   "outputs": [
    {
     "ename": "TypeError",
     "evalue": "'module' object is not callable",
     "output_type": "error",
     "traceback": [
      "\u001b[0;31m---------------------------------------------------------------------------\u001b[0m",
      "\u001b[0;31mTypeError\u001b[0m                                 Traceback (most recent call last)",
      "Input \u001b[0;32mIn [111]\u001b[0m, in \u001b[0;36m<cell line: 1>\u001b[0;34m()\u001b[0m\n\u001b[0;32m----> 1\u001b[0m \u001b[43mmy_nong1\u001b[49m\u001b[38;5;241;43m.\u001b[39;49m\u001b[43mset_model_lgb\u001b[49m\u001b[43m(\u001b[49m\u001b[43m)\u001b[49m\n",
      "Input \u001b[0;32mIn [109]\u001b[0m, in \u001b[0;36mNong1.set_model_lgb\u001b[0;34m(self)\u001b[0m\n\u001b[1;32m     53\u001b[0m     \u001b[38;5;28mself\u001b[39m\u001b[38;5;241m.\u001b[39mparams\u001b[38;5;241m=\u001b[39m {\n\u001b[1;32m     54\u001b[0m                 \u001b[38;5;124m'\u001b[39m\u001b[38;5;124mmetric\u001b[39m\u001b[38;5;124m'\u001b[39m:\u001b[38;5;124m'\u001b[39m\u001b[38;5;124mmae\u001b[39m\u001b[38;5;124m'\u001b[39m,\n\u001b[1;32m     55\u001b[0m                 \u001b[38;5;124m'\u001b[39m\u001b[38;5;124mseed\u001b[39m\u001b[38;5;124m'\u001b[39m:\u001b[38;5;241m42\u001b[39m     \n\u001b[1;32m     56\u001b[0m                 }  \n\u001b[1;32m     57\u001b[0m \u001b[38;5;66;03m#     self.num_round = 10\u001b[39;00m\n\u001b[1;32m     58\u001b[0m     \n\u001b[1;32m     59\u001b[0m \u001b[38;5;66;03m#     self.train_ds = lgb.Dataset(self.X_train,  label = self.y_train)\u001b[39;00m\n\u001b[1;32m     60\u001b[0m \u001b[38;5;66;03m#     self.test_ds = lgb.Dataset(self.X_test,  label = self.y_test)\u001b[39;00m\n\u001b[0;32m---> 62\u001b[0m     \u001b[38;5;28mself\u001b[39m\u001b[38;5;241m.\u001b[39mmodel \u001b[38;5;241m=\u001b[39m \u001b[43mLGBMRegressor\u001b[49m\u001b[43m(\u001b[49m\u001b[43mn_estimators\u001b[49m\u001b[38;5;241;43m=\u001b[39;49m\u001b[38;5;241;43m30\u001b[39;49m\u001b[43m,\u001b[49m\u001b[43m \u001b[49m\u001b[43mlearning_rate\u001b[49m\u001b[38;5;241;43m=\u001b[39;49m\u001b[38;5;241;43m0.12\u001b[39;49m\u001b[43m)\u001b[49m\n\u001b[1;32m     63\u001b[0m     \u001b[38;5;28mself\u001b[39m\u001b[38;5;241m.\u001b[39mmodel\u001b[38;5;241m.\u001b[39mfit(X_train, y_train)\n",
      "\u001b[0;31mTypeError\u001b[0m: 'module' object is not callable"
     ]
    }
   ],
   "source": [
    "my_nong1.set_model_lgb()"
   ]
  },
  {
   "cell_type": "code",
   "execution_count": 108,
   "id": "a96cd953",
   "metadata": {
    "ExecuteTime": {
     "end_time": "2022-10-18T12:03:53.703040Z",
     "start_time": "2022-10-18T12:03:53.665622Z"
    }
   },
   "outputs": [
    {
     "ename": "AttributeError",
     "evalue": "'Nong1' object has no attribute 'model'",
     "output_type": "error",
     "traceback": [
      "\u001b[0;31m---------------------------------------------------------------------------\u001b[0m",
      "\u001b[0;31mAttributeError\u001b[0m                            Traceback (most recent call last)",
      "Input \u001b[0;32mIn [108]\u001b[0m, in \u001b[0;36m<cell line: 1>\u001b[0;34m()\u001b[0m\n\u001b[0;32m----> 1\u001b[0m \u001b[43mmy_nong1\u001b[49m\u001b[38;5;241;43m.\u001b[39;49m\u001b[43mget_plot\u001b[49m\u001b[43m(\u001b[49m\u001b[43m)\u001b[49m\n",
      "Input \u001b[0;32mIn [105]\u001b[0m, in \u001b[0;36mNong1.get_plot\u001b[0;34m(self)\u001b[0m\n\u001b[1;32m     66\u001b[0m \u001b[38;5;28;01mdef\u001b[39;00m \u001b[38;5;21mget_plot\u001b[39m(\u001b[38;5;28mself\u001b[39m):  \n\u001b[0;32m---> 68\u001b[0m   \u001b[38;5;28mself\u001b[39m\u001b[38;5;241m.\u001b[39my_pred \u001b[38;5;241m=\u001b[39m \u001b[38;5;28;43mself\u001b[39;49m\u001b[38;5;241;43m.\u001b[39;49m\u001b[43mmodel\u001b[49m\u001b[38;5;241m.\u001b[39mpredict(\u001b[38;5;28mself\u001b[39m\u001b[38;5;241m.\u001b[39mX)\n\u001b[1;32m     69\u001b[0m   \u001b[38;5;28mself\u001b[39m\u001b[38;5;241m.\u001b[39mRMSE \u001b[38;5;241m=\u001b[39m mean_squared_error(\u001b[38;5;28mself\u001b[39m\u001b[38;5;241m.\u001b[39my, \u001b[38;5;28mself\u001b[39m\u001b[38;5;241m.\u001b[39my_pred) \u001b[38;5;241m*\u001b[39m\u001b[38;5;241m*\u001b[39m \u001b[38;5;241m0.5\u001b[39m\n\u001b[1;32m     71\u001b[0m   plt\u001b[38;5;241m.\u001b[39mfigure(figsize\u001b[38;5;241m=\u001b[39m(\u001b[38;5;241m20\u001b[39m, \u001b[38;5;241m10\u001b[39m), dpi\u001b[38;5;241m=\u001b[39m\u001b[38;5;241m300\u001b[39m)\n",
      "\u001b[0;31mAttributeError\u001b[0m: 'Nong1' object has no attribute 'model'"
     ]
    }
   ],
   "source": [
    "my_nong1.get_plot()"
   ]
  },
  {
   "cell_type": "markdown",
   "id": "c8dda137",
   "metadata": {},
   "source": [
    "### 모델 실행\n"
   ]
  },
  {
   "cell_type": "code",
   "execution_count": 50,
   "id": "5c73dfba",
   "metadata": {
    "ExecuteTime": {
     "end_time": "2022-10-18T11:45:45.186594Z",
     "start_time": "2022-10-18T11:45:45.109087Z"
    },
    "scrolled": true
   },
   "outputs": [
    {
     "name": "stdout",
     "output_type": "stream",
     "text": [
      "1\n",
      "None\n"
     ]
    },
    {
     "ename": "AttributeError",
     "evalue": "'Nong1' object has no attribute 'set_model'",
     "output_type": "error",
     "traceback": [
      "\u001b[0;31m---------------------------------------------------------------------------\u001b[0m",
      "\u001b[0;31mAttributeError\u001b[0m                            Traceback (most recent call last)",
      "Input \u001b[0;32mIn [50]\u001b[0m, in \u001b[0;36m<cell line: 8>\u001b[0;34m()\u001b[0m\n\u001b[1;32m     13\u001b[0m my_nong1\u001b[38;5;241m.\u001b[39mset_target(week)\n\u001b[1;32m     14\u001b[0m \u001b[38;5;28mprint\u001b[39m(my_nong1\u001b[38;5;241m.\u001b[39mset_target(week))\n\u001b[0;32m---> 15\u001b[0m \u001b[43mmy_nong1\u001b[49m\u001b[38;5;241;43m.\u001b[39;49m\u001b[43mset_model\u001b[49m()\n\u001b[1;32m     16\u001b[0m \u001b[38;5;28;01mif\u001b[39;00m week \u001b[38;5;241m==\u001b[39m \u001b[38;5;241m1\u001b[39m:\n\u001b[1;32m     17\u001b[0m   week1\u001b[38;5;241m.\u001b[39mappend(my_nong1\u001b[38;5;241m.\u001b[39mget_price())\n",
      "\u001b[0;31mAttributeError\u001b[0m: 'Nong1' object has no attribute 'set_model'"
     ]
    }
   ],
   "source": [
    "weeks = [1,2,4]\n",
    "features = ['캠벨얼리',] # 새송이버섯\n",
    "\n",
    "week1=[]\n",
    "week2=[]\n",
    "\n",
    "for week in weeks:\n",
    "  print(week)\n",
    "  for feature in features:\n",
    "    my_nong1 = Nong1(grape, private2)\n",
    "    my_nong1.set_feature(feature)\n",
    "    my_nong1.set_target(week)\n",
    "    print(my_nong1.set_target(week))\n",
    "    my_nong1.set_model()\n",
    "    if week == 1:\n",
    "      week1.append(my_nong1.get_price())\n",
    "    if week == 2:\n",
    "      week2.append(my_nong1.get_price())\n",
    "    print(feature)"
   ]
  }
 ],
 "metadata": {
  "kernelspec": {
   "display_name": "Python 3 (ipykernel)",
   "language": "python",
   "name": "python3"
  },
  "language_info": {
   "codemirror_mode": {
    "name": "ipython",
    "version": 3
   },
   "file_extension": ".py",
   "mimetype": "text/x-python",
   "name": "python",
   "nbconvert_exporter": "python",
   "pygments_lexer": "ipython3",
   "version": "3.8.13"
  },
  "toc": {
   "base_numbering": 1,
   "nav_menu": {},
   "number_sections": true,
   "sideBar": true,
   "skip_h1_title": false,
   "title_cell": "Table of Contents",
   "title_sidebar": "Contents",
   "toc_cell": false,
   "toc_position": {
    "height": "calc(100% - 180px)",
    "left": "10px",
    "top": "150px",
    "width": "302.398px"
   },
   "toc_section_display": true,
   "toc_window_display": true
  },
  "vscode": {
   "interpreter": {
    "hash": "7587b50de7af4570f14b9a7d90fb36f4140ebaa7b451de97d8e7fcd113e5d41f"
   }
  }
 },
 "nbformat": 4,
 "nbformat_minor": 5
}
